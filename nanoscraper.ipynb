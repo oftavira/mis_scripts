{
 "cells": [
  {
   "cell_type": "code",
   "execution_count": 71,
   "metadata": {},
   "outputs": [],
   "source": [
    "#\n",
    "#\n",
    "#\n",
    "#\n",
    "\n",
    "from urllib   import request\n",
    "from time     import sleep\n",
    "from bs4      import BeautifulSoup\n",
    "\n",
    "import numpy  as np\n",
    "import pandas as pd\n",
    "import requests\n",
    "import re\n",
    "\n",
    "# Links for IOP search\n",
    "\n",
    "IOP_S  = \"https://iopscience.iop.org/nsearch?terms=\"\n",
    "IOP_E  = \"&nextPage=2&previousPage=-1&currentPage=\"\n",
    "IOP_P  = \"&searchDatePeriod=anytime&orderBy=relevance&pageLength=50\"\n",
    "\n",
    "# Links for NATURE search\n",
    "\n",
    "NANO_S = 'https://nano.nature.com/search?term=freeText%3A'\n",
    "NANO_E = '&sort-by=relevance&page-number='\n",
    "NANO_P = '&workflow=article'\n",
    "\n",
    "\n",
    "\"\"\"===============================================================================================================================\"\"\"\n",
    "\n",
    "# -format- returns a string that can be readed as a query to IOP or NANO\n",
    "\n",
    "def format(query):\n",
    "    pre_form = query.split(\" \")\n",
    "    return \"+\".join(pre_form)\n",
    "\n",
    "\n",
    "\"\"\"===============================================================================================================================\"\"\"\n",
    "\n",
    "# Some pages may have problems if requested with -urllib- or -requests-, SwitchKitchen is implemented to\n",
    "# switch the way we obtain a BeautifulSoup object\n",
    "\n",
    "\n",
    "def SwitchKitchen(uri, kitchen = \"requests\", parse = \"lxml\"):\n",
    "\n",
    "    # Request with --requests.get(url)--\n",
    "\n",
    "    if   kitchen == \"requests\":\n",
    "         response = requests.get(uri)\n",
    "         soup     = BeautifulSoup(response.text, parse)\n",
    "\n",
    "    elif kitchen == \"urllib\":\n",
    "\n",
    "    # Request with --request.urlopen(url)--\n",
    "\n",
    "         response = request.urlopen(uri)\n",
    "         soup     = BeautifulSoup(response, parse)\n",
    "    else:\n",
    "        raise Exception(\"Problema en la elección del método mara obtener la respuesta del servidor.\")\n",
    "    return soup;\n",
    "\n",
    "\"\"\"===============================================================================================================================\"\"\"\n",
    "\n",
    "# /Souparticles : Returns a list of BeautifulSoup objects that contain articles\n",
    "\n",
    "# /material     : Is a str. containing the search term\n",
    "# /page         : The page in which we are searching\n",
    "# /max_try      : The maximum tries before givin up, commonly this is a result of a 400 status response from the server\n",
    "# /slpy         : Is the time between requests, recommended to prevent overloading requested server\n",
    "\n",
    "\n",
    "def souparticlesIOP(query, page, max_int = 5, slpy = 3):\n",
    "    # At the beginning our IOP Soup is a None object\n",
    "    soupIOP = None\n",
    "    ints  = 0\n",
    "\n",
    "    while ints<max_int:    \n",
    "    # We try to catch some content from the server\n",
    "\n",
    "        try:\n",
    "            uri      = IOP_S+ format(query) + IOP_E + str(page) + IOP_P\n",
    "            # If we catch a 200 response we can make a Beautifoul Soup (BS), parsing with lxml\n",
    "            soupIOP  = SwitchKitchen(uri,kitchen = \"urllib\")\n",
    "            break\n",
    "        except:\n",
    "            # If we catch an error, we can retry\n",
    "            print(\"Reintentando pag: \" + str(page))\n",
    "            sleep(slpy)\n",
    "            pass\n",
    "        finally:\n",
    "            ints +=1\n",
    "    \n",
    "    # For soupIOP == None this process needs to be repeated\n",
    "    if(soupIOP==None):\n",
    "        print( \"Por favor reinicie la busqueda para pag: \" + str(page))\n",
    "        return None;\n",
    "    else:\n",
    "        # Returning the articles in a BS object\n",
    "        print(\"Añadida pag: \" + str(page))\n",
    "        return soupIOP.find_all('div', {\"class\" : \"art-list-item-body\"})\n",
    "\n",
    "\"\"\"===============================================================================================================================\"\"\"\n",
    "\n",
    "def souparticlesNANO(query, page, max_int = 5, slpy = 3):\n",
    "    nanosoup = None\n",
    "    ints=0\n",
    "    while ints<max_int:\n",
    "        try:\n",
    "            uri      = NANO_S+'\"'+format(query)+'\"'+NANO_E+str(page)+NANO_P\n",
    "            nanosoup = SwitchKitchen(uri, kitchen = \"requests\")\n",
    "            break\n",
    "        except:\n",
    "            print(\"Reintentando pag: \" + str(page))\n",
    "            sleep(slpy)\n",
    "            pass\n",
    "        finally:\n",
    "            ints +=1\n",
    "    if(nanosoup==None):\n",
    "        print( \"Por favor reinicie la busqueda para pag: \" + str(page))\n",
    "        return None;\n",
    "    else:\n",
    "        print(\"Añadida pag: \" + str(page))\n",
    "        return nanosoup.find_all('li', {\"class\" : \"Results_listItem\" })\n",
    "\n",
    "\"\"\"===============================================================================================================================\"\"\"\n",
    "\n",
    "# -Pages- returns a list of pages, each element contains the articles within that page\n",
    "\n",
    "def PagesIOP(query):\n",
    "    raw_pages   = []\n",
    "    init_uri  = IOP_S+ format(query) + IOP_E + str(1) + IOP_P\n",
    "    init_soup = SwitchKitchen(init_uri,kitchen = \"urllib\")\n",
    "    end_pages = init_soup.findChild(\"p\",{\"class\":\"pgs small\"}).get_text().split(\" \")[2]\n",
    "    for i in range(1, int(end_pages)+1):\n",
    "        raw_pages.append(souparticlesIOP(query, i))\n",
    "    return raw_pages;\n",
    "\n",
    "\"\"\"===============================================================================================================================\"\"\"\n",
    "\n",
    "def PagesNANO(query, cut = 12):\n",
    "    raw_pages = []\n",
    "    init_uri  = NANO_S+'\"'+format(query)+'\"'+NANO_E+str(1)+NANO_P\n",
    "    init_soup = SwitchKitchen(init_uri,kitchen = \"requests\")\n",
    "    end_pages = init_soup.findChild(\"span\",{\"class\":\"Pagination_numOfPages\"})\n",
    "    num_of_pgs= int(end_pages.get_text().replace(\"\\n\",\"\").replace(\" \",\"\").replace(\",\",\"\"))\n",
    "    if num_of_pgs<12:\n",
    "        for i in range(1,num_of_pgs+1):\n",
    "            raw_pages.append(souparticlesNANO(query, i))\n",
    "    else:\n",
    "        for i in range(1, cut + 1 ):\n",
    "            raw_pages.append(souparticlesNANO(query, i))\n",
    "    return raw_pages;\n",
    "\n",
    "\"\"\"===============================================================================================================================\"\"\"\n",
    "\n",
    "# -stringify- returns a list of articles, each article containing it´s features, that can be readed as normal strings\n",
    "\n",
    "def stringifyIOP(raw_pages):\n",
    "    arts_db = []\n",
    "    for page in raw_pages:\n",
    "        for element in page:\n",
    "            try:\n",
    "                title     =     element.findChild('h2' , {\"class\"   : \"art-list-item-title\"}).findChild(\"a\")          # 0 title\n",
    "                abstract  =     element.findChild('div', {\"class\"   : \"article-text view-text-small\"}).findChild(\"p\") # 1 abstract\n",
    "                DOI       =     element.findChild('a'  , {\"class\"   : \"mr-2\"})                                        # 2 DOI\n",
    "                journal   =     element.findChild('em')                                                               # 3 Journal\n",
    "                #vol       =     element.findChild('b')                                                              \n",
    "                authors   =     element.find_all('span', {\"itemprop\": \"author\"})                                      # 4 auths\n",
    "\n",
    "                yearfind  =     element.find_all(\"p\"   , { \"class\" :\"small art-list-item-meta\"})                      # 5 year\n",
    "                year      =     int(yearfind[1].text[14:19])\n",
    "\n",
    "                arts_db.append([title.text ,abstract.text, DOI.text, journal.text,[auth.getText() for auth in authors], year])\n",
    "            except:\n",
    "                pass\n",
    "\n",
    "    return arts_db;\n",
    "\n",
    "\n",
    "\"\"\"===============================================================================================================================\"\"\"\n",
    "\n",
    "def stringifyNANO(raw_pages):\n",
    "    arts_db = []\n",
    "    for page in raw_pages:\n",
    "        for element in page:\n",
    "            try:\n",
    "                title       =     element.findChild(\"h2\").getText().replace(\"\\n\",\"\")                                # 0 Title\n",
    "                miscel      =     element.find_all(\"p\")\n",
    "\n",
    "                abstract    =     miscel[1].getText()                                                               # 1 Abstract\n",
    "                DOI         =     element.findChild('div', {\"class\": \"Doi\"}).getText()                              # 2 DOI\n",
    "                journal     =     miscel[0].findChild(\"strong\").getText()                                           # 3 Journal\n",
    "\n",
    "                #cited       =     miscel[2].getText()\n",
    "\n",
    "                authstag    =     element.findChild(\"ul\", {\"class\":\"PipeSepList Author\"})                           # 4 Auths\n",
    "                authors_tag =     authstag.find_all(\"li\")\n",
    "                authors_str = [author.getText().replace(\"\\n\",\"\") for author in authors_tag]\n",
    "\n",
    "                begi        =     miscel[0].getText().find(\"(\")\n",
    "                year        =     miscel[0].getText()[begi+1:begi+5]                                                # 5 Year\n",
    "\n",
    "                arts_db.append([title, abstract, DOI, journal, authors_str, year])\n",
    "            except:\n",
    "                pass\n",
    "\n",
    "    return arts_db;\n",
    "\n",
    "\"\"\"===============================================================================================================================\"\"\"\n",
    "\n",
    "# -query- returns a list of articles related to the search-term term*, note that this returns both IOP and NANO articles\n",
    "\n",
    "def query(terms):\n",
    "    all_arts = []\n",
    "\n",
    "    query_raw_iop  = PagesIOP(terms)\n",
    "    query_raw_nano = PagesNANO(terms)\n",
    "\n",
    "    IOP_DB         = stringifyIOP(query_raw_iop)\n",
    "    NANO_DB        = stringifyNANO(query_raw_nano)\n",
    "\n",
    "    for article in NANO_DB:\n",
    "        all_arts.append(article)\n",
    "    for article in IOP_DB:\n",
    "        all_arts.append(article)\n",
    "\n",
    "    return all_arts;\n",
    "\n",
    "\"\"\"===============================================================================================================================\"\"\"\n",
    "\n",
    "def search_kwords(arts, kwords):\n",
    "    candidates = []\n",
    "    count = 0\n",
    "    for art in arts:\n",
    "        if kwords in art[1]:\n",
    "            candidates.append(art)\n",
    "            count +=1\n",
    "    print(\"Coincidences: \" +str(count))\n",
    "    return candidates;\n",
    "\n",
    "\n",
    "\"\"\"===============================================================================================================================\"\"\"\n",
    "\n",
    "\n",
    "def pandas_dataframe(all_arts, name):\n",
    "    test_arts = {}\n",
    "    for i in range(0,6):\n",
    "        ls = []\n",
    "        for j in range(0,len(all_arts)):\n",
    "            ls.append(all_arts[j][i])\n",
    "        if i == 0:\n",
    "            test_arts.update(Title        = ls)\n",
    "        elif i == 1:\n",
    "            test_arts.update(Abstract     = ls)\n",
    "        elif i == 2:\n",
    "            test_arts.update(DOI          = ls)\n",
    "        elif i == 3:\n",
    "            test_arts.update(Journal      = ls)\n",
    "        elif i == 4:\n",
    "            test_arts.update(Auths        = ls)\n",
    "        else:\n",
    "            test_arts.update(Year         = ls)\n",
    "    pd.DataFrame(test_arts).to_pickle(\"mispepinillos/{}.pkl\".format(name))\n",
    "    return pd.DataFrame(test_arts);\n",
    "\n",
    "# To read a pandas dataframe local_datarame= pandas.read_pickle(\"folder/file.pkl\")\n",
    "\n",
    "\"\"\"===============================================================================================================================\"\"\"\n",
    "\n",
    "def geve_art(art_num, dataframe):\n",
    "    print(dataframe.iloc[art_num][\"Abstract\"].replace(\"\\n\", \"\"))\n",
    "    print(\"\\n\")\n",
    "    print(dataframe.iloc[art_num][\"Title\"].replace(\"\\n\", \"\"))\n",
    "    print(\"\\n\")\n",
    "    print(dataframe.iloc[art_num][\"Year\"])\n",
    "    print(\"\\n\")\n",
    "    print(dataframe.iloc[art_num][\"DOI\"])\n",
    "    print(\"\\n\")\n",
    "    print(dataframe.iloc[art_num][\"Journal\"])\n",
    "    return;\n",
    "\n",
    "\"\"\"===============================================================================================================================\"\"\"\n",
    "\n",
    "def dbsearch(word, db):\n",
    "    ls = []\n",
    "    for i in range(0,len(db)):\n",
    "        if word in db.iloc[i][\"Abstract\"].lower():\n",
    "            ls.append(i)\n",
    "        else:\n",
    "            pass\n",
    "    new_db = db.iloc [ls]\n",
    "    new_index = len(new_db)\n",
    "    new_db.set_index(np.arange(0,new_index),inplace=True)\n",
    "    return new_db; \n",
    "\n",
    "\"\"\"===============================================================================================================================\"\"\"\n",
    "\n",
    "def cite_manager(art, com, db = pd.Series([])):\n",
    "    if db.empty:\n",
    "        art = art.to_frame().transpose()\n",
    "        art = art.assign(comment = [com])\n",
    "        return art;\n",
    "    else:\n",
    "        art = art.to_frame().transpose()\n",
    "        art = art.assign(comment = [com])\n",
    "        db  = pd.concat([db,art], ignore_index=True, copy=False)\n",
    "        return db;\n"
   ]
  },
  {
   "cell_type": "code",
   "execution_count": 4,
   "metadata": {},
   "outputs": [
    {
     "name": "stdout",
     "output_type": "stream",
     "text": "Añadida pag: 1\nAñadida pag: 2\nAñadida pag: 3\nAñadida pag: 4\nAñadida pag: 5\nAñadida pag: 6\nAñadida pag: 7\nAñadida pag: 8\nAñadida pag: 1\nAñadida pag: 2\nAñadida pag: 3\nAñadida pag: 4\nAñadida pag: 5\n"
    }
   ],
   "source": [
    "q1 = query(\"znte films\")"
   ]
  },
  {
   "cell_type": "code",
   "execution_count": 7,
   "metadata": {},
   "outputs": [],
   "source": [
    "znte_films = pandas_dataframe(q1, \"ZnTeFilms\")"
   ]
  },
  {
   "cell_type": "code",
   "execution_count": 58,
   "metadata": {},
   "outputs": [
    {
     "data": {
      "text/plain": "'Growth of ZnTe films by pulsed laser deposition technique'"
     },
     "execution_count": 58,
     "metadata": {},
     "output_type": "execute_result"
    }
   ],
   "source": [
    "q1[][0]"
   ]
  },
  {
   "cell_type": "code",
   "execution_count": 8,
   "metadata": {},
   "outputs": [
    {
     "data": {
      "text/html": "<div>\n<style scoped>\n    .dataframe tbody tr th:only-of-type {\n        vertical-align: middle;\n    }\n\n    .dataframe tbody tr th {\n        vertical-align: top;\n    }\n\n    .dataframe thead th {\n        text-align: right;\n    }\n</style>\n<table border=\"1\" class=\"dataframe\">\n  <thead>\n    <tr style=\"text-align: right;\">\n      <th></th>\n      <th>Title</th>\n      <th>Abstract</th>\n      <th>DOI</th>\n      <th>Journal</th>\n      <th>Auths</th>\n      <th>Year</th>\n    </tr>\n  </thead>\n  <tbody>\n    <tr>\n      <th>0</th>\n      <td>Growth of ZnTe films by pulsed laser depositio...</td>\n      <td>Polycrystalline zinc telluride films were succ...</td>\n      <td>10.1016/j.jallcom.2012.06.063</td>\n      <td>Journal of Alloys and Compounds</td>\n      <td>[B.  Ghosh, D.  Ghosh, S.  Hussain, R.  Bhar, ...</td>\n      <td>2012</td>\n    </tr>\n    <tr>\n      <th>1</th>\n      <td>Thickness-dependent field emission from ZnTe f...</td>\n      <td>The thickness effect on the field emission pro...</td>\n      <td>10.1016/j.jallcom.2012.09.046</td>\n      <td>Journal of Alloys and Compounds</td>\n      <td>[Zhenxing Zhang, Jian Li, Haijun Zhang, Xiaoju...</td>\n      <td>2013</td>\n    </tr>\n    <tr>\n      <th>2</th>\n      <td>Effect of thickness on the microstructural, op...</td>\n      <td>ZnTe films of different thicknesses were depos...</td>\n      <td>10.1016/j.jallcom.2010.04.191</td>\n      <td>Journal of Alloys and Compounds</td>\n      <td>[A.R.  Balu, V.S.  Nagarethinam, A.  Thayumana...</td>\n      <td>2010</td>\n    </tr>\n    <tr>\n      <th>3</th>\n      <td>Growth of ZnTe films by pulsed laser depositio...</td>\n      <td>Polycrystalline zinc telluride films were succ...</td>\n      <td>10.1016/j.jallcom.2012.06.063</td>\n      <td>Journal of Alloys and Compounds</td>\n      <td>[B.  Ghosh, D.  Ghosh, S.  Hussain, R.  Bhar, ...</td>\n      <td>2012</td>\n    </tr>\n    <tr>\n      <th>4</th>\n      <td>Thickness-dependent field emission from ZnTe f...</td>\n      <td>The thickness effect on the field emission pro...</td>\n      <td>10.1016/j.jallcom.2012.09.046</td>\n      <td>Journal of Alloys and Compounds</td>\n      <td>[Zhenxing Zhang, Jian Li, Haijun Zhang, Xiaoju...</td>\n      <td>2013</td>\n    </tr>\n    <tr>\n      <th>...</th>\n      <td>...</td>\n      <td>...</td>\n      <td>...</td>\n      <td>...</td>\n      <td>...</td>\n      <td>...</td>\n    </tr>\n    <tr>\n      <th>400</th>\n      <td>Construction of high-quality CdS:Ga nanoribbo...</td>\n      <td>Silicon based optoelectronic integration is re...</td>\n      <td>https://doi.org/10.1088/0957-4484/22/40/405201</td>\n      <td>Nanotechnology</td>\n      <td>[Di Wu, Yang Jiang, Shanying Li, Fangze Li, Ju...</td>\n      <td>2011</td>\n    </tr>\n    <tr>\n      <th>401</th>\n      <td>High frequency dielectric properties of CaTiO...</td>\n      <td>We have investigated the far-IR, submillimetre...</td>\n      <td>https://doi.org/10.1088/0022-3727/38/5/012</td>\n      <td>J. Phys. D: Appl. Phys.</td>\n      <td>[A Pashkin, S Kamba, M Berta, J Petzelt, G D C...</td>\n      <td>2005</td>\n    </tr>\n    <tr>\n      <th>402</th>\n      <td>Combinatorial ion beam synthesis of semicondu...</td>\n      <td>Ion beam implantation is attractive since it a...</td>\n      <td>https://doi.org/10.1088/0957-0233/16/1/005</td>\n      <td>Meas. Sci. Technol.</td>\n      <td>[H Karl, I Großhans, B Stritzker]</td>\n      <td>2005</td>\n    </tr>\n    <tr>\n      <th>403</th>\n      <td>Vector frequency-comb Fourier-transform spect...</td>\n      <td>We determine infrared transmission amplitude a...</td>\n      <td>https://doi.org/10.1088/1367-2630/10/12/123007</td>\n      <td>New J. Phys.</td>\n      <td>[T Ganz, M Brehm, H G von Ribbeck, D W van der...</td>\n      <td>2008</td>\n    </tr>\n    <tr>\n      <th>404</th>\n      <td>Photoconductive, dielectric and percolation p...</td>\n      <td>Self-organized layers of anodic TiO2 nanotubes...</td>\n      <td>https://doi.org/10.1088/1361-6463/aa9b11</td>\n      <td>J. Phys. D: Appl. Phys.</td>\n      <td>[Jiří Kuchařík, Hanna Sopha, Milos Krbal, Ivan...</td>\n      <td>2018</td>\n    </tr>\n  </tbody>\n</table>\n<p>405 rows × 6 columns</p>\n</div>",
      "text/plain": "                                                 Title  \\\n0    Growth of ZnTe films by pulsed laser depositio...   \n1    Thickness-dependent field emission from ZnTe f...   \n2    Effect of thickness on the microstructural, op...   \n3    Growth of ZnTe films by pulsed laser depositio...   \n4    Thickness-dependent field emission from ZnTe f...   \n..                                                 ...   \n400   Construction of high-quality CdS:Ga nanoribbo...   \n401   High frequency dielectric properties of CaTiO...   \n402   Combinatorial ion beam synthesis of semicondu...   \n403   Vector frequency-comb Fourier-transform spect...   \n404   Photoconductive, dielectric and percolation p...   \n\n                                              Abstract  \\\n0    Polycrystalline zinc telluride films were succ...   \n1    The thickness effect on the field emission pro...   \n2    ZnTe films of different thicknesses were depos...   \n3    Polycrystalline zinc telluride films were succ...   \n4    The thickness effect on the field emission pro...   \n..                                                 ...   \n400  Silicon based optoelectronic integration is re...   \n401  We have investigated the far-IR, submillimetre...   \n402  Ion beam implantation is attractive since it a...   \n403  We determine infrared transmission amplitude a...   \n404  Self-organized layers of anodic TiO2 nanotubes...   \n\n                                                DOI  \\\n0                     10.1016/j.jallcom.2012.06.063   \n1                     10.1016/j.jallcom.2012.09.046   \n2                     10.1016/j.jallcom.2010.04.191   \n3                     10.1016/j.jallcom.2012.06.063   \n4                     10.1016/j.jallcom.2012.09.046   \n..                                              ...   \n400  https://doi.org/10.1088/0957-4484/22/40/405201   \n401      https://doi.org/10.1088/0022-3727/38/5/012   \n402      https://doi.org/10.1088/0957-0233/16/1/005   \n403  https://doi.org/10.1088/1367-2630/10/12/123007   \n404        https://doi.org/10.1088/1361-6463/aa9b11   \n\n                             Journal  \\\n0    Journal of Alloys and Compounds   \n1    Journal of Alloys and Compounds   \n2    Journal of Alloys and Compounds   \n3    Journal of Alloys and Compounds   \n4    Journal of Alloys and Compounds   \n..                               ...   \n400                   Nanotechnology   \n401          J. Phys. D: Appl. Phys.   \n402              Meas. Sci. Technol.   \n403                     New J. Phys.   \n404          J. Phys. D: Appl. Phys.   \n\n                                                 Auths  Year  \n0    [B.  Ghosh, D.  Ghosh, S.  Hussain, R.  Bhar, ...  2012  \n1    [Zhenxing Zhang, Jian Li, Haijun Zhang, Xiaoju...  2013  \n2    [A.R.  Balu, V.S.  Nagarethinam, A.  Thayumana...  2010  \n3    [B.  Ghosh, D.  Ghosh, S.  Hussain, R.  Bhar, ...  2012  \n4    [Zhenxing Zhang, Jian Li, Haijun Zhang, Xiaoju...  2013  \n..                                                 ...   ...  \n400  [Di Wu, Yang Jiang, Shanying Li, Fangze Li, Ju...  2011  \n401  [A Pashkin, S Kamba, M Berta, J Petzelt, G D C...  2005  \n402                  [H Karl, I Großhans, B Stritzker]  2005  \n403  [T Ganz, M Brehm, H G von Ribbeck, D W van der...  2008  \n404  [Jiří Kuchařík, Hanna Sopha, Milos Krbal, Ivan...  2018  \n\n[405 rows x 6 columns]"
     },
     "execution_count": 8,
     "metadata": {},
     "output_type": "execute_result"
    }
   ],
   "source": [
    "znte_films"
   ]
  },
  {
   "cell_type": "code",
   "execution_count": 66,
   "metadata": {},
   "outputs": [],
   "source": [
    "sputt_znte = dbsearch(\"sputt\", znte_films)"
   ]
  },
  {
   "cell_type": "code",
   "execution_count": 97,
   "metadata": {},
   "outputs": [
    {
     "name": "stdout",
     "output_type": "stream",
     "text": "Coincidences: 24\n"
    }
   ],
   "source": [
    "q2 = search_kwords(methods, \"method\")"
   ]
  },
  {
   "cell_type": "code",
   "execution_count": 115,
   "metadata": {},
   "outputs": [
    {
     "name": "stdout",
     "output_type": "stream",
     "text": "Colloidal nanocrystals (NCs) are among the most modular and versatile nanomaterial platforms for studying emerging phenomena in different fields thanks to their superb compositional and morphological tunability. A promising, yet challenging, application involves the use of colloidal NCs as light absorbers and electrocatalysts for water splitting. In this review we discuss how the tunability of these materials is ideal to understand the complex phenomena behind storing energy in chemical bonds and to optimize performance through structural and compositional modification. First, we describe the colloidal synthesis method as a means to achieve a high degree of control over single material NCs and NC heterostructures, including examples of the role of the ligands in modulating size and shape. Next, we focus on the use of NCs as light absorbers and catalysts to drive both the hydrogen evolution reaction (HER) and the oxygen evolution reaction (OER), together with some of the challenges related to the use of colloidal NCs as model systems and/or technological solution in water splitting. We conclude with a broader prospective on the use of colloidal chemistry for new material discovery.\n"
    }
   ],
   "source": [
    "print(q2[10][1])"
   ]
  },
  {
   "cell_type": "code",
   "execution_count": 94,
   "metadata": {},
   "outputs": [
    {
     "data": {
      "text/plain": "' Incorporation of an efficient β-In2S3 thin film as window material into CdTe photovoltaic devices'"
     },
     "execution_count": 94,
     "metadata": {},
     "output_type": "execute_result"
    }
   ],
   "source": [
    "methods[][0]"
   ]
  },
  {
   "cell_type": "code",
   "execution_count": 68,
   "metadata": {},
   "outputs": [
    {
     "name": "stdout",
     "output_type": "stream",
     "text": "Coincidences: 405\n"
    }
   ],
   "source": [
    "methods2 = search_kwords(q1,\"sputt\")"
   ]
  },
  {
   "cell_type": "code",
   "execution_count": 60,
   "metadata": {},
   "outputs": [
    {
     "data": {
      "text/plain": "[['Thickness-dependent field emission from ZnTe films prepared by magnetron sputtering',\n  'The thickness effect on the field emission properties of ZnTe films deposited on silicon substrates by magnetron sputtering is investigated. All the films exhibit amorphous structure with nanocrystalline embedded. As the thickness increases, the surface becomes much smoother, while the Zn/Te ratio, the turn-on field and the work function decrease. Their field-emission characteristics show a low turn-on field of 7.5Vμm−1 and a high current density of 67μAcm−2 at an electric field of 8.9Vμm−1. The thickness-dependent electron field emission phenomenon is explained by a space-charge-induced bandbending interlayer model.',\n  '10.1016/j.jallcom.2012.09.046',\n  'Journal of Alloys and Compounds',\n  ['Zhenxing Zhang',\n   'Jian Li',\n   'Haijun Zhang',\n   'Xiaojun Pan',\n   'Erqing Xie',\n   'More'],\n  '2013'],\n ['Thickness-dependent field emission from ZnTe films prepared by magnetron sputtering',\n  'The thickness effect on the field emission properties of ZnTe films deposited on silicon substrates by magnetron sputtering is investigated. All the films exhibit amorphous structure with nanocrystalline embedded. As the thickness increases, the surface becomes much smoother, while the Zn/Te ratio, the turn-on field and the work function decrease. Their field-emission characteristics show a low turn-on field of 7.5Vμm−1 and a high current density of 67μAcm−2 at an electric field of 8.9Vμm−1. The thickness-dependent electron field emission phenomenon is explained by a space-charge-induced bandbending interlayer model.',\n  '10.1016/j.jallcom.2012.09.046',\n  'Journal of Alloys and Compounds',\n  ['Zhenxing Zhang',\n   'Jian Li',\n   'Haijun Zhang',\n   'Xiaojun Pan',\n   'Erqing Xie',\n   'More'],\n  '2013'],\n ['Thickness-dependent field emission from ZnTe films prepared by magnetron sputtering',\n  'The thickness effect on the field emission properties of ZnTe films deposited on silicon substrates by magnetron sputtering is investigated. All the films exhibit amorphous structure with nanocrystalline embedded. As the thickness increases, the surface becomes much smoother, while the Zn/Te ratio, the turn-on field and the work function decrease. Their field-emission characteristics show a low turn-on field of 7.5Vμm−1 and a high current density of 67μAcm−2 at an electric field of 8.9Vμm−1. The thickness-dependent electron field emission phenomenon is explained by a space-charge-induced bandbending interlayer model.',\n  '10.1016/j.jallcom.2012.09.046',\n  'Journal of Alloys and Compounds',\n  ['Zhenxing Zhang',\n   'Jian Li',\n   'Haijun Zhang',\n   'Xiaojun Pan',\n   'Erqing Xie',\n   'More'],\n  '2013'],\n ['Thickness-dependent field emission from ZnTe films prepared by magnetron sputtering',\n  'The thickness effect on the field emission properties of ZnTe films deposited on silicon substrates by magnetron sputtering is investigated. All the films exhibit amorphous structure with nanocrystalline embedded. As the thickness increases, the surface becomes much smoother, while the Zn/Te ratio, the turn-on field and the work function decrease. Their field-emission characteristics show a low turn-on field of 7.5Vμm−1 and a high current density of 67μAcm−2 at an electric field of 8.9Vμm−1. The thickness-dependent electron field emission phenomenon is explained by a space-charge-induced bandbending interlayer model.',\n  '10.1016/j.jallcom.2012.09.046',\n  'Journal of Alloys and Compounds',\n  ['Zhenxing Zhang',\n   'Jian Li',\n   'Haijun Zhang',\n   'Xiaojun Pan',\n   'Erqing Xie',\n   'More'],\n  '2013'],\n ['Thickness-dependent field emission from ZnTe films prepared by magnetron sputtering',\n  'The thickness effect on the field emission properties of ZnTe films deposited on silicon substrates by magnetron sputtering is investigated. All the films exhibit amorphous structure with nanocrystalline embedded. As the thickness increases, the surface becomes much smoother, while the Zn/Te ratio, the turn-on field and the work function decrease. Their field-emission characteristics show a low turn-on field of 7.5Vμm−1 and a high current density of 67μAcm−2 at an electric field of 8.9Vμm−1. The thickness-dependent electron field emission phenomenon is explained by a space-charge-induced bandbending interlayer model.',\n  '10.1016/j.jallcom.2012.09.046',\n  'Journal of Alloys and Compounds',\n  ['Zhenxing Zhang',\n   'Jian Li',\n   'Haijun Zhang',\n   'Xiaojun Pan',\n   'Erqing Xie',\n   'More'],\n  '2013'],\n [' Ovonic threshold switching in polycrystalline zinc telluride thin films deposited by RF sputtering',\n  'Chalcogenide materials of the amorphous phase with low band gaps were reported to show Ovonic threshold switching (OTS), making them suitable for selection devices in cross-point memory arrays. Herein, we report that ZnTe films with polycrystalline structures show OTS behavior. Nearly stoichiometric ZnTe thin films were deposited by an RF sputtering method. X-ray diffraction analysis indicated that the films were polycrystalline. The optical band gaps of the ZnTe films were estimated as 2.2 eV from UV–visible spectroscopy transmittance measurements. Photoluminescence measurements indicated the existence of deep-level defects in the ZnTe thin films. Although these ZnTe films have a polycrystalline structure with a relatively high band gap, I–V profiles show OTS characteristics, with a selectivity of over 104, fast threshold switching time in the sub-10 ns scale, and thermal stability up to 400 °C. ZnTe also shows switching endurance for more than 109 cycles without Vth drift, maintaining its selectivity of 104. Thus, we improved the threshold switching characteristics by using a wide band-gap and polycrystalline-structured ZnTe-based chalcogenide material. Post-annealing experiments indicated that the thermal budget of the ZnTe thin film was sufficient for stacked cross-point array structures, thereby overcoming a previous limitation of chalcogenide switching materials. This material is promising for application in high-density cross-point memory arrays as the selection device.',\n  'https://doi.org/10.1088/1361-6528/aafe13',\n  ' Nanotechnology',\n  ['Taeho Kim', 'Youngjae Kim', 'Ingwan Lee', 'Dayoon Lee', 'Hyunchul Sohn'],\n  2019],\n [' Evaluation of Epitaxial ZnTe Films Prepared by RF Sputtering by Means of Ion Beam Channeling',\n  ' \\n Epitaxial films of Zinc telluride are deposited by rf sputtering on the clean surface of GaAs(100), InP(100) and GaSb(100) substrates, which have lattice mismatches with ZnTe of 7.6, 3.8 and 0.1%, respectively. Ion-channeling measurements are carried out to evaluate the crystalline quality of the ZnTe films. The defect density in the films greatly depends on the lattice mismatch between ZnTe and the substrates. The epitaxial films with thicknesses of 130 to 150 nm on GaAs, InP and GaSb give minimum aligned yields Xmin of 32, 18 and 8%, respectively. The value of Xmin of the film on GaSb is fairly small, comparable to the value for the single crystal. The dependences of the dechanneling probability on the incident-beam energy indicate the presence of dislocation lines. \\n ',\n  'https://doi.org/10.1143/JJAP.29.1039',\n  ' Jpn. J. Appl. Phys.',\n  ['Yoji Tokumitsu',\n   'Akira Kawabuchi',\n   'Haruyuki Kitayama',\n   'Takeshi Imura',\n   'Yukio Osaka',\n   'Fumitaka Nishiyama'],\n  1990],\n [' Epitaxial Growth of ZnTe on GaAs(100) by RF Sputtering',\n  ' \\n ZnTe is deposited epitaxially by rf sputtering on the clean surface of GaAs(100) substrate from which the surface native oxides have been etched away by H2 plasma treatment. The crystalline quality of ZnTe films, which depends on the substrate temperature, is evaluated by means of optical measurements and RHEED pattern observation. A ZnTe film prepared at a substrate temperature of 320°C is deposited epitaxially. \\n ',\n  'https://doi.org/10.1143/JJAP.28.293',\n  ' Jpn. J. Appl. Phys.',\n  ['Yoji Tokumitsu',\n   'Haruyuki Kitayama',\n   'Akira Kawabuchi',\n   'Takeshi Imura',\n   'Yukio Osaka'],\n  1989],\n [' Transparent cosputtered ITO–ZnO electrode ohmic contact to n-type ZnO for ZnO/GaN heterojunction light-emitting diode',\n  'A transparent cosputtered ITO–ZnO film was used as an ohmic contact electrode to the n-type ZnO layer. The contact resistance of the ITO–ZnO/n-ZnO contact system was optimized by a rapid thermal annealing (RTA) treatment. Through x-ray diffraction and Auger electron spectroscopy depth profile measurements, the achievement on the ohmic contact of the ITO–ZnO/n-ZnO contact system was attributed to the outdiffusion of the oxygen atoms at the n-type ZnO layer surface, which was favourable for the increase of the electron carriers. By contrast, the mechanism responsible for the degradation of the contact resistance was due to the significant outdiffusion of the zinc atoms at the n-type ZnO layer surface, which also resulted in the marked peak shift of the Zn2In2O5 phase. The resulting n-ZnO/p-GaN heterojunction light-emitting diode fabrication, which used the transparent ITO–ZnO/n-ZnO ohmic contact system, exhibited rectifying behaviour and emitted a near-ultraviolet radiation at approximately 410\\xa0nm.',\n  'https://doi.org/10.1088/0022-3727/46/31/315102',\n  ' J. Phys. D: Appl. Phys.',\n  ['Chia-Cheng Ho',\n   'Li-Wei Lai',\n   'Ching-Ting Lee',\n   'Kai-Chao Yang',\n   'Bo-Ting Lai',\n   'Day-Shan Liu'],\n  2013],\n [' Terahertz laminated-structure polarizer with high extinction ratio and transmission power',\n  \"A terahertz polarizer consisting of a laminated metal-slit array on a polymer film is presented. Here, the iterative design is efficiently performed with a mode-matching method; the proposed polarizer's characteristics are shown to be superior to those of conventional polarizers. To verify the proposed design, a copper metal-slit array was fabricated on a cyclo-olefin polymer film by sputtering and punching. Measurements confirm a high extinction ratio, below −50 dB from 0.28 to 1.09 THz and below −40 dB from 0.2 to 1.98 THz, with a TM-mode transmission power that averages 76% from 0.2 to 1.95 THz.\",\n  'https://doi.org/10.7567/APEX.8.032201',\n  ' Appl. Phys. Express',\n  ['Yudai Kishi',\n   'Masaya Nagai',\n   'John C. Young',\n   'Keisuke Takano',\n   'Masanori Hangyo',\n   'Takehito Suzuki'],\n  2015],\n [' Self-organized surface nanopatterns on Cd(Zn)Te crystals induced by medium-energy ion beam sputtering',\n  'Cadmium telluride (CT) and Zn-doped (~4\\xa0at%) CT (CZT) crystals grown by the Bridgman method were mechanically polished to achieve mirror-like surfaces and subsequently irradiated with medium-energy (30–200\\xa0keV) Ar+ ions under oblique incidence (60° with respect to the target normal). Atomic force microscopy shows that ion sputtering induces the formation of self-organized ripple nanopatterns with wavevector parallel to the ion beam projection on the surface on both CT and CZT targets. The ripple wavelength and amplitude (surface roughness) increase with ion energy. Even with such low doping level, the pattern formation dynamics differs between both materials and, in general, CZT surfaces roughen more easily than CT. In addition, an orthogonal ripple mode develops for extended irradiation, which is more prominent in CZT crystals. Spectroscopic ellipsometry reveals that the C(Z)T crystals have a high radiation hardness since ion bombardment does not induce an amorphized surface layer. This fact also implies that the nanostructured surfaces have significant photoluminescence response, one to two orders of magnitude larger than from as-prepared crystals. These results show that large-area (~cm2) surface nanostructuring by ion beams can be implemented in the fabrication of future C(Z)T-based devices.',\n  'https://doi.org/10.1088/0022-3727/46/45/455302',\n  ' J. Phys. D: Appl. Phys.',\n  ['R Gago',\n   'L Vázquez',\n   'F J Palomares',\n   'F Agulló-Rueda',\n   'M Vinnichenko',\n   'V Carcelén',\n   'J Olvera',\n   'J L Plaza',\n   'E Diéguez'],\n  2013],\n [' Electroplating Dysprosium from IL-Based Solutions: A Promising Electrochemical Step to Produce Stronger High Performance Nd(Dy)-Fe-B Sintered Magnets',\n  'An electrodeposition replacement to the commonly used physical vapor deposition methods used in enhancing the coercivity of Nd-Fe-B sintered magnets has been proposed. Dysprosium was galvanostatically electroplated on Nd-Fe-B sintered magnets that were previously electrochemically coated with copper. Electroplated dysprosium films were characterized by X-ray photoelectron spectroscopy, depth profiling, scanning electron micrographs, and energy dispersive X-ray spectroscopy. XPS analysis after argon ion sputtering indicates that minor impurities are only superficial as their atomic fractions in the sample nearly disappear with increasing etching time. The electrochemistry of synthesized dysprosium bis(trifluromethylsulfonyl)imide dissolved in the air- and water-stable ionic liquid 1-butyl-3-methylpyrrolidinium bis(trifluoromethylsuflonyl)imide was studied by cyclic voltammetry. Electroplating of metallic dysprosium was followed by a heat-treatment above the melting temperature of the Nd-rich phases of the sintered magnet base body whose magnetic characterization was performed in a hysteresis loop tracer for hard magnetic materials.',\n  'https://doi.org/10.1149/2.0911508jes',\n  ' J. Electrochem. Soc.',\n  ['Gottfried Suppan', 'Manfred Ruehrig', 'Andreas Kanitz', 'Heiner J. Gores'],\n  2015],\n [' Core–shell solar cell fabrication using heterostructure of ZnO-nanowires arrays decorated with sputtered CdTe-nanoparticles',\n  'Core–shell heterostructures of ZnO-NWs/CdTe-NPs were fabricated through covering ZnO-NWs arrays using CdTe-NPs and the room temperature RF magnetron sputtering method. The influence of different CdTe-NPs deposition time (5, 20, 40 and 60\\u2009min) on the physical properties of core–shell heterostructures were investigated. In order to achieve the highest coverage level and a wide range of optical absorption at a visible range for a ZnO-NWs/CdTe-NPs (60\\u2009min) array, FTO/ZnO-NWs/CdTe-NPs (60\\u2009min)/Ni/Au core–shell solar cells were used. Solar cell fabrication was performed by soaking the samples in a saturated CdCl2 solution in methanol and a post-annealing treatment at 400 °C for 1\\u2009h in air which led to grain growth, the passivation of deep level defects, and the decrease of stacking faults. Short-circuit current and power conversion efficiency of the fabricated cell under illumination with visible light AM1.5 (100 mW cm−2) were 13.3 mA cm−2 and 3.41%, respectively. It was found that introducing a thin interfacial layer of CdSe to the configuration (FTO/ZnO-NWs/CdSe (10\\u2009nm)/CdTe-NPs (60\\u2009min)/Ni/Au) led to a 5.58% enhancement of photovoltaic performance of the solar cell (20.9 mA cm−2), which is 63.6% more than that of the same configuration without CdSe.',\n  'https://doi.org/10.1088/1361-6463/aaa9ff',\n  ' J. Phys. D: Appl. Phys.',\n  ['Elaheh Akbarnejad', 'Fatemeh Dehghan Nayeri', 'Mahmood Ghoranneviss'],\n  2018],\n [' Enhancement of anomalous Hall effect in Si/Fe multilayers',\n  'Anomalous Hall effect (AHE) studies were performed at 300\\xa0K on Si/Fe multilayers prepared by dc magnetron sputtering. About 60 times enhancement in the saturation Hall resistance and 80 times enhancement in anomalous Hall coefficient were obtained in [Si(50\\xa0Å)/Fe(tFe)]20 multilayers when decreasing the Fe layer thickness from 100 to 20\\xa0Å. The largest anomalous Hall coefficient (Rs) of 1.4\\xa0×\\xa010−7\\xa0Ω\\xa0m\\xa0T−1 was found for tFe\\xa0=\\xa020\\xa0Å, which is about three orders of magnitude larger than that of pure Fe and Fe/Cr, Al/Fe, Cu/Fe, SiO2/FePt/SiO2 multilayers. The ordinary Hall coefficient R0 was about two orders of magnitude larger than that of pure Fe. The Rs was found to vary with the longitudinal electronic resistivity, ρ as Rsαρ2.2, indicating the role of interfaces for the enhancement of the AHE in the multilayers. An increase of Hall sensitivity from 9\\xa0mΩ\\xa0T−1 to 1.2\\xa0Ω\\xa0T−1 was observed on decreasing tFe from 100 to 10\\xa0Å. The high Hall sensitivity obtained was about three orders of magnitude larger than that of Al/Fe and Cu/Fe multilayers, showing it as an emerging candidate for Hall element for potential applications.',\n  'https://doi.org/10.1088/0022-3727/46/37/375003',\n  ' J. Phys. D: Appl. Phys.',\n  ['S S Das', 'M Senthil Kumar'],\n  2013],\n [' GaSe crystals with antireflection coatings for terahertz generation',\n  'Single- (SiO2) and double-layer (SiO2/Si3N4) antireflection coatings for wavelength region around 800 nm were deposited by magnetron sputtering onto GaSe crystals. The fabricated AR-coated crystals were used for terahertz generation by optical rectification of femtosecond laser pulses. The increase of generated terahertz power by about 28% for the GaSe crystals with the single-layer antireflection coatings was found as consequence of 27 percent increase in transmission through the front face of the crystal.',\n  'https://doi.org/10.1088/2053-1591/ab5318',\n  ' Mater. Res. Express',\n  ['R A Redkin',\n   'D A Kobtsev',\n   'S A Bereznaya',\n   'Z V Korotchenko',\n   'Yu S Sarkisov',\n   'T A Mihaylov',\n   'S Yu Sarkisov'],\n  2019],\n [' First measurements of the temporal evolution of the plasma density in HiPIMS discharges using THz time domain spectroscopy',\n  'In this paper, the novel technique of THz time domain spectroscopy has been applied to obtain time-resolved measurements of the plasma density in the active zone of a HiPIMS discharge with a titanium target. The obtained peak values are in the range of 1012–1013 cm−3 for discharge current densities of 1–4 A cm−2 at 0.5 and 2\\xa0Pa argon pressure. The measured densities show good correlation with the discharge current and voltage and the intensity of various atomic and ionic lines. The well known phases of the discharge have been identified and related to the variation of the electron density. The measurement results show that the plasma density remains nearly constant during the runaway/self-sputtering phase. Based on that, it is conjectured that singly charged titanium ions are the dominant ion species during this phase.',\n  'https://doi.org/10.1088/1361-6595/aab188',\n  ' Plasma Sources Sci. Technol.',\n  ['Steffen M Meier',\n   'Ante Hecimovic',\n   'Tsanko V Tsankov',\n   'Dirk Luggenhölscher',\n   'Uwe Czarnetzki'],\n  2018]]"
     },
     "execution_count": 60,
     "metadata": {},
     "output_type": "execute_result"
    }
   ],
   "source": [
    "methods2"
   ]
  },
  {
   "cell_type": "code",
   "execution_count": 43,
   "metadata": {},
   "outputs": [],
   "source": [
    "methods_df = pandas_dataframe(methods, \"methods\")"
   ]
  },
  {
   "cell_type": "code",
   "execution_count": 53,
   "metadata": {},
   "outputs": [
    {
     "data": {
      "text/html": "<div>\n<style scoped>\n    .dataframe tbody tr th:only-of-type {\n        vertical-align: middle;\n    }\n\n    .dataframe tbody tr th {\n        vertical-align: top;\n    }\n\n    .dataframe thead th {\n        text-align: right;\n    }\n</style>\n<table border=\"1\" class=\"dataframe\">\n  <thead>\n    <tr style=\"text-align: right;\">\n      <th></th>\n      <th>Title</th>\n      <th>Abstract</th>\n      <th>DOI</th>\n      <th>Journal</th>\n      <th>Auths</th>\n      <th>Year</th>\n    </tr>\n  </thead>\n  <tbody>\n    <tr>\n      <th>0</th>\n      <td>Growth of ZnTe films by pulsed laser depositio...</td>\n      <td>Polycrystalline zinc telluride films were succ...</td>\n      <td>10.1016/j.jallcom.2012.06.063</td>\n      <td>Journal of Alloys and Compounds</td>\n      <td>[B.  Ghosh, D.  Ghosh, S.  Hussain, R.  Bhar, ...</td>\n      <td>2012</td>\n    </tr>\n    <tr>\n      <th>1</th>\n      <td>Growth of ZnTe films by pulsed laser depositio...</td>\n      <td>Polycrystalline zinc telluride films were succ...</td>\n      <td>10.1016/j.jallcom.2012.06.063</td>\n      <td>Journal of Alloys and Compounds</td>\n      <td>[B.  Ghosh, D.  Ghosh, S.  Hussain, R.  Bhar, ...</td>\n      <td>2012</td>\n    </tr>\n    <tr>\n      <th>2</th>\n      <td>Growth of ZnTe films by pulsed laser depositio...</td>\n      <td>Polycrystalline zinc telluride films were succ...</td>\n      <td>10.1016/j.jallcom.2012.06.063</td>\n      <td>Journal of Alloys and Compounds</td>\n      <td>[B.  Ghosh, D.  Ghosh, S.  Hussain, R.  Bhar, ...</td>\n      <td>2012</td>\n    </tr>\n    <tr>\n      <th>3</th>\n      <td>Growth of ZnTe films by pulsed laser depositio...</td>\n      <td>Polycrystalline zinc telluride films were succ...</td>\n      <td>10.1016/j.jallcom.2012.06.063</td>\n      <td>Journal of Alloys and Compounds</td>\n      <td>[B.  Ghosh, D.  Ghosh, S.  Hussain, R.  Bhar, ...</td>\n      <td>2012</td>\n    </tr>\n    <tr>\n      <th>4</th>\n      <td>Growth of ZnTe films by pulsed laser depositio...</td>\n      <td>Polycrystalline zinc telluride films were succ...</td>\n      <td>10.1016/j.jallcom.2012.06.063</td>\n      <td>Journal of Alloys and Compounds</td>\n      <td>[B.  Ghosh, D.  Ghosh, S.  Hussain, R.  Bhar, ...</td>\n      <td>2012</td>\n    </tr>\n    <tr>\n      <th>5</th>\n      <td>Transmission spectrum alteration of a silica ...</td>\n      <td>Short tapered fiber sections 3–10 mm in length...</td>\n      <td>https://doi.org/10.1088/1402-4896/aaf550</td>\n      <td>Phys. Scr.</td>\n      <td>[P I Kuznetsov, V A Jitov, E I Golant, E A Sav...</td>\n      <td>2019</td>\n    </tr>\n    <tr>\n      <th>6</th>\n      <td>Polycrystalline ZnTe thin film on silicon syn...</td>\n      <td>ZnTe thin films on Si substrates have been pre...</td>\n      <td>https://doi.org/10.1088/2053-1591/3/3/036403</td>\n      <td>Mater. Res. Express</td>\n      <td>[Menglei Xu, Kun Gao, Jiada Wu, Hua Cai, Ye Yu...</td>\n      <td>2016</td>\n    </tr>\n    <tr>\n      <th>7</th>\n      <td>Growth of ZnTe:O Thin Films by Oxygen-Plasma-...</td>\n      <td>\\n We studied oxygen incorporation into ZnTe ...</td>\n      <td>https://doi.org/10.1143/JJAP.51.01AD04</td>\n      <td>Jpn. J. Appl. Phys.</td>\n      <td>[Sang Woo Pak, Jooyoung Suh, Dong Uk Lee, Eun ...</td>\n      <td>2012</td>\n    </tr>\n    <tr>\n      <th>8</th>\n      <td>Passively Q-switched erbium fiber laser with ...</td>\n      <td>Performance of a passively Q-switched erbium f...</td>\n      <td>https://doi.org/10.1088/1742-6596/1199/1/012034</td>\n      <td>J. Phys.: Conf. Ser.</td>\n      <td>[D P Sudas, P I Kuznetsov, V A Jitov, E A Save...</td>\n      <td>2019</td>\n    </tr>\n    <tr>\n      <th>9</th>\n      <td>Magnetic properties of HfO2 \\nthin films</td>\n      <td>We report on the magnetic and transport studie...</td>\n      <td>https://doi.org/10.1088/0953-8984/19/48/486206</td>\n      <td>J. Phys.: Condens. Matter</td>\n      <td>[N Hadacek, A Nosov, L Ranno, P Strobel, R-M G...</td>\n      <td>2007</td>\n    </tr>\n    <tr>\n      <th>10</th>\n      <td>Green electroluminescence from p-ZnO:N/n-GaN ...</td>\n      <td>A p-ZnO:N/n-GaN heterojuction light emitting d...</td>\n      <td>https://doi.org/10.1088/2053-1591/2/2/025901</td>\n      <td>Mater. Res. Express</td>\n      <td>[Lei Wang, Haiyang Xu, Yichun Liu, Linjiang Shen]</td>\n      <td>2015</td>\n    </tr>\n    <tr>\n      <th>11</th>\n      <td>THz emitters based on the photo-Dember effect</td>\n      <td>The photo-Dember effect is a source of pulsed ...</td>\n      <td>https://doi.org/10.1088/0022-3727/47/37/374002</td>\n      <td>J. Phys. D: Appl. Phys.</td>\n      <td>[V Apostolopoulos, M E Barnes]</td>\n      <td>2014</td>\n    </tr>\n    <tr>\n      <th>12</th>\n      <td>Shaping the spectrum of terahertz photoconduc...</td>\n      <td>In this paper, we report on an approach for sh...</td>\n      <td>https://doi.org/10.1088/1361-6641/aaff31</td>\n      <td>Semicond. Sci. Technol.</td>\n      <td>[D V Lavrukhin, A E Yachmenev, A Yu Pavlov, R ...</td>\n      <td>2019</td>\n    </tr>\n  </tbody>\n</table>\n</div>",
      "text/plain": "                                                Title  \\\n0   Growth of ZnTe films by pulsed laser depositio...   \n1   Growth of ZnTe films by pulsed laser depositio...   \n2   Growth of ZnTe films by pulsed laser depositio...   \n3   Growth of ZnTe films by pulsed laser depositio...   \n4   Growth of ZnTe films by pulsed laser depositio...   \n5    Transmission spectrum alteration of a silica ...   \n6    Polycrystalline ZnTe thin film on silicon syn...   \n7    Growth of ZnTe:O Thin Films by Oxygen-Plasma-...   \n8    Passively Q-switched erbium fiber laser with ...   \n9            Magnetic properties of HfO2 \\nthin films   \n10   Green electroluminescence from p-ZnO:N/n-GaN ...   \n11      THz emitters based on the photo-Dember effect   \n12   Shaping the spectrum of terahertz photoconduc...   \n\n                                             Abstract  \\\n0   Polycrystalline zinc telluride films were succ...   \n1   Polycrystalline zinc telluride films were succ...   \n2   Polycrystalline zinc telluride films were succ...   \n3   Polycrystalline zinc telluride films were succ...   \n4   Polycrystalline zinc telluride films were succ...   \n5   Short tapered fiber sections 3–10 mm in length...   \n6   ZnTe thin films on Si substrates have been pre...   \n7    \\n We studied oxygen incorporation into ZnTe ...   \n8   Performance of a passively Q-switched erbium f...   \n9   We report on the magnetic and transport studie...   \n10  A p-ZnO:N/n-GaN heterojuction light emitting d...   \n11  The photo-Dember effect is a source of pulsed ...   \n12  In this paper, we report on an approach for sh...   \n\n                                                DOI  \\\n0                     10.1016/j.jallcom.2012.06.063   \n1                     10.1016/j.jallcom.2012.06.063   \n2                     10.1016/j.jallcom.2012.06.063   \n3                     10.1016/j.jallcom.2012.06.063   \n4                     10.1016/j.jallcom.2012.06.063   \n5          https://doi.org/10.1088/1402-4896/aaf550   \n6      https://doi.org/10.1088/2053-1591/3/3/036403   \n7            https://doi.org/10.1143/JJAP.51.01AD04   \n8   https://doi.org/10.1088/1742-6596/1199/1/012034   \n9    https://doi.org/10.1088/0953-8984/19/48/486206   \n10     https://doi.org/10.1088/2053-1591/2/2/025901   \n11   https://doi.org/10.1088/0022-3727/47/37/374002   \n12         https://doi.org/10.1088/1361-6641/aaff31   \n\n                            Journal  \\\n0   Journal of Alloys and Compounds   \n1   Journal of Alloys and Compounds   \n2   Journal of Alloys and Compounds   \n3   Journal of Alloys and Compounds   \n4   Journal of Alloys and Compounds   \n5                        Phys. Scr.   \n6               Mater. Res. Express   \n7               Jpn. J. Appl. Phys.   \n8              J. Phys.: Conf. Ser.   \n9         J. Phys.: Condens. Matter   \n10              Mater. Res. Express   \n11          J. Phys. D: Appl. Phys.   \n12          Semicond. Sci. Technol.   \n\n                                                Auths  Year  \n0   [B.  Ghosh, D.  Ghosh, S.  Hussain, R.  Bhar, ...  2012  \n1   [B.  Ghosh, D.  Ghosh, S.  Hussain, R.  Bhar, ...  2012  \n2   [B.  Ghosh, D.  Ghosh, S.  Hussain, R.  Bhar, ...  2012  \n3   [B.  Ghosh, D.  Ghosh, S.  Hussain, R.  Bhar, ...  2012  \n4   [B.  Ghosh, D.  Ghosh, S.  Hussain, R.  Bhar, ...  2012  \n5   [P I Kuznetsov, V A Jitov, E I Golant, E A Sav...  2019  \n6   [Menglei Xu, Kun Gao, Jiada Wu, Hua Cai, Ye Yu...  2016  \n7   [Sang Woo Pak, Jooyoung Suh, Dong Uk Lee, Eun ...  2012  \n8   [D P Sudas, P I Kuznetsov, V A Jitov, E A Save...  2019  \n9   [N Hadacek, A Nosov, L Ranno, P Strobel, R-M G...  2007  \n10  [Lei Wang, Haiyang Xu, Yichun Liu, Linjiang Shen]  2015  \n11                     [V Apostolopoulos, M E Barnes]  2014  \n12  [D V Lavrukhin, A E Yachmenev, A Yu Pavlov, R ...  2019  "
     },
     "execution_count": 53,
     "metadata": {},
     "output_type": "execute_result"
    }
   ],
   "source": [
    "methods_df"
   ]
  },
  {
   "cell_type": "code",
   "execution_count": 52,
   "metadata": {},
   "outputs": [
    {
     "name": "stdout",
     "output_type": "stream",
     "text": "Short tapered fiber sections 3–10 mm in length and 12–20 microns in diameter were fabricated through the partial etch removal of the outer silica cladding. ZnTe and Bi2Te3 crystalline films 1–60 nm thick were subsequently applied to the surface of the tapered fiber sections using metalorganic chemical vapor deposition. Transmission spectra of the taper were recorded within the wavelength region of 1–1.6 μm at regular intervals whilst the deposition. Strong decreases in transmission in relatively narrow spectral bands were observed. The results can be applied to lossy mode resonance fiber sensors and passively mode-locked pulsed fiber laser designs.\n\n\n Transmission spectrum alteration of a silica fiber taper while covering lateral surface with heterostructure of ZnTe/Bi2Te3 thin film\n\n\n2019\n\n\nhttps://doi.org/10.1088/1402-4896/aaf550\n\n\n Phys. Scr.\n"
    }
   ],
   "source": [
    "geve_art(5,methods_df)"
   ]
  },
  {
   "cell_type": "code",
   "execution_count": 33,
   "metadata": {},
   "outputs": [],
   "source": [
    "def search_kwords(arts, kwords):\n",
    "    candidates = []\n",
    "    count = 0\n",
    "    for art in arts:\n",
    "        if kwords in art[1]:\n",
    "            candidates.append(art)\n",
    "            count +=1\n",
    "    print(\"Coincidences: \" +str(count))\n",
    "    return candidates;"
   ]
  },
  {
   "cell_type": "code",
   "execution_count": 32,
   "metadata": {},
   "outputs": [
    {
     "name": "stdout",
     "output_type": "stream",
     "text": "Chalcogenide materials of the amorphous phase with low band gaps were reported to show Ovonic threshold switching (OTS), making them suitable for selection devices in cross-point memory arrays. Herein, we report that ZnTe films with polycrystalline structures show OTS behavior. Nearly stoichiometric ZnTe thin films were deposited by an RF sputtering method. X-ray diffraction analysis indicated that the films were polycrystalline. The optical band gaps of the ZnTe films were estimated as 2.2 eV from UV–visible spectroscopy transmittance measurements. Photoluminescence measurements indicated the existence of deep-level defects in the ZnTe thin films. Although these ZnTe films have a polycrystalline structure with a relatively high band gap, I–V profiles show OTS characteristics, with a selectivity of over 104, fast threshold switching time in the sub-10 ns scale, and thermal stability up to 400 °C. ZnTe also shows switching endurance for more than 109 cycles without Vth drift, maintaining its selectivity of 104. Thus, we improved the threshold switching characteristics by using a wide band-gap and polycrystalline-structured ZnTe-based chalcogenide material. Post-annealing experiments indicated that the thermal budget of the ZnTe thin film was sufficient for stacked cross-point array structures, thereby overcoming a previous limitation of chalcogenide switching materials. This material is promising for application in high-density cross-point memory arrays as the selection device.\n\n\n Ovonic threshold switching in polycrystalline zinc telluride thin films deposited by RF sputtering\n\n\n2019\n\n\nhttps://doi.org/10.1088/1361-6528/aafe13\n\n\n Nanotechnology\n"
    }
   ],
   "source": [
    "geve_art(5,sputt_znte)"
   ]
  },
  {
   "cell_type": "code",
   "execution_count": null,
   "metadata": {},
   "outputs": [],
   "source": []
  },
  {
   "cell_type": "code",
   "execution_count": 78,
   "metadata": {},
   "outputs": [],
   "source": [
    "# year_sorted = mex_db.sort_values(by=\"Year\",ascending=False)\n",
    "# year_znte = local_znte.sort_values(by=\"Year\",ascending=False)\n",
    "\n",
    "local_znte= pd.read_pickle(\"mispepinillos/znte.pkl\")\n",
    "\n",
    "sem      = dbsearch(\"sem\", local_znte)\n",
    "sem_abl  = dbsearch(\"sputt\", sem)\n",
    "ablation = dbsearch(\"ablation\", local_znte)\n",
    "sputter  = dbsearch(\"sputt\", local_znte)\n",
    "cu_sp    = dbsearch(\"sputt\", cu)\n"
   ]
  },
  {
   "cell_type": "code",
   "execution_count": 65,
   "metadata": {},
   "outputs": [],
   "source": [
    "ablation_cites = cite_manager(sputter.iloc[4], \"Aplicaciones con ZnO para electronica, como la ref Nitrogen --doping of ZnTe--\", ablation_cites)"
   ]
  },
  {
   "cell_type": "code",
   "execution_count": 79,
   "metadata": {},
   "outputs": [
    {
     "data": {
      "text/html": "<div>\n<style scoped>\n    .dataframe tbody tr th:only-of-type {\n        vertical-align: middle;\n    }\n\n    .dataframe tbody tr th {\n        vertical-align: top;\n    }\n\n    .dataframe thead th {\n        text-align: right;\n    }\n</style>\n<table border=\"1\" class=\"dataframe\">\n  <thead>\n    <tr style=\"text-align: right;\">\n      <th></th>\n      <th>Title</th>\n      <th>Abstract</th>\n      <th>DOI</th>\n      <th>Journal</th>\n      <th>Auths</th>\n      <th>Year</th>\n      <th>comment</th>\n    </tr>\n  </thead>\n  <tbody>\n    <tr>\n      <th>0</th>\n      <td>Ovonic threshold switching in polycrystalline...</td>\n      <td>Chalcogenide materials of the amorphous phase ...</td>\n      <td>https://doi.org/10.1088/1361-6528/aafe13</td>\n      <td>Nanotechnology</td>\n      <td>[Taeho Kim, Youngjae Kim, Ingwan Lee, Dayoon L...</td>\n      <td>2019</td>\n      <td>ZnTe por RF 2019 temperaturas de 400°</td>\n    </tr>\n    <tr>\n      <th>1</th>\n      <td>Effect of in situ annealing on structure and ...</td>\n      <td>An improvement in morphology, crystallinity, a...</td>\n      <td>https://doi.org/10.1088/1742-6596/59/1/152</td>\n      <td>J. Phys.: Conf. Ser.</td>\n      <td>[Takaaki Orii, Makoto Hirasawa, Takafumi Seto]</td>\n      <td>2007</td>\n      <td>Mejoramiento de la calidad cristalina ZnTe pld...</td>\n    </tr>\n    <tr>\n      <th>2</th>\n      <td>Properties of Nitrogen-Doped Zinc Telluride Fi...</td>\n      <td>Zinc telluride (ZnTe) films have been deposite...</td>\n      <td>10.1007/s11664-017-5502-0</td>\n      <td>Journal of Electronic Materials</td>\n      <td>[Tushar M. Shimpi, Jennifer Drayton, Drew E. S...</td>\n      <td>2017</td>\n      <td>Disminución de la calidad cristalina con la pr...</td>\n    </tr>\n    <tr>\n      <th>3</th>\n      <td>Nitrogen doping of ZnTe for the preparation of...</td>\n      <td>Nitrogen-doped p-type zinc telluride (p-ZnTe) ...</td>\n      <td>10.1007/s10853-013-7438-y</td>\n      <td>Journal of Materials Science</td>\n      <td>[A. E. Rakhshani, S. Thomas]</td>\n      <td>2013</td>\n      <td>Disminución del gap (1.4 eV) N= 5/100 con un a...</td>\n    </tr>\n    <tr>\n      <th>4</th>\n      <td>Photovoltaic-pyroelectric effect coupled broad...</td>\n      <td>Broadband photodetection is widely used in com...</td>\n      <td>10.1016/j.nanoen.2019.05.050</td>\n      <td>Nano Energy</td>\n      <td>[Daotong You, Chunxiang Xu, Wei Zhang, Jie Zha...</td>\n      <td>2019</td>\n      <td>Aplicaciones con ZnO para electronica, como la...</td>\n    </tr>\n  </tbody>\n</table>\n</div>",
      "text/plain": "                                               Title  \\\n0   Ovonic threshold switching in polycrystalline...   \n1   Effect of in situ annealing on structure and ...   \n2  Properties of Nitrogen-Doped Zinc Telluride Fi...   \n3  Nitrogen doping of ZnTe for the preparation of...   \n4  Photovoltaic-pyroelectric effect coupled broad...   \n\n                                            Abstract  \\\n0  Chalcogenide materials of the amorphous phase ...   \n1  An improvement in morphology, crystallinity, a...   \n2  Zinc telluride (ZnTe) films have been deposite...   \n3  Nitrogen-doped p-type zinc telluride (p-ZnTe) ...   \n4  Broadband photodetection is widely used in com...   \n\n                                          DOI  \\\n0    https://doi.org/10.1088/1361-6528/aafe13   \n1  https://doi.org/10.1088/1742-6596/59/1/152   \n2                   10.1007/s11664-017-5502-0   \n3                   10.1007/s10853-013-7438-y   \n4                10.1016/j.nanoen.2019.05.050   \n\n                           Journal  \\\n0                   Nanotechnology   \n1             J. Phys.: Conf. Ser.   \n2  Journal of Electronic Materials   \n3     Journal of Materials Science   \n4                      Nano Energy   \n\n                                               Auths  Year  \\\n0  [Taeho Kim, Youngjae Kim, Ingwan Lee, Dayoon L...  2019   \n1     [Takaaki Orii, Makoto Hirasawa, Takafumi Seto]  2007   \n2  [Tushar M. Shimpi, Jennifer Drayton, Drew E. S...  2017   \n3                       [A. E. Rakhshani, S. Thomas]  2013   \n4  [Daotong You, Chunxiang Xu, Wei Zhang, Jie Zha...  2019   \n\n                                             comment  \n0              ZnTe por RF 2019 temperaturas de 400°  \n1  Mejoramiento de la calidad cristalina ZnTe pld...  \n2  Disminución de la calidad cristalina con la pr...  \n3  Disminución del gap (1.4 eV) N= 5/100 con un a...  \n4  Aplicaciones con ZnO para electronica, como la...  "
     },
     "execution_count": 79,
     "metadata": {},
     "output_type": "execute_result"
    }
   ],
   "source": [
    "ablation_cites"
   ]
  },
  {
   "cell_type": "code",
   "execution_count": 92,
   "metadata": {},
   "outputs": [],
   "source": [
    "ablation_cites.to_pickle(\"mispepinillos/cite_manager_znte.pkl\")"
   ]
  },
  {
   "cell_type": "code",
   "execution_count": 91,
   "metadata": {},
   "outputs": [
    {
     "name": "stdout",
     "output_type": "stream",
     "text": "BaCuSeF/ZnTe is a model system to investigate physical and chemical properties of the interfaces of non-oxide wide-bandgap p-type semiconductors with materials used in chalcogenide solar cells. The BaCuSeF/ZnTe interface was studied using electron microscopy and photoelectron spectroscopy. Both techniques indicate that Se and Cu from BaCuSeF diffuse into ZnTe creating an interdiffused layer between these two materials. The interdiffusion may be attributed to the differences in materials formation enthalpies and to Fermi level pinning in BaCuSeF.\n\n\nInterdiffusion at the BaCuSeF/ZnTe interface\n\n\n2011\n\n\n10.1016/j.tsf.2010.12.125\n\n\nThin Solid Films\n"
    }
   ],
   "source": [
    "geve_art(0,cu_sp)"
   ]
  },
  {
   "cell_type": "code",
   "execution_count": 45,
   "metadata": {},
   "outputs": [
    {
     "name": "stdout",
     "output_type": "stream",
     "text": "Chalcogenide materials of the amorphous phase with low band gaps were reported to show Ovonic threshold switching (OTS), making them suitable for selection devices in cross-point memory arrays. Herein, we report that ZnTe films with polycrystalline structures show OTS behavior. Nearly stoichiometric ZnTe thin films were deposited by an RF sputtering method. X-ray diffraction analysis indicated that the films were polycrystalline. The optical band gaps of the ZnTe films were estimated as 2.2 eV from UV–visible spectroscopy transmittance measurements. Photoluminescence measurements indicated the existence of deep-level defects in the ZnTe thin films. Although these ZnTe films have a polycrystalline structure with a relatively high band gap, I–V profiles show OTS characteristics, with a selectivity of over 104, fast threshold switching time in the sub-10 ns scale, and thermal stability up to 400 °C. ZnTe also shows switching endurance for more than 109 cycles without Vth drift, maintaining its selectivity of 104. Thus, we improved the threshold switching characteristics by using a wide band-gap and polycrystalline-structured ZnTe-based chalcogenide material. Post-annealing experiments indicated that the thermal budget of the ZnTe thin film was sufficient for stacked cross-point array structures, thereby overcoming a previous limitation of chalcogenide switching materials. This material is promising for application in high-density cross-point memory arrays as the selection device.\n\n\n Ovonic threshold switching in polycrystalline zinc telluride thin films deposited by RF sputtering\n\n\n2019\n\n\nhttps://doi.org/10.1088/1361-6528/aafe13\n\n\n Nanotechnology\n"
    }
   ],
   "source": [
    "geve_art(5,sputter)"
   ]
  },
  {
   "cell_type": "code",
   "execution_count": 78,
   "metadata": {},
   "outputs": [
    {
     "name": "stdout",
     "output_type": "stream",
     "text": "In this work, ZnTe and ZnTe:Cu films were obtained by pulsed laser deposition using the co-deposition method. ZnTe and Cu2Te were used as targets and the shots ratio were varied to obtain 0.61, 1.47, 1.72, and 3.46% Cu concentration. Doping of ZnTe films with Cu was performed with the purpose of increasing the p-type carrier concentration and establishing the effect of concentration of Cu on structural, optical, and electrical properties of ZnTe thin films to consider their potential application in electronic devices. According to X-ray diffraction, X-ray photoelectron spectroscopy, UV–visible spectroscopy, and Hall effect results, ZnTe and ZnTe:Cu films correspond to polycrystalline zinc–blende phase with preferential orientation in (111) plane. Optical characterization results indicate that as-deposited films (band gap = 2.16 eV) exhibit a band gap decrease as function of the increase of Cu concentration (2.09–1.64 eV), while, annealed films exhibit a decrease from 1.75 to 1.46 eV, as the Cu concentration increases. Lastly, Hall effect results show that ZnTe films correspond to a p-type semiconductor with a carrier concentration of 3 × 1013 cm−3 and a resistivity of 1.64 × 105 Ω∙cm. ZnTe:Cu films remain like a p-type material and present an increasing carrier concentration (from 3.8 × 1015 to 1.26 × 1019 cm−3) as function of Cu concentration and a decreasing resistivity (from 7.01 × 103 to 2.6 × 10−1 Ω cm). ZnTe and ZnTe:Cu thin films, with the aforementioned characteristics, can find potential application in electronic devices, such as, solar cells and photodetectors.\n\n\nStructural, optical, and electrical properties of ZnTe:Cu thin films by PLD\n\n\n2018\n\n\n10.1007/s10854-018-0200-0\n\n\nJournal of Materials Science: Materials in Electronics\n"
    }
   ],
   "source": [
    "geve_art(59,year_znte)"
   ]
  },
  {
   "cell_type": "code",
   "execution_count": 3,
   "metadata": {},
   "outputs": [
    {
     "name": "stdout",
     "output_type": "stream",
     "text": "Añadida pag: 1\nReintentando pag: 2\nAñadida pag: 2\nAñadida pag: 3\nAñadida pag: 4\nAñadida pag: 5\nAñadida pag: 6\nAñadida pag: 7\nAñadida pag: 8\nAñadida pag: 1\nAñadida pag: 2\nAñadida pag: 3\nAñadida pag: 4\nAñadida pag: 5\n"
    },
    {
     "data": {
      "text/plain": "Yu Pavlov',\n   'R A Khabibullin',\n   'Yu G Goncharov',\n   'I E Spektor',\n   'G A Komandin',\n   'S O Yurchenko',\n   'N V Chernomyrdin',\n   'K I Zaytsev',\n   'D S Ponomarev'],\n  2019],\n [' Apertureless terahertz near-field microscopy',\n  'Terahertz near-field microscopy may serve as a novel tool to measure the high-frequency permittivity of dielectric surfaces on submicrometre semiconductor structures. We present an apertureless THz near-field microscope, which allows for spatial resolutions as small as 150 nm. A new model has been developed that considers the field coupling the scanning probe with a sample and reproduces the image data qualitatively and quantitatively.',\n  'https://doi.org/10.1088/0268-1242/20/7/020',\n  ' Semicond. Sci. Technol.',\n  ['Gyu Cheon Cho',\n   'Hou-Tong Chen',\n   'Simon Kraatz',\n   'Nicholas Karpowicz',\n   'Roland Kersting'],\n  2005],\n [' Light absorption processes and optimization of ZnO/CdTe core–shell nanowire arrays for nanostructured solar cells',\n  'The absorption processes of extremely thin absorber solar cells based on ZnO/CdTe core–shell nanowire (NW) arrays with square, hexagonal or triangular arrangements are investigated through systematic computations of the ideal short-circuit current density using three-dimensional rigorous coupled wave analysis. The geometrical dimensions are optimized for optically designing these solar cells: the optimal NW diameter, height and array period are of 200\\xa0±\\xa010 nm, 1–3 μm and 350–400 nm for the square arrangement with CdTe shell thickness of 40–60 nm. The effects of the CdTe shell thickness on the absorption of ZnO/CdTe NW arrays are revealed through the study of two optical key modes: the first one is confining the light into individual NWs, the second one is strongly interacting with the NW arrangement. It is also shown that the reflectivity of the substrate can improve Fabry–Perot resonances within the NWs: the ideal short-circuit current density is increased by 10% for the ZnO/fluorine-doped tin oxide (FTO)/ideal reflector as compared to the ZnO/FTO/glass substrate. Furthermore, the optimized square arrangement absorbs light more efficiently than both optimized hexagonal and triangular arrangements. Eventually, the enhancement factor of the ideal short-circuit current density is calculated as high as 1.72 with respect to planar layers, showing the high optical potentiality of ZnO/CdTe core–shell NW arrays.',\n  'https://doi.org/10.1088/0957-4484/26/7/075401',\n  ' Nanotechnology',\n  ['Jérôme Michallon',\n   'Davide Bucci',\n   'Alain Morand',\n   'Mauro Zanuccoli',\n   'Vincent Consonni',\n   'Anne Kaminski-Cachopo'],\n  2015],\n [' Aligned Si3N4@SiO2 \\ncoaxial nanocables derived from a polymeric precursor',\n  'Well-aligned coaxial nanocables, composed of a crystalline\\nα-Si3N4 inner core and\\namorphous SiO2 \\nouter shell, were prepared on silicon substrates by pyrolysis of a preceramic polymer\\n(perhydropolysilazane) with iron as catalyst. The nanocables have high density, and the\\nlongest nanocable can be up to millimeters. Photoluminescence measurement reveals a\\nstrong ultraviolet emission band centered at 360\\xa0nm and a weaker visible-light\\nemission at 625\\xa0nm. The growth mechanism of the nanocables is discussed in\\ndetail.',\n  'https://doi.org/10.1088/0957-4484/21/24/245603',\n  ' Nanotechnology',\n  ['Xiuli Fu',\n   'Zhijian Peng',\n   'Na Zhu',\n   'Chengbiao Wang',\n   'Zhiqiang Fu',\n   'Longhao Qi',\n   'Hezhuo Miao'],\n  2010],\n [' The modulation of terahertz photoconductivity in CVD grown n-doped monolayer MoS2 with gas adsorption',\n  'The as-grown atomically thin transition metal dichalcogenides (TMDs) usually have extremely large surface-to-volume ratios. Hence, the electrical and optical properties are always affected by the adsorption of atmospheric gases. By using optical pump terahertz (THz) probe spectroscopy, THz photoconductivity dynamics of chemical vapor deposition grown monolayer MoS2 has been investigated in nitrogen, air and oxygen atmospheric environments. Our study reveals that the photoconductivity of MoS2 at THz frequencies is dramatically altered by the adsorption of oxygen. The relaxation dynamics of photoconductivity strongly depends on atmospheres, which is attributed to photo-excited different quasi-particles, such as free charge carriers, excitons and trions. This study highlights the role of oxygen passivation of the photoconductivity in monolayer MoS2, which may have important applications for the design of future MoS2-based electronic devices.',\n  'https://doi.org/10.1088/1361-648X/ab0f0a',\n  ' J. Phys.: Condens. Matter',\n  ['Xiao Xing',\n   'Litao Zhao',\n   'Zeyu Zhang',\n   'Xian Lin',\n   'Yang Yu',\n   'Zuanming Jin',\n   'Weimin Liu',\n   'Wenjing Zhang',\n   'Guohong Ma'],\n  2019],\n [' Nonlinear frequency conversion in semiconductor optical waveguides using birefringent,\\nmodal and quasi-phase-matching techniques',\n  'We describe the use of GaAs-based semiconductor optical waveguides for nonlinear\\nfrequency conversion of femtosecond pulses in the infrared. Different techniques for the\\nrealization of phase matching, including artificial birefringence, quasi-phase-matching and\\nmodal dispersion, are reported and analysed and key issues relating to efficiency,\\npracticality and applicability are discussed. Using the data obtained from these\\nexperiments, an overall comparison is made with other prominent techniques in order to\\nidentify the most promising and viable route to the development of efficient semiconductor\\nwaveguide frequency conversion devices for incorporation in the future generation of\\nintegrated photonic networks.',\n  'https://doi.org/10.1088/1464-4258/6/6/013',\n  ' J. Opt. A: Pure Appl. Opt.',\n  ['S Venugopal Rao', 'K Moutzouris', 'M Ebrahimzadeh'],\n  2004],\n [' A general route for the rapid synthesis of one-dimensional nanostructured single-crystal Te,\\nSe and Se–Te alloys directly from Te or/and Se powders',\n  \"A general and template-free 'disproportionation and reversal' route was developed to\\nsynthesize one-dimensional (1D) nanostructures of Te, Se and Se–Te alloys directly from Te\\nor/and Se powders. The products were characterized by x-ray diffraction (XRD),\\ntransmission electron microscopy (TEM), selected area electron diffraction (SAED), and\\nscanning electron microscopy (SEM). Te nanorods and nanowires with a width varying\\nfrom about\\xa040\\xa0nm to about 300 nm, Se nanowires with a width of 60–100\\xa0nm and a length of\\n4–6\\xa0µm, and\\nSexTe100−x alloy\\nnanorods with x \\nin a wide range, and with a width of 30–70\\xa0nm and an aspect ratio of three to five, were\\nprepared. The mechanism of formation of the nanorods and nanowires and the effects of\\nthe experimental conditions, such as solution concentration, cooling rate, solvent nature\\nand heating process, on the morphology and size of the products have been discussed.\\nWe believe that this general route and some other proper reversible processes\\nbetween solid state and solution state can be extended to the transformations\\nfrom various bulk materials into nanosized materials with various morphologies.\",\n  'https://doi.org/10.1088/0957-4484/17/6/037',\n  ' Nanotechnology',\n  ['Bo Zhou', 'Jun-Jie Zhu'],\n  2006],\n [' Photoluminescence and vibrational properties of nanostructured ZnSe templates',\n  'Electrochemical etching of pores in as-grown and doped n-type ZnSe substrates is reported. To dope the samples the as-grown semi-insulating substrates were annealed in a Zn melt containing Al impurity at concentrations ranging from 0.1 to 40 at.%. We demonstrate the growth of arrays of parallel pores with diameters ranging from several hundreds of nanometers down to 40 nm. According to the dependence of the anodic current on the applied potential, the pore growth is found to be mediated by oxide formation. LO–phonon–plasmon coupling and the emergence of the Fröhlich-type surface phonon mode are studied by Raman spectroscopy of annealed and electrochemically treated samples. The position of the Fröhlich mode is found to be identical in porous samples with different diameters of pores and skeleton wall thicknesses, in accordance with the effective medium theory when applied to porous materials with identical semiconductor skeleton relative volume concentration. The photoluminescence analysis of the prepared porous structures is indicative of effective passivation of the porous skeleton surface during anodization while Raman scattering evidences a decrease in the free carrier concentration and neutralization of impurity centers in the porous skeleton walls.',\n  'https://doi.org/10.1088/0268-1242/22/10/007',\n  ' Semicond. Sci. Technol.',\n  ['E Monaico',\n   'I M Tiginyanu',\n   'V V Ursaki',\n   'A Sarua',\n   'M Kuball',\n   'D D Nedeoglo',\n   'V P Sirkeli'],\n  2007],\n [' White Luminescence of Amorphous SiO2 Capped and Uncapped Zn1-m-nS: Ce0.0005, Li0.0005, Mnn(1 < n < 0.01)mol% Phosphors for Solid State Lighting',\n  'White luminescence from Zn1-m-nS:Ce0.0005,Li0.0005,Mnn(0.01 < n < 0.0001 mol) phosphors with and without capping of amorphous SiO2 is being reported. The phosphor was prepared by solid state method at the calcination temperature of 950°C, 1020°C and 1080°C, for 5 h in carbon reducing atmosphere. Amorphous SiO2 capping was done on the heat treated phosphors using sol-gel chemical method subsequently calcined at 650°C in carbon reducing atmosphere for 5 h. The Mn content varied from 0.01 mol to 0.0001 mol at fixed Ce3+0.0005 to optimize Ce3+ (450 nm and 520 nm) and Mn2+ (582 nm) emission originates due to electronic transition from (2T2g) 5d – 4f (2F5/2, 2F7/2) and 3d5 (4G (4T1) – 6S (6A1)), respectively. The addition of Li+ with Ce3+ introduce vacancies and different kinds of Ce3+ centers which make it difficult to interpret the structure less emission band of Ce3+ centers. Host band tuning was observed as a function of Mn2+ content. The phosphor shows white light, as confirmed by the CIE chromaticity coordinates (0.300, 0.295).',\n  'https://doi.org/10.1149/2.002406jss',\n  ' ECS J. Solid State Sci. Technol.',\n  ['P. Thiyagarajan', 'R. Sivakami', 'M. S. Ramachandra Rao'],\n  2014],\n [' Chemical mechanical polishing and nanomechanics of semiconductor CdZnTe single crystals',\n  '(1 1 1), (1 1 0) Cd0.96Zn0.04Te and (1 1 1) Cd0.9Zn0.1Te semiconductor wafers grown by the modified vertical Bridgman method with dimensions of 10 mm × 10 mm × 2.5 mm were lapped with a 2–5 µm polygonal Al2O3 powder solution, and then chemically mechanically polished by an acid solution having nanoparticles with a diameter of around 5 nm, corresponding to the surface roughnesses Ra of 2.135 nm, 1.968 nm and 1.856 nm. The hardness and elastic modulus of (1 1 1), (1 1 0) Cd0.96Zn0.04Te and (1 1 1) Cd0.9Zn0.1Te single crystals are 1.21 GPa, 42.5 GPa; 1.02 GPa, 44.0 GPa; and 1.19 GPa, 43.4 GPa, respectively. After nanocutting is performed by the Berkovich nanoindenter, the surface roughness Ra of the (1 1 1) Cd0.9Zn0.1Te single crystal attains a 0.215 nm ultra-smooth surface. The hardness and elastic modulus of three kinds of CdZnTe single crystals decrease with the increase of indentation load. When the nanoindenter departs the surface of the crystals, the adherence effects are obvious for the three kinds of single crystals. This is attributed to the plastic sticking behavior of CdZnTe material at a nanoscale level. When the indentation load of the three kinds of CdZnTe single crystals is in the range of 4000–12 000 µN, the adhered CdZnTe material on the nanoindenter falls onto the surface and accumulates around the nanoindentation.',\n  'https://doi.org/10.1088/0268-1242/23/10/105023',\n  ' Semicond. Sci. Technol.',\n  ['Zhenyu Zhang',\n   'Hang Gao',\n   'Wanqi Jie',\n   'Dongming Guo',\n   'Renke Kang',\n   'Yan Li'],\n  2008],\n [' Resonance Raman scattering in\\nCuGaxAl1−xS2 \\ncrystals',\n  'The change of polarization of the resonant Raman scattering lines is studied in\\nCuGaxAl1−xS2 crystals\\nwith x \\nequal to 1, 0.95 and 0.9 assuming resonance conditions with 4880 and 4765\\xa0Å Ar laser lines.\\nLinear and circular depolarization of the emission under the excitation by polarized light is\\nobserved. The depolarization of LO-phonon resonance Raman scattering (RRS) lines is\\nfound to occur practically in the same way for phonons with different symmetries. This\\nobservation is explained by the participation of polaritons in the processes of RRS as initial\\nand final states.',\n  'https://doi.org/10.1088/1464-4258/10/12/125002',\n  ' J. Opt. A: Pure Appl. Opt.',\n  ['N N Syrbu', 'I M Tiginyanu', 'V V Ursaki', 'A V Dorogan'],\n  2008],\n [' High-resolution X-ray diffraction in crystalline structures with quantum dots',\n  'We review the current status of nondestructive high-resolution X-ray diffractometry research on semiconductor structures with quantum dots (QDs). The formalism of the statistical theory of diffraction is used to consider the coherent and diffuse X-ray scattering in crystalline systems with nanoinclusions. Effects of the shape, elastic strain, and lateral and vertical QD correlation on the diffuse scattering angular distribution near the reciprocal lattice nodes are considered. Using short-period and multicomponent superlattices as an example, we demonstrate the efficiency of data-assisted simulations in the quantitative analysis of nanostructured materials.\\n',\n  'https://doi.org/10.3367/UFNe.0185.201505a.0449',\n  ' Phys.-Usp.',\n  ['V I  Punegov'],\n  2015],\n [' Construction of high-quality CdS:Ga nanoribbon/silicon heterojunctions and their\\nnano-optoelectronic applications',\n  'Silicon based optoelectronic integration is restricted by its poor optoelectronic\\nproperties arising from the indirect band structure. Here, by combining silicon with\\nanother promising optoelectronic material, the CdS nanoribbon (NR), devices with\\nheterojunction structure were constructed. The CdS NRs were also doped with\\ngallium to improve their n-type conductivity. A host of nano-optoelectronic devices,\\nincluding light emitting diodes, photovoltaic devices, and photodetectors, were\\nsuccessfully constructed on the basis of the CdS:Ga NR/Si heterojunctions. They all\\nexhibited excellent device performances as regards high stability, high efficiency,\\nand fast response speed. It is expected that the CdS NR/Si heterojunctions will\\nhave great potential for future applications of Si based optoelectronic integration.\\n',\n  'https://doi.org/10.1088/0957-4484/22/40/405201',\n  ' Nanotechnology',\n  ['Di Wu',\n   'Yang Jiang',\n   'Shanying Li',\n   'Fangze Li',\n   'Junwei Li',\n   'Xinzheng Lan',\n   'Yugang Zhang',\n   'Chunyan Wu',\n   'Linbao Luo',\n   'Jiansheng Jie'],\n  2011],\n [' High frequency dielectric properties of CaTiO3-based microwave ceramics',\n  'We have investigated the far-IR, submillimetre and microwave (MW) dielectric response of CaTiO3 (CT)–Sr(Mg1/3Nb2/3)O3 (SMN), CT–Sr(Zn1/3Nb2/3)O3 (SZN), CT–NdAlO3 (NA) and CT–LaGaO3 (LG) solid solutions ceramics series. The contribution of extrinsic losses has been analysed by extrapolation of the far-IR and terahertz dielectric data down to the MW range and comparison with directly measured data. This procedure has also been justified by comparing the losses in CT and LG ceramics with the losses in their crystalline forms published in the literature.',\n  'https://doi.org/10.1088/0022-3727/38/5/012',\n  ' J. Phys. D: Appl. Phys.',\n  ['A Pashkin',\n   'S Kamba',\n   'M Berta',\n   'J Petzelt',\n   'G D C Csete de Györgyfalva',\n   'H Zheng',\n   'H. Bagshaw',\n   'I M Reaney'],\n  2005],\n [' Combinatorial ion beam synthesis of semiconductor nanoclusters',\n  'Ion beam implantation is attractive since it allows us to create very well-defined supersaturated concentration depth profiles in the near surface region. In this paper, thin layers of heterogeneous colloidal compound semiconductor nanocrystals will be discussed. We will focus on the synthesis of dense packed thin buried layers of CdSe nanocrystals in thermally grown SiO2 on Si. For colloidal semiconductor nanoparticles, the influence of surfaces and interfaces on the optical and electronic transport properties is dramatically increased as compared to the corresponding homogeneous bulk materials. A combinatorial materials synthesis approach is applied to generate materials libraries by sequential ion implantation of Cd+ and Se+ by using moving spatially selective shields inserted into the beam line. It allows us to probe a wide range of chemical compositions, and thus to study the interface structure and composition between the nanoparticles and the surrounding matrix. The chemical composition and elemental redistribution driven by diffusion, nucleation and growth process will be studied and quantified by Rutherford backscattering spectroscopy and secondary ion mass spectroscopy. Reaching the SiO2/Si interface CdSe and Cd accumulate and forms nanoclusters in proximity to the Si substrate inside the SiO2 layer. Although a mono-modal size distribution cannot be achieved, multi-modal size distributions and structure formation are found. This has consequences on out-diffusion, so that large particles near the surface dissolve, removing equivalent amounts of implanted material. These findings correlate well with photoluminescence (PL) measurements and lead to the conclusion that very efficient PL is mainly caused by larger precipitates. This explains the missing or suppressed blue-shift of the PL spectra despite the existence of sufficiently small CdSe clusters (<5 nm).',\n  'https://doi.org/10.1088/0957-0233/16/1/005',\n  ' Meas. Sci. Technol.',\n  ['H Karl', 'I Großhans', 'B Stritzker'],\n  2005],\n [' Vector frequency-comb Fourier-transform spectroscopy for characterizing metamaterials',\n  \"We determine infrared transmission amplitude and phase spectra of metamaterial samples at well-defined incidence and polarization with a vector ('asymmetric') frequency-comb Fourier-transform spectrometer (c-FTS) that uses no moving elements. The metamaterials are free-standing metallic hole arrays; we study their resonances in the 7–13\\u2009μm and 100–1000\\u2009μm wavelength regions due both to interaction with bulk waves (Wood anomaly) and with leaky surface plasmon polaritons (near-unity transmittance, coupling features and dispersion). Such complex-valued transmission and reflection spectra could be used to compute a metamaterial's complex dielectric function directly, as well as its magnetic and magneto-optical permeability functions.\",\n  'https://doi.org/10.1088/1367-2630/10/12/123007',\n  ' New J. Phys.',\n  ['T Ganz', 'M Brehm', 'H G von Ribbeck', 'D W van der Weide', 'F Keilmann'],\n  2008],\n [' Photoconductive, dielectric and percolation properties of anodic TiO2 nanotubes studied by terahertz spectroscopy',\n  'Self-organized layers of anodic TiO2 nanotubes were investigated using time-resolved terahertz spectroscopy in the steady state and upon photoexcitation. The interpretation of the conductivity spectra is based on the response of confined charges calculated by the Monte-Carlo method and on the evaluated distribution of the probing terahertz electric field in the heterogeneous structure. We show that the charge motion perpendicular to the nanotube axis is confined on ~10\\u2009nm scale, and that the charge mobility inside these confinement areas is comparable to that observed in a bulk anatase crystal. The electrical connectivity between individual nanotubes assessed from the terahertz spectra qualitatively correlates with the geometry observed in SEM images. The measured transient terahertz transmission spectra feature an apparent resonance; we demonstrate that it is not a signature of a new low-energy excitation but a geometrical effect of Fabry–Pérot interferences in the photoexcited slab.',\n  'https://doi.org/10.1088/1361-6463/aa9b11',\n  ' J. Phys. D: Appl. Phys.',\n  ['Jiří Kuchařík',\n   'Hanna Sopha',\n   'Milos Krbal',\n   'Ivan Rychetský',\n   'Petr Kužel',\n   'Jan M Macak',\n   'Hynek Němec'],\n  2018]]"
     },
     "execution_count": 3,
     "metadata": {},
     "output_type": "execute_result"
    }
   ],
   "source": [
    "query(\"znte films\")"
   ]
  }
 ],
 "metadata": {
  "file_extension": ".py",
  "kernelspec": {
   "display_name": "Python 3.7.4 64-bit",
   "language": "python",
   "name": "python37464bitf970296ce93e4865b058a969729ca98c"
  },
  "language_info": {
   "codemirror_mode": {
    "name": "ipython",
    "version": 3
   },
   "file_extension": ".py",
   "mimetype": "text/x-python",
   "name": "python",
   "nbconvert_exporter": "python",
   "pygments_lexer": "ipython3",
   "version": "3.7.4-final"
  },
  "mimetype": "text/x-python",
  "name": "python",
  "npconvert_exporter": "python",
  "pygments_lexer": "ipython3",
  "version": 3
 },
 "nbformat": 4,
 "nbformat_minor": 2
}