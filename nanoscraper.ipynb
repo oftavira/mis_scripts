{
 "cells": [
  {
   "cell_type": "code",
   "execution_count": 10,
   "metadata": {},
   "outputs": [],
   "source": [
    "from bs4 import BeautifulSoup\n",
    "import requests\n",
    "\n",
    "uri  = \"https://iopscience.iop.org/nsearch?terms=ZnTe&nextPage=2&previousPage=-1&currentPage=1&searchDatePeriod=anytime&orderBy=relevance&pageLength=50\"\n",
    "\n",
    "r1 = requests.get(uri)\n",
    "coverpage = r1.content"
   ]
  },
  {
   "cell_type": "code",
   "execution_count": 11,
   "metadata": {},
   "outputs": [],
   "source": [
    "soup1 = BeautifulSoup(coverpage, 'lxml')"
   ]
  },
  {
   "cell_type": "code",
   "execution_count": 99,
   "metadata": {},
   "outputs": [],
   "source": [
    "td = soup1.find_all('div', {\"class\" : \"art-list-item-body\"})"
   ]
  },
  {
   "cell_type": "code",
   "execution_count": 100,
   "metadata": {},
   "outputs": [
    {
     "data": {
      "text/plain": "50"
     },
     "execution_count": 100,
     "metadata": {},
     "output_type": "execute_result"
    }
   ],
   "source": [
    "len(td)"
   ]
  },
  {
   "cell_type": "code",
   "execution_count": 111,
   "metadata": {},
   "outputs": [],
   "source": [
    "articulos = []\n",
    "otras     = []\n",
    "for i in td:\n",
    "    a  = i.findChild('div', {\"class\" : \"article-text view-text-small\"}).findChild(\"p\")\n",
    "    b  = i.findChild('h2',  {\"class\" : \"art-list-item-title\"}).findChild(\"a\")\n",
    "    c  = i.find_all('p', {\"class\" : \"small art-list-item-meta\"})\n",
    "    articulos.append([a.text ,b.text])\n",
    "    otras.append(c)"
   ]
  },
  {
   "cell_type": "code",
   "execution_count": 125,
   "metadata": {},
   "outputs": [
    {
     "data": {
      "text/plain": "[<span itemprop=\"author\" itemtype=\"http://schema.org/Person\">O I Olusola</span>,\n <span itemprop=\"author\" itemtype=\"http://schema.org/Person\">H I Salim</span>,\n <span itemprop=\"author\" itemtype=\"http://schema.org/Person\">I M Dharmadasa</span>]"
     },
     "execution_count": 125,
     "metadata": {},
     "output_type": "execute_result"
    }
   ],
   "source": [
    "otras[5][1].find_all('span', {\"itemprop\" : \"author\"})"
   ]
  },
  {
   "cell_type": "code",
   "execution_count": 128,
   "metadata": {},
   "outputs": [
    {
     "data": {
      "text/plain": "[<em> Mater. Res. Express</em>]"
     },
     "execution_count": 128,
     "metadata": {},
     "output_type": "execute_result"
    }
   ],
   "source": [
    "otras[5][1].find_all('em')"
   ]
  },
  {
   "cell_type": "code",
   "execution_count": 131,
   "metadata": {},
   "outputs": [
    {
     "data": {
      "text/plain": "'\\r\\n            2009 Nanotechnology 20 305702\\r\\n            \\u2003\\r\\n            https://doi.org/10.1088/0957-4484/20/30/305702\\n'"
     },
     "execution_count": 131,
     "metadata": {},
     "output_type": "execute_result"
    }
   ],
   "source": [
    "otras[20][1].text"
   ]
  },
  {
   "cell_type": "code",
   "execution_count": null,
   "metadata": {},
   "outputs": [],
   "source": []
  }
 ],
 "metadata": {
  "file_extension": ".py",
  "kernelspec": {
   "display_name": "Python 3",
   "language": "python",
   "name": "python3"
  },
  "language_info": {
   "codemirror_mode": {
    "name": "ipython",
    "version": 3
   },
   "file_extension": ".py",
   "mimetype": "text/x-python",
   "name": "python",
   "nbconvert_exporter": "python",
   "pygments_lexer": "ipython3",
   "version": "3.7.4-final"
  },
  "mimetype": "text/x-python",
  "name": "python",
  "npconvert_exporter": "python",
  "pygments_lexer": "ipython3",
  "version": 3
 },
 "nbformat": 4,
 "nbformat_minor": 2
}