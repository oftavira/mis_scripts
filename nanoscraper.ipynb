{
 "cells": [
  {
   "cell_type": "code",
   "execution_count": 63,
   "metadata": {},
   "outputs": [],
   "source": [
    "from bs4 import BeautifulSoup\n",
    "from urllib import request\n",
    "from time import sleep\n",
    "\n",
    "IOP_S = \"https://iopscience.iop.org/nsearch?terms=\"\n",
    "IOP_E = \"&nextPage=2&previousPage=-1&currentPage=\"\n",
    "IOP_P = \"&searchDatePeriod=anytime&orderBy=relevance&pageLength=50\"\n",
    "\n",
    "def souparticlesIOP(material, page, max_int = 7, dream = 2):\n",
    "    soup1 = None\n",
    "    ints=0\n",
    "    while ints<max_int:\n",
    "        try:\n",
    "            resp = request.urlopen(IOP_S+material+IOP_E+str(page)+IOP_P)\n",
    "            soup1 = BeautifulSoup(resp, 'lxml')\n",
    "            break\n",
    "        except:\n",
    "            print(\"Reintentando pag: \" +str(page))\n",
    "            sleep(dream)\n",
    "            pass\n",
    "        finally:\n",
    "            ints +=1\n",
    "    if(soup1==None):\n",
    "        print(\"Por favor reinicie la busqueda para pag: \" + str(page))\n",
    "        return \"Por favor reinicie la busqueda\";\n",
    "    else:\n",
    "        print(\"Añadida pag: \" + str(page))\n",
    "        return soup1.find_all('div', {\"class\" : \"art-list-item-body\"})\n",
    "\n",
    "def find_all(material):\n",
    "    all_     = []\n",
    "    to_retry = []\n",
    "    for i in range(1,12):\n",
    "        item = souparticlesIOP(material, i)\n",
    "        if(isinstance(item, str)):\n",
    "            to_retry.append(i)\n",
    "        else:\n",
    "            all_.append(item)\n",
    "    return all_;"
   ]
  },
  {
   "cell_type": "code",
   "execution_count": 64,
   "metadata": {},
   "outputs": [
    {
     "name": "stdout",
     "output_type": "stream",
     "text": "Añadida pag: 1\nReintentando pag: 2\nReintentando pag: 2\nAñadida pag: 2\nReintentando pag: 3\nReintentando pag: 3\nAñadida pag: 3\nReintentando pag: 4\nReintentando pag: 4\nReintentando pag: 4\nReintentando pag: 4\nReintentando pag: 4\nReintentando pag: 4\nAñadida pag: 4\nReintentando pag: 5\nReintentando pag: 5\nAñadida pag: 5\nReintentando pag: 6\nReintentando pag: 6\nReintentando pag: 6\nReintentando pag: 6\nReintentando pag: 6\nReintentando pag: 6\nAñadida pag: 6\nAñadida pag: 7\nReintentando pag: 8\nReintentando pag: 8\nAñadida pag: 8\nReintentando pag: 9\nReintentando pag: 9\nReintentando pag: 9\nReintentando pag: 9\nAñadida pag: 9\nReintentando pag: 10\nReintentando pag: 10\nAñadida pag: 10\nAñadida pag: 11\n"
    }
   ],
   "source": [
    "a = find_all(\"ZnTe\")"
   ]
  },
  {
   "cell_type": "code",
   "execution_count": 66,
   "metadata": {},
   "outputs": [
    {
     "data": {
      "text/plain": "bs4.element.ResultSet"
     },
     "execution_count": 66,
     "metadata": {},
     "output_type": "execute_result"
    }
   ],
   "source": [
    "\n",
    "def stringify(raw_pages):\n",
    "    arts_db = []\n",
    "    for page in raw_pages:\n",
    "        for tag in page:\n",
    "            aa  = i.findChild('div', {\"class\" : \"article-text view-text-small\"}).findChild(\"p\")\n",
    "            bb  = i.findChild('h2',  {\"class\" : \"art-list-item-title\"}).findChild(\"a\")\n",
    "            cc  = i.f('p', {\"class\" : \"small art-list-item-meta\"})\n",
    "    articulos.append([aa.text ,bb.text])\n",
    "    otras.append(cc)\n"
   ]
  },
  {
   "cell_type": "code",
   "execution_count": 110,
   "metadata": {},
   "outputs": [],
   "source": [
    "articulos = []\n",
    "otras     = []\n",
    "for i in a[0]:\n",
    "    title     = i.findChild('h2' , {\"class\"   : \"art-list-item-title\"}).findChild(\"a\")          # 0 title\n",
    "    abstract  = i.findChild('div', {\"class\"   : \"article-text view-text-small\"}).findChild(\"p\") # 1 abstract\n",
    "    DOI       = i.findChild('a'  , {\"class\"   : \"mr-2\"})                                        # 2 DOI\n",
    "    journal   = i.findChild('em')                                                               # 3 Journal\n",
    "    authors   = i.find_all('span', {\"itemprop\": \"author\"})                                      # 4 auths *beta*\n",
    "    articulos.append([title.text ,abstract.text, DOI.text, journal.text, [auth.getText() for auth in authors] ])\n"
   ]
  },
  {
   "cell_type": "code",
   "execution_count": 111,
   "metadata": {},
   "outputs": [
    {
     "data": {
      "text/plain": "['F Ahmed', 'A En Naciri', 'J J Grob', 'M Stchakovsky', 'L Johann']"
     },
     "execution_count": 111,
     "metadata": {},
     "output_type": "execute_result"
    }
   ],
   "source": [
    "articulos[20][4]"
   ]
  },
  {
   "cell_type": "code",
   "execution_count": 72,
   "metadata": {},
   "outputs": [
    {
     "data": {
      "text/plain": "<p class=\"small art-list-item-meta\">\n            2016<em> Mater. Res. Express</em><b> 3</b> 095904\n             \n            <a class=\"mr-2\" href=\"https://doi.org/10.1088/2053-1591/3/9/095904\">https://doi.org/10.1088/2053-1591/3/9/095904</a>\n</p>"
     },
     "execution_count": 72,
     "metadata": {},
     "output_type": "execute_result"
    }
   ],
   "source": [
    "otras[5][1]"
   ]
  },
  {
   "cell_type": "code",
   "execution_count": 43,
   "metadata": {},
   "outputs": [
    {
     "data": {
      "text/plain": "'Fe3O4/CdSe/ZnS \\nmagnetic fluorescent bifunctional nanocomposites were obtained by depositing heterogeneous\\nsemiconductor on magnetic nanoparticles. The structure and properties of the\\nFe3O4/CdSe/ZnS \\nnanocomposites were fully characterized by TEM, XPS, XRD, SQUID and PL. The results indicate that\\nthe Fe3O4/CdSe/ZnS \\nnanocomposites are superparamagnetic and are about 8\\xa0nm in size.\\nThe quantum yield of the nanocomposites increases from 2–3% in\\nFe3O4/CdSe to\\n10–15% in Fe3O4/CdSe/ZnS, together with a red shift of both the absorption peak and PL band. The increase of\\nquantum yield is due to the passivation of the surface of magnetic-CdSe nanocomposites\\nwith a ZnS layer. '"
     },
     "execution_count": 43,
     "metadata": {},
     "output_type": "execute_result"
    }
   ],
   "source": [
    "articulos[10][0]"
   ]
  },
  {
   "cell_type": "code",
   "execution_count": null,
   "metadata": {},
   "outputs": [],
   "source": []
  }
 ],
 "metadata": {
  "file_extension": ".py",
  "kernelspec": {
   "display_name": "Python 3",
   "language": "python",
   "name": "python3"
  },
  "language_info": {
   "codemirror_mode": {
    "name": "ipython",
    "version": 3
   },
   "file_extension": ".py",
   "mimetype": "text/x-python",
   "name": "python",
   "nbconvert_exporter": "python",
   "pygments_lexer": "ipython3",
   "version": "3.7.0-final"
  },
  "mimetype": "text/x-python",
  "name": "python",
  "npconvert_exporter": "python",
  "pygments_lexer": "ipython3",
  "version": 3
 },
 "nbformat": 4,
 "nbformat_minor": 2
}