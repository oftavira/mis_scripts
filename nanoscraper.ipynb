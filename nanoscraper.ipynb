{
 "cells": [
  {
   "cell_type": "code",
   "execution_count": 1,
   "metadata": {},
   "outputs": [
    {
     "data": {
      "text/plain": "'==============================================================================================================================='"
     },
     "execution_count": 1,
     "metadata": {},
     "output_type": "execute_result"
    }
   ],
   "source": [
    "#\n",
    "#\n",
    "#\n",
    "#\n",
    "\n",
    "from urllib import request\n",
    "from time   import sleep\n",
    "from bs4    import BeautifulSoup\n",
    "\n",
    "import requests\n",
    "import pandas as pd\n",
    "import re\n",
    "\n",
    "# Links for IOP search\n",
    "\n",
    "IOP_S  = \"https://iopscience.iop.org/nsearch?terms=\"\n",
    "IOP_E  = \"&nextPage=2&previousPage=-1&currentPage=\"\n",
    "IOP_P  = \"&searchDatePeriod=anytime&orderBy=relevance&pageLength=50\"\n",
    "\n",
    "# Links for NATURE search\n",
    "\n",
    "NANO_S = 'https://nano.nature.com/search?term=freeText%3A'\n",
    "NANO_E = '&sort-by=relevance&page-number='\n",
    "NANO_P = '&workflow=article'\n",
    "\n",
    "\n",
    "\"\"\"===============================================================================================================================\"\"\"\n",
    "\n",
    "# -format- returns a string that can be readed as a query to IOP or NANO\n",
    "\n",
    "def format(query):\n",
    "    pre_form = query.split(\" \")\n",
    "    return \"+\".join(pre_form)\n",
    "\n",
    "\n",
    "\"\"\"===============================================================================================================================\"\"\"\n",
    "\n",
    "# Some pages may have problems if requested with -urllib- or -requests-, SwitchKitchen is implemented to\n",
    "# switch the way we obtain a BeautifulSoup object\n",
    "\n",
    "\n",
    "def SwitchKitchen(uri, kitchen = \"requests\", parse = \"lxml\"):\n",
    "\n",
    "    # Request with --requests.get(url)--\n",
    "\n",
    "    if   kitchen == \"requests\":\n",
    "         response = requests.get(uri)\n",
    "         soup     = BeautifulSoup(response.text, parse)\n",
    "\n",
    "    elif kitchen == \"urllib\":\n",
    "\n",
    "    # Request with --request.urlopen(url)--\n",
    "\n",
    "         response = request.urlopen(uri)\n",
    "         soup     = BeautifulSoup(response, parse)\n",
    "    else:\n",
    "        raise Exception(\"Problema en la elección del método mara obtener la respuesta del servidor.\")\n",
    "    return soup;\n",
    "\n",
    "\"\"\"===============================================================================================================================\"\"\"\n",
    "\n",
    "# /Souparticles : Returns a list of BeautifulSoup objects that contain articles\n",
    "\n",
    "# /material     : Is a str. containing the search term\n",
    "# /page         : The page in which we are searching\n",
    "# /max_try      : The maximum tries before givin up, commonly this is a result of a 400 status response from the server\n",
    "# /slpy         : Is the time between requests, recommended to prevent overloading requested server\n",
    "\n",
    "\n",
    "def souparticlesIOP(query, page, max_int = 5, slpy = 3):\n",
    "    # At the beginning our IOP Soup is a None object\n",
    "    soupIOP = None\n",
    "    ints  = 0\n",
    "\n",
    "    while ints<max_int:    \n",
    "    # We try to catch some content from the server\n",
    "\n",
    "        try:\n",
    "            uri      = IOP_S+ format(query) + IOP_E + str(page) + IOP_P\n",
    "            # If we catch a 200 response we can make a Beautifoul Soup (BS), parsing with lxml\n",
    "            soupIOP  = SwitchKitchen(uri,kitchen = \"urllib\")\n",
    "            break\n",
    "        except:\n",
    "            # If we catch an error, we can retry\n",
    "            print(\"Reintentando pag: \" + str(page))\n",
    "            sleep(slpy)\n",
    "            pass\n",
    "        finally:\n",
    "            ints +=1\n",
    "    \n",
    "    # For soupIOP == None this process needs to be repeated\n",
    "    if(soupIOP==None):\n",
    "        print( \"Por favor reinicie la busqueda para pag: \" + str(page))\n",
    "        return None;\n",
    "    else:\n",
    "        # Returning the articles in a BS object\n",
    "        print(\"Añadida pag: \" + str(page))\n",
    "        return soupIOP.find_all('div', {\"class\" : \"art-list-item-body\"})\n",
    "\n",
    "\"\"\"===============================================================================================================================\"\"\"\n",
    "\n",
    "def souparticlesNANO(query, page, max_int = 5, slpy = 3):\n",
    "    nanosoup = None\n",
    "    ints=0\n",
    "    while ints<max_int:\n",
    "        try:\n",
    "            uri      = NANO_S+'\"'+format(query)+'\"'+NANO_E+str(page)+NANO_P\n",
    "            nanosoup = SwitchKitchen(uri, kitchen = \"requests\")\n",
    "            break\n",
    "        except:\n",
    "            print(\"Reintentando pag: \" + str(page))\n",
    "            sleep(slpy)\n",
    "            pass\n",
    "        finally:\n",
    "            ints +=1\n",
    "    if(nanosoup==None):\n",
    "        print( \"Por favor reinicie la busqueda para pag: \" + str(page))\n",
    "        return None;\n",
    "    else:\n",
    "        print(\"Añadida pag: \" + str(page))\n",
    "        return nanosoup.find_all('li', {\"class\" : \"Results_listItem\" })\n",
    "\n",
    "\"\"\"===============================================================================================================================\"\"\"\n",
    "\n",
    "# -Pages- returns a list of pages, each element contains the articles within that page\n",
    "\n",
    "def PagesIOP(query):\n",
    "    raw_pages   = []\n",
    "    init_uri  = IOP_S+ format(query) + IOP_E + str(1) + IOP_P\n",
    "    init_soup = SwitchKitchen(init_uri,kitchen = \"urllib\")\n",
    "    end_pages = init_soup.findChild(\"p\",{\"class\":\"pgs small\"}).get_text().split(\" \")[2]\n",
    "    for i in range(1, int(end_pages)+1):\n",
    "        raw_pages.append(souparticlesIOP(query, i))\n",
    "    return raw_pages;\n",
    "\n",
    "\"\"\"===============================================================================================================================\"\"\"\n",
    "\n",
    "def PagesNANO(query, cut = 12):\n",
    "    raw_pages = []\n",
    "    init_uri  = NANO_S+'\"'+format(query)+'\"'+NANO_E+str(1)+NANO_P\n",
    "    init_soup = SwitchKitchen(init_uri,kitchen = \"requests\")\n",
    "    end_pages = init_soup.findChild(\"span\",{\"class\":\"Pagination_numOfPages\"})\n",
    "    num_of_pgs= int(end_pages.get_text())\n",
    "    if num_of_pgs<12:\n",
    "        for i in range(1,num_of_pgs+1):\n",
    "            raw_pages.append(souparticlesNANO(query, i))\n",
    "    else:\n",
    "        for i in range(1, cut + 1 ):\n",
    "            raw_pages.append(souparticlesNANO(query, i))\n",
    "    return raw_pages;\n",
    "\n",
    "\"\"\"===============================================================================================================================\"\"\"\n",
    "\n",
    "# -stringify- returns a list of articles, each article containing it´s features, that can be readed as normal strings\n",
    "\n",
    "def stringifyIOP(raw_pages):\n",
    "    arts_db = []\n",
    "    for page in raw_pages:\n",
    "        for element in page:\n",
    "            try:\n",
    "                title     =     element.findChild('h2' , {\"class\"   : \"art-list-item-title\"}).findChild(\"a\")          # 0 title\n",
    "                abstract  =     element.findChild('div', {\"class\"   : \"article-text view-text-small\"}).findChild(\"p\") # 1 abstract\n",
    "                DOI       =     element.findChild('a'  , {\"class\"   : \"mr-2\"})                                        # 2 DOI\n",
    "                journal   =     element.findChild('em')                                                               # 3 Journal\n",
    "                #vol       =     element.findChild('b')                                                              \n",
    "                authors   =     element.find_all('span', {\"itemprop\": \"author\"})                                      # 4 auths\n",
    "\n",
    "                yearfind  =     element.find_all(\"p\"   , { \"class\" :\"small art-list-item-meta\"})                      # 5 year\n",
    "                year      =     int(yearfind[1].text[14:19])\n",
    "\n",
    "                arts_db.append([title.text ,abstract.text, DOI.text, journal.text,[auth.getText() for auth in authors], year])\n",
    "            except:\n",
    "                pass\n",
    "\n",
    "    return arts_db;\n",
    "\n",
    "\n",
    "\"\"\"===============================================================================================================================\"\"\"\n",
    "\n",
    "def stringifyNANO(raw_pages):\n",
    "    arts_db = []\n",
    "    for page in raw_pages:\n",
    "        for element in page:\n",
    "            try:\n",
    "                title       =     element.findChild(\"h2\").getText().replace(\"\\n\",\"\")                                # 0 Title\n",
    "                miscel      =     element.find_all(\"p\")\n",
    "\n",
    "                abstract    =     miscel[1].getText()                                                               # 1 Abstract\n",
    "                DOI         =     element.findChild('div', {\"class\": \"Doi\"}).getText()                              # 2 DOI\n",
    "                journal     =     miscel[0].findChild(\"strong\").getText()                                           # 3 Journal\n",
    "\n",
    "                #cited       =     miscel[2].getText()\n",
    "\n",
    "                authstag    =     element.findChild(\"ul\", {\"class\":\"PipeSepList Author\"})                           # 4 Auths\n",
    "                authors_tag =     authstag.find_all(\"li\")\n",
    "                authors_str = [author.getText().replace(\"\\n\",\"\") for author in authors_tag]\n",
    "\n",
    "                begi        =     miscel[0].getText().find(\"(\")\n",
    "                year        =     miscel[0].getText()[begi+1:begi+5]                                                # 5 Year\n",
    "\n",
    "                arts_db.append([title, abstract, DOI, journal, authors_str, year])\n",
    "            except:\n",
    "                pass\n",
    "\n",
    "    return arts_db;\n",
    "\n",
    "\"\"\"===============================================================================================================================\"\"\"\n",
    "\n",
    "# -query- returns a list of articles related to the search-term term*, note that this returns both IOP and NANO articles\n",
    "\n",
    "def query(terms):\n",
    "    all_arts = []\n",
    "\n",
    "    query_raw_iop  = PagesIOP(terms)\n",
    "    query_raw_nano = PagesNANO(terms)\n",
    "\n",
    "    IOP_DB         = stringifyIOP(query_raw_iop)\n",
    "    NANO_DB        = stringifyNANO(query_raw_nano)\n",
    "\n",
    "    for article in NANO_DB:\n",
    "        all_arts.append(article)\n",
    "    for article in IOP_DB:\n",
    "        all_arts.append(article)\n",
    "\n",
    "    return all_arts;\n",
    "\n",
    "\"\"\"===============================================================================================================================\"\"\"\n",
    "\n",
    "def search_kwords(arts, kwords):\n",
    "    candidates = []\n",
    "    count = 0\n",
    "    for art in arts:\n",
    "        if kwords in art[1]:\n",
    "            candidates.append(art)\n",
    "            count +=1\n",
    "    print(\"Coincidences: \" +str(count))\n",
    "    return candidates;\n",
    "\n",
    "\n",
    "\"\"\"===============================================================================================================================\"\"\"\n",
    "\n",
    "\n",
    "def pandas_dataframe(all_arts, name):\n",
    "    test_arts = {}\n",
    "    for i in range(0,6):\n",
    "        ls = []\n",
    "        for j in range(0,len(all_arts)):\n",
    "            ls.append(all_arts[j][i])\n",
    "        if i == 0:\n",
    "            test_arts.update(Title        = ls)\n",
    "        elif i == 1:\n",
    "            test_arts.update(Abstract     = ls)\n",
    "        elif i == 2:\n",
    "            test_arts.update(DOI          = ls)\n",
    "        elif i == 3:\n",
    "            test_arts.update(Journal      = ls)\n",
    "        elif i == 4:\n",
    "            test_arts.update(Auths        = ls)\n",
    "        else:\n",
    "            test_arts.update(Year         = ls)\n",
    "    pd.DataFrame(test_arts).to_pickle(\"mispepinillos/{}.pkl\".format(name))\n",
    "    return pd.DataFrame(test_arts);\n",
    "\n",
    "# To read a pandas dataframe local_datarame= pandas.read_pickle(\"folder/file.pkl\")\n",
    "\n",
    "\"\"\"===============================================================================================================================\"\"\""
   ]
  },
  {
   "cell_type": "code",
   "execution_count": 1,
   "metadata": {},
   "outputs": [],
   "source": [
    "from scicrapy import *"
   ]
  },
  {
   "cell_type": "code",
   "execution_count": 2,
   "metadata": {},
   "outputs": [
    {
     "name": "stdout",
     "output_type": "stream",
     "text": "Añadida pag: 1\nAñadida pag: 2\nAñadida pag: 3\nAñadida pag: 4\nAñadida pag: 5\nAñadida pag: 6\nAñadida pag: 7\nAñadida pag: 8\nAñadida pag: 9\nAñadida pag: 10\nAñadida pag: 11\nAñadida pag: 1\nAñadida pag: 2\nAñadida pag: 3\nAñadida pag: 4\nAñadida pag: 5\nAñadida pag: 6\nAñadida pag: 7\nAñadida pag: 8\nAñadida pag: 9\nAñadida pag: 10\nAñadida pag: 11\nAñadida pag: 12\n"
    }
   ],
   "source": [
    "a = query(\"znte\")"
   ]
  },
  {
   "cell_type": "code",
   "execution_count": 3,
   "metadata": {},
   "outputs": [],
   "source": [
    "pandas_znte = pandas_dataframe(a, \"znte\")"
   ]
  },
  {
   "cell_type": "code",
   "execution_count": 56,
   "metadata": {},
   "outputs": [],
   "source": [
    "pandas_znte[\"Year\"].value_counts().sort_index().drop(labels = -34, inplace =True)"
   ]
  },
  {
   "cell_type": "code",
   "execution_count": 61,
   "metadata": {},
   "outputs": [],
   "source": [
    "new_pd = pandas_znte[\"Year\"].value_counts().sort_index().drop(labels = -34)"
   ]
  },
  {
   "cell_type": "code",
   "execution_count": 76,
   "metadata": {},
   "outputs": [
    {
     "data": {
      "text/plain": "'Using DFT band structure simulations together with semi-classical Boltzmann transport kinetics equations, we have explored the optoelectronic and transport features of MnxZn1−xTe (x = 8% and 16%) crystals. Optimization of the doping and related technological processes it is extremely important for optimization of the technological parameters. The Generalized Gradient Approximation is applied to compute the corresponding band structure parameters. We have applied the Generalized Gradient Approximation Plus U (GGA+U). We have demonstrated that MnxZn1−xTe (x = 8% and 16%) is a direct type band semiconductor with principal energy gap values equal to 2.20 and 2.0 eV for x = 8% and 16%, respectively. The energy gap demonstrates significant decrease with increasing Mn content. Additionally, the origin of the corresponding bands is explored from the electronic density of states. The optical dispersion functions are calculated from the spectra of dielectric function. The theoretical simulations performed unambiguously showed that the titled materials are simultaneously promising optoelectronic and thermoelectric devices. The theoretical simulations performed showed ways for amendment of their transport properties by replacement of particular ions. '"
     },
     "execution_count": 76,
     "metadata": {},
     "output_type": "execute_result"
    }
   ],
   "source": [
    "\n",
    "pandas_znte[\"Abstract\"].iloc[5]"
   ]
  },
  {
   "cell_type": "code",
   "execution_count": 63,
   "metadata": {},
   "outputs": [
    {
     "data": {
      "text/plain": "array([ 2,  1,  3,  4,  4,  1,  3,  2,  5,  2,  4,  1,  3,  5,  3,  3,  8,\n        1,  3,  8,  5,  2,  4,  2,  4,  5,  5, 14,  6, 13,  7, 11,  5,  7,\n        9, 11,  5,  6, 12,  7, 10,  9,  8, 14, 18, 17, 16, 13, 22, 21, 21,\n        9, 15, 20, 41, 42,  2], dtype=int64)"
     },
     "execution_count": 63,
     "metadata": {},
     "output_type": "execute_result"
    }
   ],
   "source": [
    "new_pd.values"
   ]
  },
  {
   "cell_type": "code",
   "execution_count": 66,
   "metadata": {},
   "outputs": [
    {
     "data": {
      "image/png": "[encoded data removed]",
      "image/svg+xml": "<?xml version=\"1.0\" encoding=\"utf-8\" standalone=\"no\"?>\r\n<!DOCTYPE svg PUBLIC \"-//W3C//DTD SVG 1.1//EN\"\r\n  \"http://www.w3.org/Graphics/SVG/1.1/DTD/svg11.dtd\">\r\n<!-- Created with matplotlib (https://matplotlib.org/) -->\r\n<svg height=\"248.518125pt\" version=\"1.1\" viewBox=\"0 0 368.925 248.518125\" width=\"368.925pt\" xmlns=\"http://www.w3.org/2000/svg\" xmlns:xlink=\"http://www.w3.org/1999/xlink\">\r\n <defs>\r\n  <style type=\"text/css\">\r\n*{stroke-linecap:butt;stroke-linejoin:round;}\r\n  </style>\r\n </defs>\r\n <g id=\"figure_1\">\r\n  <g id=\"patch_1\">\r\n   <path d=\"M -0 248.518125 \r\nL 368.925 248.518125 \r\nL 368.925 0 \r\nL -0 0 \r\nz\r\n\" style=\"fill:none;\"/>\r\n  </g>\r\n  <g id=\"axes_1\">\r\n   <g id=\"patch_2\">\r\n    <path d=\"M 26.925 224.64 \r\nL 361.725 224.64 \r\nL 361.725 7.2 \r\nL 26.925 7.2 \r\nz\r\n\" style=\"fill:#ffffff;\"/>\r\n   </g>\r\n   <g id=\"patch_3\">\r\n    <path clip-path=\"url(#p8df76a53dd)\" d=\"M 42.143182 224.64 \r\nL 46.355827 224.64 \r\nL 46.355827 214.778776 \r\nL 42.143182 214.778776 \r\nz\r\n\" style=\"fill:#1f77b4;\"/>\r\n   </g>\r\n   <g id=\"patch_4\">\r\n    <path clip-path=\"url(#p8df76a53dd)\" d=\"M 47.408989 224.64 \r\nL 51.621634 224.64 \r\nL 51.621634 219.709388 \r\nL 47.408989 219.709388 \r\nz\r\n\" style=\"fill:#1f77b4;\"/>\r\n   </g>\r\n   <g id=\"patch_5\">\r\n    <path clip-path=\"url(#p8df76a53dd)\" d=\"M 52.674796 224.64 \r\nL 56.887441 224.64 \r\nL 56.887441 209.848163 \r\nL 52.674796 209.848163 \r\nz\r\n\" style=\"fill:#1f77b4;\"/>\r\n   </g>\r\n   <g id=\"patch_6\">\r\n    <path clip-path=\"url(#p8df76a53dd)\" d=\"M 57.940602 224.64 \r\nL 62.153248 224.64 \r\nL 62.153248 204.917551 \r\nL 57.940602 204.917551 \r\nz\r\n\" style=\"fill:#1f77b4;\"/>\r\n   </g>\r\n   <g id=\"patch_7\">\r\n    <path clip-path=\"url(#p8df76a53dd)\" d=\"M 63.206409 224.64 \r\nL 67.419055 224.64 \r\nL 67.419055 204.917551 \r\nL 63.206409 204.917551 \r\nz\r\n\" style=\"fill:#1f77b4;\"/>\r\n   </g>\r\n   <g id=\"patch_8\">\r\n    <path clip-path=\"url(#p8df76a53dd)\" d=\"M 68.472216 224.64 \r\nL 72.684862 224.64 \r\nL 72.684862 219.709388 \r\nL 68.472216 219.709388 \r\nz\r\n\" style=\"fill:#1f77b4;\"/>\r\n   </g>\r\n   <g id=\"patch_9\">\r\n    <path clip-path=\"url(#p8df76a53dd)\" d=\"M 73.738023 224.64 \r\nL 77.950668 224.64 \r\nL 77.950668 209.848163 \r\nL 73.738023 209.848163 \r\nz\r\n\" style=\"fill:#1f77b4;\"/>\r\n   </g>\r\n   <g id=\"patch_10\">\r\n    <path clip-path=\"url(#p8df76a53dd)\" d=\"M 79.00383 224.64 \r\nL 83.216475 224.64 \r\nL 83.216475 214.778776 \r\nL 79.00383 214.778776 \r\nz\r\n\" style=\"fill:#1f77b4;\"/>\r\n   </g>\r\n   <g id=\"patch_11\">\r\n    <path clip-path=\"url(#p8df76a53dd)\" d=\"M 84.269637 224.64 \r\nL 88.482282 224.64 \r\nL 88.482282 199.986939 \r\nL 84.269637 199.986939 \r\nz\r\n\" style=\"fill:#1f77b4;\"/>\r\n   </g>\r\n   <g id=\"patch_12\">\r\n    <path clip-path=\"url(#p8df76a53dd)\" d=\"M 89.535444 224.64 \r\nL 93.748089 224.64 \r\nL 93.748089 214.778776 \r\nL 89.535444 214.778776 \r\nz\r\n\" style=\"fill:#1f77b4;\"/>\r\n   </g>\r\n   <g id=\"patch_13\">\r\n    <path clip-path=\"url(#p8df76a53dd)\" d=\"M 94.80125 224.64 \r\nL 99.013896 224.64 \r\nL 99.013896 204.917551 \r\nL 94.80125 204.917551 \r\nz\r\n\" style=\"fill:#1f77b4;\"/>\r\n   </g>\r\n   <g id=\"patch_14\">\r\n    <path clip-path=\"url(#p8df76a53dd)\" d=\"M 105.332864 224.64 \r\nL 109.54551 224.64 \r\nL 109.54551 219.709388 \r\nL 105.332864 219.709388 \r\nz\r\n\" style=\"fill:#1f77b4;\"/>\r\n   </g>\r\n   <g id=\"patch_15\">\r\n    <path clip-path=\"url(#p8df76a53dd)\" d=\"M 110.598671 224.64 \r\nL 114.811316 224.64 \r\nL 114.811316 209.848163 \r\nL 110.598671 209.848163 \r\nz\r\n\" style=\"fill:#1f77b4;\"/>\r\n   </g>\r\n   <g id=\"patch_16\">\r\n    <path clip-path=\"url(#p8df76a53dd)\" d=\"M 115.864478 224.64 \r\nL 120.077123 224.64 \r\nL 120.077123 199.986939 \r\nL 115.864478 199.986939 \r\nz\r\n\" style=\"fill:#1f77b4;\"/>\r\n   </g>\r\n   <g id=\"patch_17\">\r\n    <path clip-path=\"url(#p8df76a53dd)\" d=\"M 121.130285 224.64 \r\nL 125.34293 224.64 \r\nL 125.34293 209.848163 \r\nL 121.130285 209.848163 \r\nz\r\n\" style=\"fill:#1f77b4;\"/>\r\n   </g>\r\n   <g id=\"patch_18\">\r\n    <path clip-path=\"url(#p8df76a53dd)\" d=\"M 126.396092 224.64 \r\nL 130.608737 224.64 \r\nL 130.608737 209.848163 \r\nL 126.396092 209.848163 \r\nz\r\n\" style=\"fill:#1f77b4;\"/>\r\n   </g>\r\n   <g id=\"patch_19\">\r\n    <path clip-path=\"url(#p8df76a53dd)\" d=\"M 131.661898 224.64 \r\nL 135.874544 224.64 \r\nL 135.874544 185.195102 \r\nL 131.661898 185.195102 \r\nz\r\n\" style=\"fill:#1f77b4;\"/>\r\n   </g>\r\n   <g id=\"patch_20\">\r\n    <path clip-path=\"url(#p8df76a53dd)\" d=\"M 136.927705 224.64 \r\nL 141.140351 224.64 \r\nL 141.140351 219.709388 \r\nL 136.927705 219.709388 \r\nz\r\n\" style=\"fill:#1f77b4;\"/>\r\n   </g>\r\n   <g id=\"patch_21\">\r\n    <path clip-path=\"url(#p8df76a53dd)\" d=\"M 142.193512 224.64 \r\nL 146.406158 224.64 \r\nL 146.406158 209.848163 \r\nL 142.193512 209.848163 \r\nz\r\n\" style=\"fill:#1f77b4;\"/>\r\n   </g>\r\n   <g id=\"patch_22\">\r\n    <path clip-path=\"url(#p8df76a53dd)\" d=\"M 147.459319 224.64 \r\nL 151.671964 224.64 \r\nL 151.671964 185.195102 \r\nL 147.459319 185.195102 \r\nz\r\n\" style=\"fill:#1f77b4;\"/>\r\n   </g>\r\n   <g id=\"patch_23\">\r\n    <path clip-path=\"url(#p8df76a53dd)\" d=\"M 152.725126 224.64 \r\nL 156.937771 224.64 \r\nL 156.937771 199.986939 \r\nL 152.725126 199.986939 \r\nz\r\n\" style=\"fill:#1f77b4;\"/>\r\n   </g>\r\n   <g id=\"patch_24\">\r\n    <path clip-path=\"url(#p8df76a53dd)\" d=\"M 157.990933 224.64 \r\nL 162.203578 224.64 \r\nL 162.203578 214.778776 \r\nL 157.990933 214.778776 \r\nz\r\n\" style=\"fill:#1f77b4;\"/>\r\n   </g>\r\n   <g id=\"patch_25\">\r\n    <path clip-path=\"url(#p8df76a53dd)\" d=\"M 163.25674 224.64 \r\nL 167.469385 224.64 \r\nL 167.469385 204.917551 \r\nL 163.25674 204.917551 \r\nz\r\n\" style=\"fill:#1f77b4;\"/>\r\n   </g>\r\n   <g id=\"patch_26\">\r\n    <path clip-path=\"url(#p8df76a53dd)\" d=\"M 168.522546 224.64 \r\nL 172.735192 224.64 \r\nL 172.735192 214.778776 \r\nL 168.522546 214.778776 \r\nz\r\n\" style=\"fill:#1f77b4;\"/>\r\n   </g>\r\n   <g id=\"patch_27\">\r\n    <path clip-path=\"url(#p8df76a53dd)\" d=\"M 173.788353 224.64 \r\nL 178.000999 224.64 \r\nL 178.000999 204.917551 \r\nL 173.788353 204.917551 \r\nz\r\n\" style=\"fill:#1f77b4;\"/>\r\n   </g>\r\n   <g id=\"patch_28\">\r\n    <path clip-path=\"url(#p8df76a53dd)\" d=\"M 179.05416 224.64 \r\nL 183.266806 224.64 \r\nL 183.266806 199.986939 \r\nL 179.05416 199.986939 \r\nz\r\n\" style=\"fill:#1f77b4;\"/>\r\n   </g>\r\n   <g id=\"patch_29\">\r\n    <path clip-path=\"url(#p8df76a53dd)\" d=\"M 184.319967 224.64 \r\nL 188.532612 224.64 \r\nL 188.532612 199.986939 \r\nL 184.319967 199.986939 \r\nz\r\n\" style=\"fill:#1f77b4;\"/>\r\n   </g>\r\n   <g id=\"patch_30\">\r\n    <path clip-path=\"url(#p8df76a53dd)\" d=\"M 189.585774 224.64 \r\nL 193.798419 224.64 \r\nL 193.798419 155.611429 \r\nL 189.585774 155.611429 \r\nz\r\n\" style=\"fill:#1f77b4;\"/>\r\n   </g>\r\n   <g id=\"patch_31\">\r\n    <path clip-path=\"url(#p8df76a53dd)\" d=\"M 194.851581 224.64 \r\nL 199.064226 224.64 \r\nL 199.064226 195.056327 \r\nL 194.851581 195.056327 \r\nz\r\n\" style=\"fill:#1f77b4;\"/>\r\n   </g>\r\n   <g id=\"patch_32\">\r\n    <path clip-path=\"url(#p8df76a53dd)\" d=\"M 200.117388 224.64 \r\nL 204.330033 224.64 \r\nL 204.330033 160.542041 \r\nL 200.117388 160.542041 \r\nz\r\n\" style=\"fill:#1f77b4;\"/>\r\n   </g>\r\n   <g id=\"patch_33\">\r\n    <path clip-path=\"url(#p8df76a53dd)\" d=\"M 205.383194 224.64 \r\nL 209.59584 224.64 \r\nL 209.59584 190.125714 \r\nL 205.383194 190.125714 \r\nz\r\n\" style=\"fill:#1f77b4;\"/>\r\n   </g>\r\n   <g id=\"patch_34\">\r\n    <path clip-path=\"url(#p8df76a53dd)\" d=\"M 210.649001 224.64 \r\nL 214.861647 224.64 \r\nL 214.861647 170.403265 \r\nL 210.649001 170.403265 \r\nz\r\n\" style=\"fill:#1f77b4;\"/>\r\n   </g>\r\n   <g id=\"patch_35\">\r\n    <path clip-path=\"url(#p8df76a53dd)\" d=\"M 215.914808 224.64 \r\nL 220.127454 224.64 \r\nL 220.127454 199.986939 \r\nL 215.914808 199.986939 \r\nz\r\n\" style=\"fill:#1f77b4;\"/>\r\n   </g>\r\n   <g id=\"patch_36\">\r\n    <path clip-path=\"url(#p8df76a53dd)\" d=\"M 221.180615 224.64 \r\nL 225.39326 224.64 \r\nL 225.39326 190.125714 \r\nL 221.180615 190.125714 \r\nz\r\n\" style=\"fill:#1f77b4;\"/>\r\n   </g>\r\n   <g id=\"patch_37\">\r\n    <path clip-path=\"url(#p8df76a53dd)\" d=\"M 226.446422 224.64 \r\nL 230.659067 224.64 \r\nL 230.659067 180.26449 \r\nL 226.446422 180.26449 \r\nz\r\n\" style=\"fill:#1f77b4;\"/>\r\n   </g>\r\n   <g id=\"patch_38\">\r\n    <path clip-path=\"url(#p8df76a53dd)\" d=\"M 231.712229 224.64 \r\nL 235.924874 224.64 \r\nL 235.924874 170.403265 \r\nL 231.712229 170.403265 \r\nz\r\n\" style=\"fill:#1f77b4;\"/>\r\n   </g>\r\n   <g id=\"patch_39\">\r\n    <path clip-path=\"url(#p8df76a53dd)\" d=\"M 236.978036 224.64 \r\nL 241.190681 224.64 \r\nL 241.190681 199.986939 \r\nL 236.978036 199.986939 \r\nz\r\n\" style=\"fill:#1f77b4;\"/>\r\n   </g>\r\n   <g id=\"patch_40\">\r\n    <path clip-path=\"url(#p8df76a53dd)\" d=\"M 242.243842 224.64 \r\nL 246.456488 224.64 \r\nL 246.456488 195.056327 \r\nL 242.243842 195.056327 \r\nz\r\n\" style=\"fill:#1f77b4;\"/>\r\n   </g>\r\n   <g id=\"patch_41\">\r\n    <path clip-path=\"url(#p8df76a53dd)\" d=\"M 247.509649 224.64 \r\nL 251.722295 224.64 \r\nL 251.722295 165.472653 \r\nL 247.509649 165.472653 \r\nz\r\n\" style=\"fill:#1f77b4;\"/>\r\n   </g>\r\n   <g id=\"patch_42\">\r\n    <path clip-path=\"url(#p8df76a53dd)\" d=\"M 252.775456 224.64 \r\nL 256.988102 224.64 \r\nL 256.988102 190.125714 \r\nL 252.775456 190.125714 \r\nz\r\n\" style=\"fill:#1f77b4;\"/>\r\n   </g>\r\n   <g id=\"patch_43\">\r\n    <path clip-path=\"url(#p8df76a53dd)\" d=\"M 258.041263 224.64 \r\nL 262.253908 224.64 \r\nL 262.253908 175.333878 \r\nL 258.041263 175.333878 \r\nz\r\n\" style=\"fill:#1f77b4;\"/>\r\n   </g>\r\n   <g id=\"patch_44\">\r\n    <path clip-path=\"url(#p8df76a53dd)\" d=\"M 263.30707 224.64 \r\nL 267.519715 224.64 \r\nL 267.519715 180.26449 \r\nL 263.30707 180.26449 \r\nz\r\n\" style=\"fill:#1f77b4;\"/>\r\n   </g>\r\n   <g id=\"patch_45\">\r\n    <path clip-path=\"url(#p8df76a53dd)\" d=\"M 268.572877 224.64 \r\nL 272.785522 224.64 \r\nL 272.785522 185.195102 \r\nL 268.572877 185.195102 \r\nz\r\n\" style=\"fill:#1f77b4;\"/>\r\n   </g>\r\n   <g id=\"patch_46\">\r\n    <path clip-path=\"url(#p8df76a53dd)\" d=\"M 273.838684 224.64 \r\nL 278.051329 224.64 \r\nL 278.051329 155.611429 \r\nL 273.838684 155.611429 \r\nz\r\n\" style=\"fill:#1f77b4;\"/>\r\n   </g>\r\n   <g id=\"patch_47\">\r\n    <path clip-path=\"url(#p8df76a53dd)\" d=\"M 279.10449 224.64 \r\nL 283.317136 224.64 \r\nL 283.317136 135.88898 \r\nL 279.10449 135.88898 \r\nz\r\n\" style=\"fill:#1f77b4;\"/>\r\n   </g>\r\n   <g id=\"patch_48\">\r\n    <path clip-path=\"url(#p8df76a53dd)\" d=\"M 284.370297 224.64 \r\nL 288.582943 224.64 \r\nL 288.582943 140.819592 \r\nL 284.370297 140.819592 \r\nz\r\n\" style=\"fill:#1f77b4;\"/>\r\n   </g>\r\n   <g id=\"patch_49\">\r\n    <path clip-path=\"url(#p8df76a53dd)\" d=\"M 289.636104 224.64 \r\nL 293.84875 224.64 \r\nL 293.84875 145.750204 \r\nL 289.636104 145.750204 \r\nz\r\n\" style=\"fill:#1f77b4;\"/>\r\n   </g>\r\n   <g id=\"patch_50\">\r\n    <path clip-path=\"url(#p8df76a53dd)\" d=\"M 294.901911 224.64 \r\nL 299.114556 224.64 \r\nL 299.114556 160.542041 \r\nL 294.901911 160.542041 \r\nz\r\n\" style=\"fill:#1f77b4;\"/>\r\n   </g>\r\n   <g id=\"patch_51\">\r\n    <path clip-path=\"url(#p8df76a53dd)\" d=\"M 300.167718 224.64 \r\nL 304.380363 224.64 \r\nL 304.380363 116.166531 \r\nL 300.167718 116.166531 \r\nz\r\n\" style=\"fill:#1f77b4;\"/>\r\n   </g>\r\n   <g id=\"patch_52\">\r\n    <path clip-path=\"url(#p8df76a53dd)\" d=\"M 305.433525 224.64 \r\nL 309.64617 224.64 \r\nL 309.64617 121.097143 \r\nL 305.433525 121.097143 \r\nz\r\n\" style=\"fill:#1f77b4;\"/>\r\n   </g>\r\n   <g id=\"patch_53\">\r\n    <path clip-path=\"url(#p8df76a53dd)\" d=\"M 310.699332 224.64 \r\nL 314.911977 224.64 \r\nL 314.911977 121.097143 \r\nL 310.699332 121.097143 \r\nz\r\n\" style=\"fill:#1f77b4;\"/>\r\n   </g>\r\n   <g id=\"patch_54\">\r\n    <path clip-path=\"url(#p8df76a53dd)\" d=\"M 315.965138 224.64 \r\nL 320.177784 224.64 \r\nL 320.177784 180.26449 \r\nL 315.965138 180.26449 \r\nz\r\n\" style=\"fill:#1f77b4;\"/>\r\n   </g>\r\n   <g id=\"patch_55\">\r\n    <path clip-path=\"url(#p8df76a53dd)\" d=\"M 321.230945 224.64 \r\nL 325.443591 224.64 \r\nL 325.443591 150.680816 \r\nL 321.230945 150.680816 \r\nz\r\n\" style=\"fill:#1f77b4;\"/>\r\n   </g>\r\n   <g id=\"patch_56\">\r\n    <path clip-path=\"url(#p8df76a53dd)\" d=\"M 326.496752 224.64 \r\nL 330.709398 224.64 \r\nL 330.709398 126.027755 \r\nL 326.496752 126.027755 \r\nz\r\n\" style=\"fill:#1f77b4;\"/>\r\n   </g>\r\n   <g id=\"patch_57\">\r\n    <path clip-path=\"url(#p8df76a53dd)\" d=\"M 331.762559 224.64 \r\nL 335.975204 224.64 \r\nL 335.975204 22.484898 \r\nL 331.762559 22.484898 \r\nz\r\n\" style=\"fill:#1f77b4;\"/>\r\n   </g>\r\n   <g id=\"patch_58\">\r\n    <path clip-path=\"url(#p8df76a53dd)\" d=\"M 337.028366 224.64 \r\nL 341.241011 224.64 \r\nL 341.241011 17.554286 \r\nL 337.028366 17.554286 \r\nz\r\n\" style=\"fill:#1f77b4;\"/>\r\n   </g>\r\n   <g id=\"patch_59\">\r\n    <path clip-path=\"url(#p8df76a53dd)\" d=\"M 342.294173 224.64 \r\nL 346.506818 224.64 \r\nL 346.506818 214.778776 \r\nL 342.294173 214.778776 \r\nz\r\n\" style=\"fill:#1f77b4;\"/>\r\n   </g>\r\n   <g id=\"matplotlib.axis_1\">\r\n    <g id=\"xtick_1\">\r\n     <g id=\"line2d_1\">\r\n      <defs>\r\n       <path d=\"M 0 0 \r\nL 0 3.5 \r\n\" id=\"md68a2fd0e3\" style=\"stroke:#000000;stroke-width:0.8;\"/>\r\n      </defs>\r\n      <g>\r\n       <use style=\"stroke:#000000;stroke-width:0.8;\" x=\"28.452084\" xlink:href=\"#md68a2fd0e3\" y=\"224.64\"/>\r\n      </g>\r\n     </g>\r\n     <g id=\"text_1\">\r\n      <!-- 1960 -->\r\n      <defs>\r\n       <path d=\"M 12.40625 8.296875 \r\nL 28.515625 8.296875 \r\nL 28.515625 63.921875 \r\nL 10.984375 60.40625 \r\nL 10.984375 69.390625 \r\nL 28.421875 72.90625 \r\nL 38.28125 72.90625 \r\nL 38.28125 8.296875 \r\nL 54.390625 8.296875 \r\nL 54.390625 0 \r\nL 12.40625 0 \r\nz\r\n\" id=\"DejaVuSans-49\"/>\r\n       <path d=\"M 10.984375 1.515625 \r\nL 10.984375 10.5 \r\nQ 14.703125 8.734375 18.5 7.8125 \r\nQ 22.3125 6.890625 25.984375 6.890625 \r\nQ 35.75 6.890625 40.890625 13.453125 \r\nQ 46.046875 20.015625 46.78125 33.40625 \r\nQ 43.953125 29.203125 39.59375 26.953125 \r\nQ 35.25 24.703125 29.984375 24.703125 \r\nQ 19.046875 24.703125 12.671875 31.3125 \r\nQ 6.296875 37.9375 6.296875 49.421875 \r\nQ 6.296875 60.640625 12.9375 67.421875 \r\nQ 19.578125 74.21875 30.609375 74.21875 \r\nQ 43.265625 74.21875 49.921875 64.515625 \r\nQ 56.59375 54.828125 56.59375 36.375 \r\nQ 56.59375 19.140625 48.40625 8.859375 \r\nQ 40.234375 -1.421875 26.421875 -1.421875 \r\nQ 22.703125 -1.421875 18.890625 -0.6875 \r\nQ 15.09375 0.046875 10.984375 1.515625 \r\nz\r\nM 30.609375 32.421875 \r\nQ 37.25 32.421875 41.125 36.953125 \r\nQ 45.015625 41.5 45.015625 49.421875 \r\nQ 45.015625 57.28125 41.125 61.84375 \r\nQ 37.25 66.40625 30.609375 66.40625 \r\nQ 23.96875 66.40625 20.09375 61.84375 \r\nQ 16.21875 57.28125 16.21875 49.421875 \r\nQ 16.21875 41.5 20.09375 36.953125 \r\nQ 23.96875 32.421875 30.609375 32.421875 \r\nz\r\n\" id=\"DejaVuSans-57\"/>\r\n       <path d=\"M 33.015625 40.375 \r\nQ 26.375 40.375 22.484375 35.828125 \r\nQ 18.609375 31.296875 18.609375 23.390625 \r\nQ 18.609375 15.53125 22.484375 10.953125 \r\nQ 26.375 6.390625 33.015625 6.390625 \r\nQ 39.65625 6.390625 43.53125 10.953125 \r\nQ 47.40625 15.53125 47.40625 23.390625 \r\nQ 47.40625 31.296875 43.53125 35.828125 \r\nQ 39.65625 40.375 33.015625 40.375 \r\nz\r\nM 52.59375 71.296875 \r\nL 52.59375 62.3125 \r\nQ 48.875 64.0625 45.09375 64.984375 \r\nQ 41.3125 65.921875 37.59375 65.921875 \r\nQ 27.828125 65.921875 22.671875 59.328125 \r\nQ 17.53125 52.734375 16.796875 39.40625 \r\nQ 19.671875 43.65625 24.015625 45.921875 \r\nQ 28.375 48.1875 33.59375 48.1875 \r\nQ 44.578125 48.1875 50.953125 41.515625 \r\nQ 57.328125 34.859375 57.328125 23.390625 \r\nQ 57.328125 12.15625 50.6875 5.359375 \r\nQ 44.046875 -1.421875 33.015625 -1.421875 \r\nQ 20.359375 -1.421875 13.671875 8.265625 \r\nQ 6.984375 17.96875 6.984375 36.375 \r\nQ 6.984375 53.65625 15.1875 63.9375 \r\nQ 23.390625 74.21875 37.203125 74.21875 \r\nQ 40.921875 74.21875 44.703125 73.484375 \r\nQ 48.484375 72.75 52.59375 71.296875 \r\nz\r\n\" id=\"DejaVuSans-54\"/>\r\n       <path d=\"M 31.78125 66.40625 \r\nQ 24.171875 66.40625 20.328125 58.90625 \r\nQ 16.5 51.421875 16.5 36.375 \r\nQ 16.5 21.390625 20.328125 13.890625 \r\nQ 24.171875 6.390625 31.78125 6.390625 \r\nQ 39.453125 6.390625 43.28125 13.890625 \r\nQ 47.125 21.390625 47.125 36.375 \r\nQ 47.125 51.421875 43.28125 58.90625 \r\nQ 39.453125 66.40625 31.78125 66.40625 \r\nz\r\nM 31.78125 74.21875 \r\nQ 44.046875 74.21875 50.515625 64.515625 \r\nQ 56.984375 54.828125 56.984375 36.375 \r\nQ 56.984375 17.96875 50.515625 8.265625 \r\nQ 44.046875 -1.421875 31.78125 -1.421875 \r\nQ 19.53125 -1.421875 13.0625 8.265625 \r\nQ 6.59375 17.96875 6.59375 36.375 \r\nQ 6.59375 54.828125 13.0625 64.515625 \r\nQ 19.53125 74.21875 31.78125 74.21875 \r\nz\r\n\" id=\"DejaVuSans-48\"/>\r\n      </defs>\r\n      <g transform=\"translate(15.727084 239.238437)scale(0.1 -0.1)\">\r\n       <use xlink:href=\"#DejaVuSans-49\"/>\r\n       <use x=\"63.623047\" xlink:href=\"#DejaVuSans-57\"/>\r\n       <use x=\"127.246094\" xlink:href=\"#DejaVuSans-54\"/>\r\n       <use x=\"190.869141\" xlink:href=\"#DejaVuSans-48\"/>\r\n      </g>\r\n     </g>\r\n    </g>\r\n    <g id=\"xtick_2\">\r\n     <g id=\"line2d_2\">\r\n      <g>\r\n       <use style=\"stroke:#000000;stroke-width:0.8;\" x=\"81.110153\" xlink:href=\"#md68a2fd0e3\" y=\"224.64\"/>\r\n      </g>\r\n     </g>\r\n     <g id=\"text_2\">\r\n      <!-- 1970 -->\r\n      <defs>\r\n       <path d=\"M 8.203125 72.90625 \r\nL 55.078125 72.90625 \r\nL 55.078125 68.703125 \r\nL 28.609375 0 \r\nL 18.3125 0 \r\nL 43.21875 64.59375 \r\nL 8.203125 64.59375 \r\nz\r\n\" id=\"DejaVuSans-55\"/>\r\n      </defs>\r\n      <g transform=\"translate(68.385153 239.238437)scale(0.1 -0.1)\">\r\n       <use xlink:href=\"#DejaVuSans-49\"/>\r\n       <use x=\"63.623047\" xlink:href=\"#DejaVuSans-57\"/>\r\n       <use x=\"127.246094\" xlink:href=\"#DejaVuSans-55\"/>\r\n       <use x=\"190.869141\" xlink:href=\"#DejaVuSans-48\"/>\r\n      </g>\r\n     </g>\r\n    </g>\r\n    <g id=\"xtick_3\">\r\n     <g id=\"line2d_3\">\r\n      <g>\r\n       <use style=\"stroke:#000000;stroke-width:0.8;\" x=\"133.768221\" xlink:href=\"#md68a2fd0e3\" y=\"224.64\"/>\r\n      </g>\r\n     </g>\r\n     <g id=\"text_3\">\r\n      <!-- 1980 -->\r\n      <defs>\r\n       <path d=\"M 31.78125 34.625 \r\nQ 24.75 34.625 20.71875 30.859375 \r\nQ 16.703125 27.09375 16.703125 20.515625 \r\nQ 16.703125 13.921875 20.71875 10.15625 \r\nQ 24.75 6.390625 31.78125 6.390625 \r\nQ 38.8125 6.390625 42.859375 10.171875 \r\nQ 46.921875 13.96875 46.921875 20.515625 \r\nQ 46.921875 27.09375 42.890625 30.859375 \r\nQ 38.875 34.625 31.78125 34.625 \r\nz\r\nM 21.921875 38.8125 \r\nQ 15.578125 40.375 12.03125 44.71875 \r\nQ 8.5 49.078125 8.5 55.328125 \r\nQ 8.5 64.0625 14.71875 69.140625 \r\nQ 20.953125 74.21875 31.78125 74.21875 \r\nQ 42.671875 74.21875 48.875 69.140625 \r\nQ 55.078125 64.0625 55.078125 55.328125 \r\nQ 55.078125 49.078125 51.53125 44.71875 \r\nQ 48 40.375 41.703125 38.8125 \r\nQ 48.828125 37.15625 52.796875 32.3125 \r\nQ 56.78125 27.484375 56.78125 20.515625 \r\nQ 56.78125 9.90625 50.3125 4.234375 \r\nQ 43.84375 -1.421875 31.78125 -1.421875 \r\nQ 19.734375 -1.421875 13.25 4.234375 \r\nQ 6.78125 9.90625 6.78125 20.515625 \r\nQ 6.78125 27.484375 10.78125 32.3125 \r\nQ 14.796875 37.15625 21.921875 38.8125 \r\nz\r\nM 18.3125 54.390625 \r\nQ 18.3125 48.734375 21.84375 45.5625 \r\nQ 25.390625 42.390625 31.78125 42.390625 \r\nQ 38.140625 42.390625 41.71875 45.5625 \r\nQ 45.3125 48.734375 45.3125 54.390625 \r\nQ 45.3125 60.0625 41.71875 63.234375 \r\nQ 38.140625 66.40625 31.78125 66.40625 \r\nQ 25.390625 66.40625 21.84375 63.234375 \r\nQ 18.3125 60.0625 18.3125 54.390625 \r\nz\r\n\" id=\"DejaVuSans-56\"/>\r\n      </defs>\r\n      <g transform=\"translate(121.043221 239.238437)scale(0.1 -0.1)\">\r\n       <use xlink:href=\"#DejaVuSans-49\"/>\r\n       <use x=\"63.623047\" xlink:href=\"#DejaVuSans-57\"/>\r\n       <use x=\"127.246094\" xlink:href=\"#DejaVuSans-56\"/>\r\n       <use x=\"190.869141\" xlink:href=\"#DejaVuSans-48\"/>\r\n      </g>\r\n     </g>\r\n    </g>\r\n    <g id=\"xtick_4\">\r\n     <g id=\"line2d_4\">\r\n      <g>\r\n       <use style=\"stroke:#000000;stroke-width:0.8;\" x=\"186.42629\" xlink:href=\"#md68a2fd0e3\" y=\"224.64\"/>\r\n      </g>\r\n     </g>\r\n     <g id=\"text_4\">\r\n      <!-- 1990 -->\r\n      <g transform=\"translate(173.70129 239.238437)scale(0.1 -0.1)\">\r\n       <use xlink:href=\"#DejaVuSans-49\"/>\r\n       <use x=\"63.623047\" xlink:href=\"#DejaVuSans-57\"/>\r\n       <use x=\"127.246094\" xlink:href=\"#DejaVuSans-57\"/>\r\n       <use x=\"190.869141\" xlink:href=\"#DejaVuSans-48\"/>\r\n      </g>\r\n     </g>\r\n    </g>\r\n    <g id=\"xtick_5\">\r\n     <g id=\"line2d_5\">\r\n      <g>\r\n       <use style=\"stroke:#000000;stroke-width:0.8;\" x=\"239.084358\" xlink:href=\"#md68a2fd0e3\" y=\"224.64\"/>\r\n      </g>\r\n     </g>\r\n     <g id=\"text_5\">\r\n      <!-- 2000 -->\r\n      <defs>\r\n       <path d=\"M 19.1875 8.296875 \r\nL 53.609375 8.296875 \r\nL 53.609375 0 \r\nL 7.328125 0 \r\nL 7.328125 8.296875 \r\nQ 12.9375 14.109375 22.625 23.890625 \r\nQ 32.328125 33.6875 34.8125 36.53125 \r\nQ 39.546875 41.84375 41.421875 45.53125 \r\nQ 43.3125 49.21875 43.3125 52.78125 \r\nQ 43.3125 58.59375 39.234375 62.25 \r\nQ 35.15625 65.921875 28.609375 65.921875 \r\nQ 23.96875 65.921875 18.8125 64.3125 \r\nQ 13.671875 62.703125 7.8125 59.421875 \r\nL 7.8125 69.390625 \r\nQ 13.765625 71.78125 18.9375 73 \r\nQ 24.125 74.21875 28.421875 74.21875 \r\nQ 39.75 74.21875 46.484375 68.546875 \r\nQ 53.21875 62.890625 53.21875 53.421875 \r\nQ 53.21875 48.921875 51.53125 44.890625 \r\nQ 49.859375 40.875 45.40625 35.40625 \r\nQ 44.1875 33.984375 37.640625 27.21875 \r\nQ 31.109375 20.453125 19.1875 8.296875 \r\nz\r\n\" id=\"DejaVuSans-50\"/>\r\n      </defs>\r\n      <g transform=\"translate(226.359358 239.238437)scale(0.1 -0.1)\">\r\n       <use xlink:href=\"#DejaVuSans-50\"/>\r\n       <use x=\"63.623047\" xlink:href=\"#DejaVuSans-48\"/>\r\n       <use x=\"127.246094\" xlink:href=\"#DejaVuSans-48\"/>\r\n       <use x=\"190.869141\" xlink:href=\"#DejaVuSans-48\"/>\r\n      </g>\r\n     </g>\r\n    </g>\r\n    <g id=\"xtick_6\">\r\n     <g id=\"line2d_6\">\r\n      <g>\r\n       <use style=\"stroke:#000000;stroke-width:0.8;\" x=\"291.742427\" xlink:href=\"#md68a2fd0e3\" y=\"224.64\"/>\r\n      </g>\r\n     </g>\r\n     <g id=\"text_6\">\r\n      <!-- 2010 -->\r\n      <g transform=\"translate(279.017427 239.238437)scale(0.1 -0.1)\">\r\n       <use xlink:href=\"#DejaVuSans-50\"/>\r\n       <use x=\"63.623047\" xlink:href=\"#DejaVuSans-48\"/>\r\n       <use x=\"127.246094\" xlink:href=\"#DejaVuSans-49\"/>\r\n       <use x=\"190.869141\" xlink:href=\"#DejaVuSans-48\"/>\r\n      </g>\r\n     </g>\r\n    </g>\r\n    <g id=\"xtick_7\">\r\n     <g id=\"line2d_7\">\r\n      <g>\r\n       <use style=\"stroke:#000000;stroke-width:0.8;\" x=\"344.400495\" xlink:href=\"#md68a2fd0e3\" y=\"224.64\"/>\r\n      </g>\r\n     </g>\r\n     <g id=\"text_7\">\r\n      <!-- 2020 -->\r\n      <g transform=\"translate(331.675495 239.238437)scale(0.1 -0.1)\">\r\n       <use xlink:href=\"#DejaVuSans-50\"/>\r\n       <use x=\"63.623047\" xlink:href=\"#DejaVuSans-48\"/>\r\n       <use x=\"127.246094\" xlink:href=\"#DejaVuSans-50\"/>\r\n       <use x=\"190.869141\" xlink:href=\"#DejaVuSans-48\"/>\r\n      </g>\r\n     </g>\r\n    </g>\r\n   </g>\r\n   <g id=\"matplotlib.axis_2\">\r\n    <g id=\"ytick_1\">\r\n     <g id=\"line2d_8\">\r\n      <defs>\r\n       <path d=\"M 0 0 \r\nL -3.5 0 \r\n\" id=\"m9a300cda90\" style=\"stroke:#000000;stroke-width:0.8;\"/>\r\n      </defs>\r\n      <g>\r\n       <use style=\"stroke:#000000;stroke-width:0.8;\" x=\"26.925\" xlink:href=\"#m9a300cda90\" y=\"224.64\"/>\r\n      </g>\r\n     </g>\r\n     <g id=\"text_8\">\r\n      <!-- 0 -->\r\n      <g transform=\"translate(13.5625 228.439219)scale(0.1 -0.1)\">\r\n       <use xlink:href=\"#DejaVuSans-48\"/>\r\n      </g>\r\n     </g>\r\n    </g>\r\n    <g id=\"ytick_2\">\r\n     <g id=\"line2d_9\">\r\n      <g>\r\n       <use style=\"stroke:#000000;stroke-width:0.8;\" x=\"26.925\" xlink:href=\"#m9a300cda90\" y=\"175.333878\"/>\r\n      </g>\r\n     </g>\r\n     <g id=\"text_9\">\r\n      <!-- 10 -->\r\n      <g transform=\"translate(7.2 179.133096)scale(0.1 -0.1)\">\r\n       <use xlink:href=\"#DejaVuSans-49\"/>\r\n       <use x=\"63.623047\" xlink:href=\"#DejaVuSans-48\"/>\r\n      </g>\r\n     </g>\r\n    </g>\r\n    <g id=\"ytick_3\">\r\n     <g id=\"line2d_10\">\r\n      <g>\r\n       <use style=\"stroke:#000000;stroke-width:0.8;\" x=\"26.925\" xlink:href=\"#m9a300cda90\" y=\"126.027755\"/>\r\n      </g>\r\n     </g>\r\n     <g id=\"text_10\">\r\n      <!-- 20 -->\r\n      <g transform=\"translate(7.2 129.826974)scale(0.1 -0.1)\">\r\n       <use xlink:href=\"#DejaVuSans-50\"/>\r\n       <use x=\"63.623047\" xlink:href=\"#DejaVuSans-48\"/>\r\n      </g>\r\n     </g>\r\n    </g>\r\n    <g id=\"ytick_4\">\r\n     <g id=\"line2d_11\">\r\n      <g>\r\n       <use style=\"stroke:#000000;stroke-width:0.8;\" x=\"26.925\" xlink:href=\"#m9a300cda90\" y=\"76.721633\"/>\r\n      </g>\r\n     </g>\r\n     <g id=\"text_11\">\r\n      <!-- 30 -->\r\n      <defs>\r\n       <path d=\"M 40.578125 39.3125 \r\nQ 47.65625 37.796875 51.625 33 \r\nQ 55.609375 28.21875 55.609375 21.1875 \r\nQ 55.609375 10.40625 48.1875 4.484375 \r\nQ 40.765625 -1.421875 27.09375 -1.421875 \r\nQ 22.515625 -1.421875 17.65625 -0.515625 \r\nQ 12.796875 0.390625 7.625 2.203125 \r\nL 7.625 11.71875 \r\nQ 11.71875 9.328125 16.59375 8.109375 \r\nQ 21.484375 6.890625 26.8125 6.890625 \r\nQ 36.078125 6.890625 40.9375 10.546875 \r\nQ 45.796875 14.203125 45.796875 21.1875 \r\nQ 45.796875 27.640625 41.28125 31.265625 \r\nQ 36.765625 34.90625 28.71875 34.90625 \r\nL 20.21875 34.90625 \r\nL 20.21875 43.015625 \r\nL 29.109375 43.015625 \r\nQ 36.375 43.015625 40.234375 45.921875 \r\nQ 44.09375 48.828125 44.09375 54.296875 \r\nQ 44.09375 59.90625 40.109375 62.90625 \r\nQ 36.140625 65.921875 28.71875 65.921875 \r\nQ 24.65625 65.921875 20.015625 65.03125 \r\nQ 15.375 64.15625 9.8125 62.3125 \r\nL 9.8125 71.09375 \r\nQ 15.4375 72.65625 20.34375 73.4375 \r\nQ 25.25 74.21875 29.59375 74.21875 \r\nQ 40.828125 74.21875 47.359375 69.109375 \r\nQ 53.90625 64.015625 53.90625 55.328125 \r\nQ 53.90625 49.265625 50.4375 45.09375 \r\nQ 46.96875 40.921875 40.578125 39.3125 \r\nz\r\n\" id=\"DejaVuSans-51\"/>\r\n      </defs>\r\n      <g transform=\"translate(7.2 80.520851)scale(0.1 -0.1)\">\r\n       <use xlink:href=\"#DejaVuSans-51\"/>\r\n       <use x=\"63.623047\" xlink:href=\"#DejaVuSans-48\"/>\r\n      </g>\r\n     </g>\r\n    </g>\r\n    <g id=\"ytick_5\">\r\n     <g id=\"line2d_12\">\r\n      <g>\r\n       <use style=\"stroke:#000000;stroke-width:0.8;\" x=\"26.925\" xlink:href=\"#m9a300cda90\" y=\"27.41551\"/>\r\n      </g>\r\n     </g>\r\n     <g id=\"text_12\">\r\n      <!-- 40 -->\r\n      <defs>\r\n       <path d=\"M 37.796875 64.3125 \r\nL 12.890625 25.390625 \r\nL 37.796875 25.390625 \r\nz\r\nM 35.203125 72.90625 \r\nL 47.609375 72.90625 \r\nL 47.609375 25.390625 \r\nL 58.015625 25.390625 \r\nL 58.015625 17.1875 \r\nL 47.609375 17.1875 \r\nL 47.609375 0 \r\nL 37.796875 0 \r\nL 37.796875 17.1875 \r\nL 4.890625 17.1875 \r\nL 4.890625 26.703125 \r\nz\r\n\" id=\"DejaVuSans-52\"/>\r\n      </defs>\r\n      <g transform=\"translate(7.2 31.214729)scale(0.1 -0.1)\">\r\n       <use xlink:href=\"#DejaVuSans-52\"/>\r\n       <use x=\"63.623047\" xlink:href=\"#DejaVuSans-48\"/>\r\n      </g>\r\n     </g>\r\n    </g>\r\n   </g>\r\n   <g id=\"patch_60\">\r\n    <path d=\"M 26.925 224.64 \r\nL 26.925 7.2 \r\n\" style=\"fill:none;stroke:#000000;stroke-linecap:square;stroke-linejoin:miter;stroke-width:0.8;\"/>\r\n   </g>\r\n   <g id=\"patch_61\">\r\n    <path d=\"M 361.725 224.64 \r\nL 361.725 7.2 \r\n\" style=\"fill:none;stroke:#000000;stroke-linecap:square;stroke-linejoin:miter;stroke-width:0.8;\"/>\r\n   </g>\r\n   <g id=\"patch_62\">\r\n    <path d=\"M 26.925 224.64 \r\nL 361.725 224.64 \r\n\" style=\"fill:none;stroke:#000000;stroke-linecap:square;stroke-linejoin:miter;stroke-width:0.8;\"/>\r\n   </g>\r\n   <g id=\"patch_63\">\r\n    <path d=\"M 26.925 7.2 \r\nL 361.725 7.2 \r\n\" style=\"fill:none;stroke:#000000;stroke-linecap:square;stroke-linejoin:miter;stroke-width:0.8;\"/>\r\n   </g>\r\n  </g>\r\n </g>\r\n <defs>\r\n  <clipPath id=\"p8df76a53dd\">\r\n   <rect height=\"217.44\" width=\"334.8\" x=\"26.925\" y=\"7.2\"/>\r\n  </clipPath>\r\n </defs>\r\n</svg>\r\n",
      "text/plain": "<Figure size 432x288 with 1 Axes>"
     },
     "metadata": {
      "needs_background": "light"
     },
     "output_type": "display_data"
    }
   ],
   "source": [
    "from matplotlib import pyplot as plt\n",
    "\n",
    "x = new_pd.index\n",
    "y = new_pd.values\n",
    "\n",
    "x_ticks = np.arange(1950, 2030, 10)\n",
    "plt.xticks(x_ticks)\n",
    "\n",
    "y_ticks = np.arange(0, 50, 10)\n",
    "plt.yticks(y_ticks)\n",
    "\n",
    "plt.bar(x,y)\n",
    "\n",
    "plt.show()"
   ]
  },
  {
   "cell_type": "code",
   "execution_count": null,
   "metadata": {},
   "outputs": [],
   "source": []
  },
  {
   "cell_type": "code",
   "execution_count": 38,
   "metadata": {},
   "outputs": [],
   "source": [
    "import numpy as np\n",
    "\n",
    "y_ticks = np.arange(0, 5, 2)"
   ]
  },
  {
   "cell_type": "code",
   "execution_count": 32,
   "metadata": {},
   "outputs": [
    {
     "data": {
      "text/plain": "array([0, 2, 4])"
     },
     "execution_count": 32,
     "metadata": {},
     "output_type": "execute_result"
    }
   ],
   "source": [
    "y_ticks"
   ]
  },
  {
   "cell_type": "code",
   "execution_count": null,
   "metadata": {},
   "outputs": [],
   "source": []
  }
 ],
 "metadata": {
  "file_extension": ".py",
  "kernelspec": {
   "display_name": "Python 3.7.4 64-bit",
   "language": "python",
   "name": "python37464bitf970296ce93e4865b058a969729ca98c"
  },
  "language_info": {
   "codemirror_mode": {
    "name": "ipython",
    "version": 3
   },
   "file_extension": ".py",
   "mimetype": "text/x-python",
   "name": "python",
   "nbconvert_exporter": "python",
   "pygments_lexer": "ipython3",
   "version": "3.7.4-final"
  },
  "mimetype": "text/x-python",
  "name": "python",
  "npconvert_exporter": "python",
  "pygments_lexer": "ipython3",
  "version": 3
 },
 "nbformat": 4,
 "nbformat_minor": 2
}