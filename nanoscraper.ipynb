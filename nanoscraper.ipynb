{
 "cells": [
  {
   "cell_type": "code",
   "execution_count": 10,
   "metadata": {},
   "outputs": [],
   "source": [
    "from bs4 import BeautifulSoup\n",
    "import requests\n",
    "\n",
    "uri  = \"https://iopscience.iop.org/nsearch?terms=ZnTe&nextPage=2&previousPage=-1&currentPage=1&searchDatePeriod=anytime&orderBy=relevance&pageLength=50\"\n",
    "\n",
    "r1 = requests.get(uri)\n",
    "coverpage = r1.content"
   ]
  },
  {
   "cell_type": "code",
   "execution_count": 11,
   "metadata": {},
   "outputs": [],
   "source": [
    "soup1 = BeautifulSoup(coverpage, 'lxml')"
   ]
  },
  {
   "cell_type": "code",
   "execution_count": 28,
   "metadata": {},
   "outputs": [],
   "source": [
    "td = soup1.find_all('div', {\"class\" : \"art-list-item-body\"})"
   ]
  },
  {
   "cell_type": "code",
   "execution_count": 29,
   "metadata": {},
   "outputs": [
    {
     "data": {
      "text/plain": "50"
     },
     "execution_count": 29,
     "metadata": {},
     "output_type": "execute_result"
    }
   ],
   "source": [
    "len(td)"
   ]
  },
  {
   "cell_type": "code",
   "execution_count": 91,
   "metadata": {},
   "outputs": [],
   "source": [
    "articulos = []\n",
    "for i in td:\n",
    "    a  = i.findChild('div', {\"class\" : \"article-text view-text-small\"}).findChild(\"p\")\n",
    "\n",
    "    b  = i.findChild('h2',  {\"class\" : \"art-list-item-title\"}).findChild(\"a\")\n",
    "\n",
    "    articulos.append([a.text ,b.text])"
   ]
  },
  {
   "cell_type": "code",
   "execution_count": 96,
   "metadata": {},
   "outputs": [
    {
     "data": {
      "text/plain": "'Excitation power and temperature-dependent photoluminescence (PL) spectra of the ZnTe epilayer grown on (100) GaAs substrate and ZnTe bulk crystal are investigated. The measurement results show that both the structures are of good structural quality due to their sharp bound excitonic emissions and absence of the deep level structural defect-related emissions. Furthermore, in contrast to the ZnTe bulk crystal, although excitonic emissions for the ZnTe epilayer are somewhat weak, perhaps due to As atoms diffusing from the GaAs substrate into the ZnTe epilayer and/or because of the strain-induced degradation of the crystalline quality of the ZnTe epilayer, neither the donor–acceptor pair (DAP) nor conduction band-acceptor (e–A) emissions are observed in the ZnTe epilayer. This indicates that by further optimizing the growth process it is possible to obtain a high-crystalline quality ZnTe heteroepitaxial layer that is comparable to the ZnTe bulk crystal.'"
     },
     "execution_count": 96,
     "metadata": {},
     "output_type": "execute_result"
    }
   ],
   "source": [
    "articulos[7][0]"
   ]
  },
  {
   "cell_type": "code",
   "execution_count": 49,
   "metadata": {},
   "outputs": [],
   "source": [
    "nsfw = []\n",
    "for art in articulos:\n",
    "    nsfw.append(str(art.find_all(\"p\")))"
   ]
  }
 ],
 "metadata": {
  "file_extension": ".py",
  "kernelspec": {
   "display_name": "Python 3",
   "language": "python",
   "name": "python3"
  },
  "language_info": {
   "codemirror_mode": {
    "name": "ipython",
    "version": 3
   },
   "file_extension": ".py",
   "mimetype": "text/x-python",
   "name": "python",
   "nbconvert_exporter": "python",
   "pygments_lexer": "ipython3",
   "version": "3.7.4-final"
  },
  "mimetype": "text/x-python",
  "name": "python",
  "npconvert_exporter": "python",
  "pygments_lexer": "ipython3",
  "version": 3
 },
 "nbformat": 4,
 "nbformat_minor": 2
}