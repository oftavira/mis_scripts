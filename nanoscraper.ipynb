{
 "cells": [
  {
   "cell_type": "code",
   "execution_count": 1,
   "metadata": {},
   "outputs": [],
   "source": [
    "from bs4 import BeautifulSoup\n",
    "from urllib import request\n",
    "from time import sleep\n",
    "\n",
    "import pandas as pd\n",
    "\n",
    "IOP_S = \"https://iopscience.iop.org/nsearch?terms=\"\n",
    "IOP_E = \"&nextPage=2&previousPage=-1&currentPage=\"\n",
    "IOP_P = \"&searchDatePeriod=anytime&orderBy=relevance&pageLength=50\"\n",
    "\n",
    "def souparticlesIOP(material, page, max_int = 7, dream = 2):\n",
    "    soup1 = None\n",
    "    ints=0\n",
    "    while ints<max_int:\n",
    "        try:\n",
    "            resp = request.urlopen(IOP_S+material+IOP_E+str(page)+IOP_P)\n",
    "            soup1 = BeautifulSoup(resp, 'lxml')\n",
    "            break\n",
    "        except:\n",
    "            print(\"Reintentando pag: \" +str(page))\n",
    "            sleep(dream)\n",
    "            pass\n",
    "        finally:\n",
    "            ints +=1\n",
    "    if(soup1==None):\n",
    "        print(\"Por favor reinicie la busqueda para pag: \" + str(page))\n",
    "        return \"Por favor reinicie la busqueda\";\n",
    "    else:\n",
    "        print(\"Añadida pag: \" + str(page))\n",
    "        return soup1.find_all('div', {\"class\" : \"art-list-item-body\"})\n",
    "\n",
    "def find_all(material):\n",
    "    all_     = []\n",
    "    to_retry = []\n",
    "    for i in range(1,12):\n",
    "        item = souparticlesIOP(material, i)\n",
    "        if(isinstance(item, str)):\n",
    "            to_retry.append(i)\n",
    "        else:\n",
    "            all_.append(item)\n",
    "    return all_;"
   ]
  },
  {
   "cell_type": "code",
   "execution_count": 13,
   "metadata": {},
   "outputs": [],
   "source": [
    "\n",
    "def stringify(raw_pages):\n",
    "    arts_db = []\n",
    "    for page in raw_pages:\n",
    "        for element in page:\n",
    "            try:\n",
    "                title     =     element.findChild('h2' , {\"class\"   : \"art-list-item-title\"}).findChild(\"a\")          # 0 title\n",
    "                abstract  =     element.findChild('div', {\"class\"   : \"article-text view-text-small\"}).findChild(\"p\") # 1 abstract\n",
    "                DOI       =     element.findChild('a'  , {\"class\"   : \"mr-2\"})                                        # 2 DOI\n",
    "                journal   =     element.findChild('em')                                                               # 3 Journal\n",
    "                vol       =     element.findChild('b')                                                                # 4 vol\n",
    "                authors   =     element.find_all('span', {\"itemprop\": \"author\"})                                      # 5 auths *beta*\n",
    "\n",
    "                yearfind  =     element.find_all(\"p\"   , { \"class\" :\"small art-list-item-meta\"})                      # 6 year\n",
    "                year      =     int(yearfind[1].text[14:19])\n",
    "\n",
    "                arts_db.append([title.text ,abstract.text, DOI.text, journal.text, vol.text ,[auth.getText() for auth in authors], year])\n",
    "            except:\n",
    "                pass\n",
    "\n",
    "    return arts_db;"
   ]
  },
  {
   "cell_type": "code",
   "execution_count": 14,
   "metadata": {},
   "outputs": [],
   "source": [
    "def panda_to_me(all_arts):\n",
    "    test_arts = {}\n",
    "    for i in range(0,7):\n",
    "        ls = []\n",
    "        for j in range(0,len(all_arts)):\n",
    "            ls.append(all_arts[j][i])\n",
    "        if i == 0:\n",
    "            test_arts.update(Title        = ls)\n",
    "        elif i == 1:\n",
    "            test_arts.update(Abstract     = ls)\n",
    "        elif i == 2:\n",
    "            test_arts.update(DOI          = ls)\n",
    "        elif i == 3:\n",
    "            test_arts.update(Journal      = ls)\n",
    "        elif i == 4:\n",
    "            test_arts.update(Vol          = ls)\n",
    "        elif i == 5:\n",
    "            test_arts.update(Auths        = ls)\n",
    "        else:\n",
    "            test_arts.update(Year         = ls)\n",
    "    return pd.DataFrame(test_arts);"
   ]
  },
  {
   "cell_type": "code",
   "execution_count": 4,
   "metadata": {},
   "outputs": [
    {
     "name": "stdout",
     "output_type": "stream",
     "text": "Reintentando pag: 1\nAñadida pag: 1\nReintentando pag: 2\nReintentando pag: 2\nReintentando pag: 2\nReintentando pag: 2\nReintentando pag: 2\nAñadida pag: 2\nAñadida pag: 3\nAñadida pag: 4\nReintentando pag: 5\nAñadida pag: 5\nReintentando pag: 6\nReintentando pag: 6\nAñadida pag: 6\nReintentando pag: 7\nReintentando pag: 7\nReintentando pag: 7\nReintentando pag: 7\nReintentando pag: 7\nReintentando pag: 7\nReintentando pag: 7\nPor favor reinicie la busqueda para pag: 7\nReintentando pag: 8\nReintentando pag: 8\nReintentando pag: 8\nAñadida pag: 8\nReintentando pag: 9\nReintentando pag: 9\nReintentando pag: 9\nReintentando pag: 9\nReintentando pag: 9\nReintentando pag: 9\nReintentando pag: 9\nPor favor reinicie la busqueda para pag: 9\nAñadida pag: 10\nReintentando pag: 11\nReintentando pag: 11\nReintentando pag: 11\nAñadida pag: 11\n"
    }
   ],
   "source": [
    "ZnTe = find_all(\"ZnTe\")"
   ]
  },
  {
   "cell_type": "code",
   "execution_count": 15,
   "metadata": {},
   "outputs": [],
   "source": [
    "ZnTe_db    = stringify(ZnTe)"
   ]
  },
  {
   "cell_type": "code",
   "execution_count": 16,
   "metadata": {},
   "outputs": [],
   "source": [
    "ZnTe_panda = panda_to_me(ZnTe_db)"
   ]
  },
  {
   "cell_type": "code",
   "execution_count": 19,
   "metadata": {},
   "outputs": [
    {
     "data": {
      "text/plain": "array([1980, 2019, 2018, 2017, 2006, 2016, 2014, 2015, 1967, 2010, 2013,\n       1996, 1994, 2009, 1983, 2011, 1969, 2004, 1975, 1963, 1998, 1993,\n       2002, 1970, 1979, 1977, 2003, 1999, 2000, 1978, 1984, 2012, 2007,\n       1973, 2008, 2001, 1985, 1972, 1986, 1995, 1971, 1990, 1988, 2005,\n       2020, 1966, 1997, 1989, 1976, 1992, 1982, 1991, 1987, 1965, 1968,\n       1981, 1964], dtype=int64)"
     },
     "execution_count": 19,
     "metadata": {},
     "output_type": "execute_result"
    }
   ],
   "source": [
    "ZnTe_panda[\"Year\"].unique()"
   ]
  },
  {
   "cell_type": "code",
   "execution_count": null,
   "metadata": {},
   "outputs": [],
   "source": []
  }
 ],
 "metadata": {
  "file_extension": ".py",
  "kernelspec": {
   "display_name": "Python 3",
   "language": "python",
   "name": "python3"
  },
  "language_info": {
   "codemirror_mode": {
    "name": "ipython",
    "version": 3
   },
   "file_extension": ".py",
   "mimetype": "text/x-python",
   "name": "python",
   "nbconvert_exporter": "python",
   "pygments_lexer": "ipython3",
   "version": "3.7.0-final"
  },
  "mimetype": "text/x-python",
  "name": "python",
  "npconvert_exporter": "python",
  "pygments_lexer": "ipython3",
  "version": 3
 },
 "nbformat": 4,
 "nbformat_minor": 2
}