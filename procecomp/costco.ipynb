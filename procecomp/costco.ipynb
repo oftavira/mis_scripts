{
 "nbformat": 4,
 "nbformat_minor": 2,
 "metadata": {
  "language_info": {
   "name": "python",
   "codemirror_mode": {
    "name": "ipython",
    "version": 3
   },
   "version": "3.7.0-final"
  },
  "orig_nbformat": 2,
  "file_extension": ".py",
  "mimetype": "text/x-python",
  "name": "python",
  "npconvert_exporter": "python",
  "pygments_lexer": "ipython3",
  "version": 3,
  "kernelspec": {
   "name": "python37064bitd82ff44cb29b4cc0b538f5e1ebc00dce",
   "display_name": "Python 3.7.0 64-bit"
  }
 },
 "cells": [
  {
   "cell_type": "code",
   "execution_count": 3,
   "metadata": {},
   "outputs": [],
   "source": [
    "import urllib\n",
    "import requests\n",
    "from bs4 import BeautifulSoup"
   ]
  },
  {
   "cell_type": "code",
   "execution_count": 4,
   "metadata": {},
   "outputs": [],
   "source": [
    "def raw_cont(uri, method = 1):\n",
    "    if method == 1:\n",
    "        return requests.get(uri)\n",
    "    else:\n",
    "        return urllib.request.urlopen(uri)"
   ]
  },
  {
   "cell_type": "code",
   "execution_count": 71,
   "metadata": {},
   "outputs": [],
   "source": [
    "cost_raw = raw_cont(\"https://www.costco.com.mx/c/costco\") \n",
    "cost_soup = BeautifulSoup(cost_raw.text, \"lxml\")\n",
    "\n",
    "menu = cost_soup.findChild(\"ul\", {\"id\":\"theMenu\", \"role\":\"menu\"})\n",
    "departments = menu.find_all(lambda tag: tag.name == 'li' and tag.get('class') == ['topmenu'])\n",
    "\n",
    "# result = soup.find_all(lambda tag: tag.name == 'div' and tag.get('class') == ['product'])\n",
    "# departments = menu.find_all(\"li\",{\"class\":\"topmenu\",\"role\":\"none\"})\n",
    "# halls = []\n",
    "# for tag in halls[12]:\n",
    "#     try:\n",
    "#         if (tag.get(\"aria-label\")) == None:\n",
    "#             pass\n",
    "#         else:\n",
    "#             print(tag.get(\"aria-label\"))\n",
    "#             print(tag.get(\"href\"))\n",
    "#             print(\"\\n\")\n",
    "#     except:\n",
    "#         pass\n",
    "\n",
    "halls = []\n",
    "for department in departments:\n",
    "    cleaned_menus = []\n",
    "    raw_menus = department.find_all(\"li\", {\"role\":\"none\"})\n",
    "    for menu in raw_menus:\n",
    "         cleaned_menus.append(menu.findChild(\"a\", {\"role\":\"menuitem\"}))\n",
    "    halls.append(cleaned_menus)\n"
   ]
  },
  {
   "cell_type": "code",
   "execution_count": 78,
   "metadata": {},
   "outputs": [
    {
     "name": "stdout",
     "output_type": "stream",
     "text": "Colchones y Cunas\n/Bebes-y-Juguetes/Cuarto-del-Bebe/Blancos-para-Cuna/c/cos_4.8.4\nBlancos para Cuna\n/Bebes-y-Juguetes/Cuarto-del-Bebe/Articulos-de-Viaje/c/cos_4.8.5\nArtículos de Viaje\n/Bebes-y-Juguetes/Cuarto-del-Bebe/Decoracion-Infantil/c/cos_4.8.3\nDecoración Infantil\njavascript:void(0)\nNone\n/Bebes-y-Juguetes/Carriolas-y-Asientos-para-Bebe/c/cos_4.7\nNone\n/Bebes-y-Juguetes/Carriolas-y-Asientos-para-Bebe/c/cos_4.7\nCarriolas y Asientos para Bebé\n/Bebes-y-Juguetes/Carriolas-y-Asientos-para-Bebe/Autoasientos/c/cos_4.7.1\nAutoasientos\n/Bebes-y-Juguetes/Carriolas-y-Asientos-para-Bebe/Carriolas/c/cos_4.7.2\nCarriolas\n/Bebes-y-Juguetes/Carriolas-y-Asientos-para-Bebe/Sillas-y-Andaderas/c/cos_4.7.3\nSillas y Andaderas\njavascript:void(0)\nNone\n/Bebes-y-Juguetes/Montables/c/cos_4.4\nNone\n/Bebes-y-Juguetes/Montables/c/cos_4.4\nMontables\n/Bebes-y-Juguetes/Montables/Autos-y-Motocicletas/c/cos_4.4.1\nAutos y Motocicletas\n/Bebes-y-Juguetes/Montables/Triciclos-y-Bicicletas/c/cos_4.4.2\nTriciclos y Bicicletas\n/Bebes-y-Juguetes/Montables/Patines-y-Patinetas/c/cos_4.4.3\nPatines y Patinetas\njavascript:void(0)\nNone\n/Bebes-y-Juguetes/Juguetes/c/cos_4.3\nNone\n/Bebes-y-Juguetes/Juguetes/c/cos_4.3\nJuguetes\n/Bebes-y-Juguetes/Juguetes/Bebe-y-Preescolar/c/cos_4.3.1\nBebé y Preescolar\n/Bebes-y-Juguetes/Juguetes/Juguetes-para-Nina/c/cos_4.3.5\nJuguetes para Niña\n/Bebes-y-Juguetes/Juguetes/Arte-y-Manualidades/c/cos_4.3.2\nArte y Manualidades\n/Bebes-y-Juguetes/Juguetes/Sets-y-Bloques-de-Construccion/c/cos_4.3.3\nSets y Bloques de Construcción\n/Bebes-y-Juguetes/Juguetes/Aprendizaje/c/cos_4.3.4\nAprendizaje\n/Bebes-y-Juguetes/Juguetes/Juguetes-para-Nino/c/cos_4.3.6\nJuguetes para Niño\n/Bebes-y-Juguetes/Juguetes/Juguetes-de-Radiocontrol/c/cos_4.3.7\nJuguetes de Radiocontrol\n/Bebes-y-Juguetes/Juguetes/Cocinas-y-Casas-de-Muneca/c/cos_4.3.8\nCocinas y Casas de Muñeca\n/Bebes-y-Juguetes/Juguetes/Peluches/c/cos_4.3.9\nPeluches\njavascript:void(0)\nNone\n/Electronica/Consolas-de-Videojuegos/c/cos_1.8\nNone\n/Electronica/Consolas-de-Videojuegos/c/cos_1.8\nConsolas de Videojuegos\n/Electronica/Consolas-de-Videojuegos/Xbox/c/cos_1.8.1\nXbox\n/Electronica/Consolas-de-Videojuegos/Nintendo/c/cos_1.8.2\nNintendo\n/Electronica/Consolas-de-Videojuegos/PlayStation/c/cos_1.8.3\nPlayStation\njavascript:void(0)\nNone\n/Bebes-y-Juguetes/Juegos-para-Jardin-de-Ninos/c/cos_4.1\nNone\n/Bebes-y-Juguetes/Juegos-para-Jardin-de-Ninos/c/cos_4.1\nJuegos para Jardín de Niños\n/Bebes-y-Juguetes/Juegos-para-Jardin-de-Ninos/Centros-de-Entretenimiento-para-Jardin/c/cos_4.1.1\nCentros de Entretenimiento para Jardín\n/Bebes-y-Juguetes/Juegos-para-Jardin-de-Ninos/Casas-de-Juego/c/cos_4.1.2\nCasas de Juego\njavascript:void(0)\nNone\n/Comida-y-Bebida/c/cos_6\nNone\n/Comida-y-Bebida/c/cos_6\nComida y Bebida\njavascript:void(0)\nNone\n/Comida-y-Bebida/Kirkland-Signature/c/cos_6.12\nNone\n/Comida-y-Bebida/Kirkland-Signature/c/cos_6.12\nKirkland Signature\n/Comida-y-Bebida/Kirkland-Signature/Kirkland-Signature/c/cos_6.12.1\nKirkland Signature\njavascript:void(0)\nNone\n/Comida-y-Bebida/Alimentos-Saludables/c/cos_6.10\nNone\n/Comida-y-Bebida/Alimentos-Saludables/c/cos_6.10\nAlimentos Saludables\n/Comida-y-Bebida/Alimentos-Saludables/Cereales/c/cos_6.10.3\nCereales\n/Comida-y-Bebida/Alimentos-Saludables/Organicos/c/cos_6.10.1\nOrgánicos\n/Comida-y-Bebida/Alimentos-Saludables/Super-Foods/c/cos_6.10.5\nSúper Foods\n/Comida-y-Bebida/Alimentos-Saludables/Sin-Gluten/c/cos_6.10.2\nSin Gluten\n/Comida-y-Bebida/Alimentos-Saludables/Bajos-en-Azucar/c/cos_6.10.4\nBajos en Azúcar\n/Comida-y-Bebida/Alimentos-Saludables/Veganos/c/cos_6.10.6\nVeganos\njavascript:void(0)\nNone\n/Comida-y-Bebida/Gourmet/c/cos_6.5\nNone\n/Comida-y-Bebida/Gourmet/c/cos_6.5\nGourmet\n/Comida-y-Bebida/Gourmet/Charcuteria/c/cos_6.5.9\nCharcutería\n/Comida-y-Bebida/Gourmet/Conservas-y-Lateria/c/cos_6.5.2\nConservas y Latería\n/Comida-y-Bebida/Gourmet/Aceites-y-Vinagres/c/cos_6.5.1\nAceites y Vinagres\n/Comida-y-Bebida/Gourmet/Salsas-y-Dips/c/cos_6.5.3\nSalsas y Dips\n/Comida-y-Bebida/Gourmet/Pastas/c/cos_6.5.6\nPastas\n/Comida-y-Bebida/Gourmet/Hierbas-y-Especias/c/cos_6.5.4\nHierbas y Especias\njavascript:void(0)\nNone\n/Comida-y-Bebida/Cafe-Te-y-Bebidas/c/cos_6.6\nNone\n/Comida-y-Bebida/Cafe-Te-y-Bebidas/c/cos_6.6\nCafé, Té y Bebidas\n/Comida-y-Bebida/Cafe-Te-y-Bebidas/Cafe-Molido-y-en-Grano/c/cos_6.6.1\nCafé Molido y en Grano\n/Comida-y-Bebida/Cafe-Te-y-Bebidas/Cafe-y-Te-en-Capsulas/c/cos_6.6.3\nCafé y Té en Cápsulas\n/Comida-y-Bebida/Cafe-Te-y-Bebidas/Infusiones-y-Te/c/cos_6.6.4\nInfusiones y Té\n/Comida-y-Bebida/Cafe-Te-y-Bebidas/Leche/c/cos_6.6.7\nLeche\n/Comida-y-Bebida/Cafe-Te-y-Bebidas/Bebidas-en-Polvo/c/cos_6.6.8\nBebidas en Polvo\n/Comida-y-Bebida/Cafe-Te-y-Bebidas/Bebidas-Alternativas-a-la-Leche/c/cos_6.6.6\nBebidas Alternativas a la Leche\n/Comida-y-Bebida/Cafe-Te-y-Bebidas/Agua-y-Bebidas-Saborizadas/c/cos_6.6.9\nAgua y Bebidas Saborizadas\n/Comida-y-Bebida/Cafe-Te-y-Bebidas/Cremadores-y-Endulzantes/c/cos_6.6.2\nCremadores y Endulzantes\n/Comida-y-Bebida/Cafe-Te-y-Bebidas/Jugos/c/cos_6.6.5\nJugos\njavascript:void(0)\nNone\n/Comida-y-Bebida/Botanas-y-Dulces/c/cos_6.3\nNone\n/Comida-y-Bebida/Botanas-y-Dulces/c/cos_6.3\nBotanas y Dulces\n/Comida-y-Bebida/Botanas-y-Dulces/Nueces-y-Frutos-Secos/c/cos_6.3.2\nNueces y Frutos Secos\n/Comida-y-Bebida/Botanas-y-Dulces/Botanas-Saladas-y-Palomitas/c/cos_6.3.1\nBotanas Saladas y Palomitas\n/Comida-y-Bebida/Botanas-y-Dulces/Galletas-y-Barras/c/cos_6.3.5\nGalletas y Barras\n/Comida-y-Bebida/Botanas-y-Dulces/Dulces-y-Chocolates/c/cos_6.3.3\nDulces y Chocolates\n/Comida-y-Bebida/Botanas-y-Dulces/Botanas-Saludables/c/cos_6.3.4\nBotanas Saludables\n/Comida-y-Bebida/Botanas-y-Dulces/Fiestas-y-Reuniones/c/cos_6.3.6\nFiestas y Reuniones\njavascript:void(0)\nNone\n/Comida-y-Bebida/Institucional/c/cos_6.11\nNone\n/Comida-y-Bebida/Institucional/c/cos_6.11\nInstitucional\n/Comida-y-Bebida/Institucional/Despensas/c/cos_6.11.1\nDespensas\n/Comida-y-Bebida/Institucional/Bebidas/c/cos_6.11.2\nBebidas\n/Comida-y-Bebida/Institucional/Comida/c/cos_6.11.3\nComida\n/Comida-y-Bebida/Institucional/Insumos-para-Coffee-Break/c/cos_6.11.4\nInsumos para Coffee-Break\n/Comida-y-Bebida/Institucional/Ventas-Mayoreo/c/cos_6.11.5\nVentas Mayoreo\njavascript:void(0)\nNone\n/Comida-y-Bebida/Regalos/c/cos_6.4\nNone\n/Comida-y-Bebida/Regalos/c/cos_6.4\nRegalos\n/Comida-y-Bebida/Regalos/Canastas-para-toda-ocasion/c/cos_6.4.1\nCanastas para toda ocasión\n/Comida-y-Bebida/Regalos/Regalos-de-Temporada/c/cos_6.4.3\nRegalos de Temporada\n/Comida-y-Bebida/Regalos/Regalos-para-toda-ocasion/c/cos_6.4.2\nRegalos para toda ocasión\njavascript:void(0)\nNone\n/Comida-y-Bebida/Cervezas/c/cos_6.9\nNone\n/Comida-y-Bebida/Cervezas/c/cos_6.9\nCervezas\n/Comida-y-Bebida/Cervezas/Cerveza-Clara-y-Obscura/c/cos_6.9.1\nCerveza Clara y Obscura\njavascript:void(0)\nNone\n/Comida-y-Bebida/Reposteria-y-Gastronomia/c/cos_6.8\nNone\n/Comida-y-Bebida/Reposteria-y-Gastronomia/c/cos_6.8\nRepostería y Gastronomía\n/Comida-y-Bebida/Reposteria-y-Gastronomia/Panques-y-Pasteles/c/cos_6.8.1\nPanqués y Pasteles\n/Comida-y-Bebida/Reposteria-y-Gastronomia/Insumos-para-Reposteria/c/cos_6.8.2\nInsumos para Repostería\n/Comida-y-Bebida/Reposteria-y-Gastronomia/Cocina-del-Mundo/c/cos_6.8.3\nCocina del Mundo\njavascript:void(0)\nNone\n/Vinos-y-Licores/c/cos_13\nNone\n/Vinos-y-Licores/c/cos_13\nVinos y Licores\njavascript:void(0)\nNone\n/Vinos-y-Licores/Vinos/c/cos_13.1\nNone\n/Vinos-y-Licores/Vinos/c/cos_13.1\nVinos\n/Vinos-y-Licores/Vinos/Vino-Tinto/c/cos_13.1.1\nVino Tinto\n/Vinos-y-Licores/Vinos/Vino-Blanco-y-Rosado/c/cos_13.1.2\nVino Blanco y Rosado\n/Vinos-y-Licores/Vinos/Vinos-con-90-Puntos/c/cos_13.1.4\nVinos con 90+ Puntos\njavascript:void(0)\nNone\n/Vinos-y-Licores/Licores/c/cos_13.2\nNone\n/Vinos-y-Licores/Licores/c/cos_13.2\nLicores\n/Vinos-y-Licores/Licores/Ron/c/cos_13.2.3\nRon\n/Vinos-y-Licores/Licores/Whisky/c/cos_13.2.1\nWhisky\n/Vinos-y-Licores/Licores/Tequila-y-Mezcal/c/cos_13.2.2\nTequila y Mezcal\n/Vinos-y-Licores/Licores/Vodka-y-Ginebra/c/cos_13.2.5\nVodka y Ginebra\n/Vinos-y-Licores/Licores/Cognac-y-Brandy/c/cos_13.2.4\nCognac y Brandy\n/Vinos-y-Licores/Licores/Digestivos/c/cos_13.2.6\nDigestivos\njavascript:void(0)\nNone\n/Vinos-y-Licores/Champagne-y-Espumosos/c/cos_13.3\nNone\n/Vinos-y-Licores/Champagne-y-Espumosos/c/cos_13.3\nChampagne y Espumosos\n/Vinos-y-Licores/Champagne-y-Espumosos/Vinos-Espumosos/c/cos_13.3.2\nVinos Espumosos\n/Vinos-y-Licores/Champagne-y-Espumosos/Champagne/c/cos_13.3.1\nChampagne\njavascript:void(0)\nNone\n/Comida-y-Bebida/Cervezas/c/cos_6.9\nNone\n/Comida-y-Bebida/Cervezas/c/cos_6.9\nCervezas\n/Comida-y-Bebida/Cervezas/Cerveza-Clara-y-Obscura/c/cos_6.9.1\nCerveza Clara y Obscura\njavascript:void(0)\nNone\n/Papeleria-y-Negocios/c/cos_11\nNone\n/Papeleria-y-Negocios/c/cos_11\nPapelería y Negocios\njavascript:void(0)\nNone\n/Papeleria-y-Negocios/Equipo-de-Oficina/c/cos_11.1\nNone\n/Papeleria-y-Negocios/Equipo-de-Oficina/c/cos_11.1\nEquipo de Oficina\n/Papeleria-y-Negocios/Equipo-de-Oficina/Impresoras-y-Escaners/c/cos_11.1.1\nImpresoras y Escaners\n/Papeleria-y-Negocios/Equipo-de-Oficina/Trituradoras/c/cos_11.1.3\nTrituradoras\n/Papeleria-y-Negocios/Equipo-de-Oficina/Equipos-de-Proyeccion/c/cos_11.1.4\nEquipos de Proyección\n/Papeleria-y-Negocios/Equipo-de-Oficina/Calculadoras-y-Sumadoras/c/cos_11.1.6\nCalculadoras y Sumadoras\n/Papeleria-y-Negocios/Equipo-de-Oficina/Encuadernacion/c/cos_11.1.7\nEncuadernación\n/Papeleria-y-Negocios/Equipo-de-Oficina/Equipo-de-Presentacion/c/cos_11.1.8\nEquipo de Presentación\n/Electronica/Impresion/Multifuncionales/c/cos_1.6.2\nMultifuncionales\n/Papeleria-y-Negocios/Equipo-de-Oficina/Punto-de-Venta-y-Cajas-Registradoras/c/cos_11.1.9\nPunto de Venta y Cajas Registradoras\n/Electronica/Comunicacion/Telefonos/c/cos_1.5.1\nTeléfonos\njavascript:void(0)\nNone\n/Papeleria-y-Negocios/Muebles-de-Oficina/c/cos_11.2\nNone\n/Papeleria-y-Negocios/Muebles-de-Oficina/c/cos_11.2\nMuebles de Oficina\n/Papeleria-y-Negocios/Muebles-de-Oficina/Escritorios-y-Mesas/c/cos_11.2.1\nEscritorios y Mesas\n/Papeleria-y-Negocios/Muebles-de-Oficina/Muebles-para-Computadora/c/cos_11.2.2\nMuebles para Computadora\n/Papeleria-y-Negocios/Muebles-de-Oficina/Sillas/c/cos_11.2.3\nSillas\n/Papeleria-y-Negocios/Muebles-de-Oficina/Libreros/c/cos_11.2.4\nLibreros\n/Papeleria-y-Negocios/Muebles-de-Oficina/Botes-de-Basura-para-Oficina/c/cos_11.2.5\nBotes de Basura para Oficina\n/Papeleria-y-Negocios/Muebles-de-Oficina/Dispensadores-de-Agua/c/cos_11.2.6\nDispensadores de Agua\njavascript:void(0)\nNone\n/Papeleria-y-Negocios/Almacenamiento/c/cos_11.3\nNone\n/Papeleria-y-Negocios/Almacenamiento/c/cos_11.3\nAlmacenamiento\n/Papeleria-y-Negocios/Almacenamiento/Archiveros-y-Organizadores/c/cos_11.3.2\nArchiveros y Organizadores\n/Papeleria-y-Negocios/Almacenamiento/Cajas/c/cos_11.3.3\nCajas\n/Papeleria-y-Negocios/Almacenamiento/Carpetas/c/cos_11.3.4\nCarpetas\n/Papeleria-y-Negocios/Almacenamiento/Protectores-y-Separadores/c/cos_11.3.5\nProtectores y Separadores\njavascript:void(0)\nNone\n/Papeleria-y-Negocios/Escritura-y-Escolares/c/cos_11.4\nNone\n/Papeleria-y-Negocios/Escritura-y-Escolares/c/cos_11.4\nEscritura y Escolares\n/Papeleria-y-Negocios/Escritura-y-Escolares/Plumas-Lapices-y-Lapiceros/c/cos_11.4.1\nPlumas, Lapices y Lapiceros\n/Papeleria-y-Negocios/Escritura-y-Escolares/Marcadores-y-Correctores/c/cos_11.4.2\nMarcadores y Correctores\n/Papeleria-y-Negocios/Escritura-y-Escolares/Articulos-Escolares/c/cos_11.4.3\nArtículos Escolares\n/Papeleria-y-Negocios/Escritura-y-Escolares/Articulos-de-Arte/c/cos_11.4.4\nArtículos de Arte\n/Papeleria-y-Negocios/Escritura-y-Escolares/Mochilas-y-Backpacks/c/cos_11.4.5\nMochilas y Backpacks\n/Papeleria-y-Negocios/Escritura-y-Escolares/Escritura-Fina/c/cos_11.4.6\nEscritura Fina\njavascript:void(0)\nNone\n/Papeleria-y-Negocios/Papel-para-Oficina/c/cos_11.5\nNone\n/Papeleria-y-Negocios/Papel-para-Oficina/c/cos_11.5\nPapel para Oficina\n/Papeleria-y-Negocios/Papel-para-Oficina/Papel/c/cos_11.5.1\nPapel\n/Papeleria-y-Negocios/Papel-para-Oficina/Cuadernos-Libros-y-Agendas/c/cos_11.5.2\nCuadernos, Libros y Agendas\n/Papeleria-y-Negocios/Papel-para-Oficina/Blocks-de-Notas-y-Formatos/c/cos_11.5.3\nBlocks de Notas y Formatos\n/Papeleria-y-Negocios/Papel-para-Oficina/Folders-y-Sobres/c/cos_11.5.4\nFolders y Sobres\n/Papeleria-y-Negocios/Papel-para-Oficina/Etiquetas-y-Tarjetas/c/cos_11.5.5\nEtiquetas y Tarjetas\njavascript:void(0)\nNone\n/Papeleria-y-Negocios/Accesorios-de-Oficina/c/cos_11.6\nNone\n/Papeleria-y-Negocios/Accesorios-de-Oficina/c/cos_11.6\nAccesorios de Oficina\n/Papeleria-y-Negocios/Accesorios-de-Oficina/Engrapadoras-y-Grapas/c/cos_11.6.1\nEngrapadoras y Grapas\n/Papeleria-y-Negocios/Accesorios-de-Oficina/Perforadoras-y-Guillotinas/c/cos_11.6.2\nPerforadoras y Guillotinas\n/Papeleria-y-Negocios/Accesorios-de-Oficina/Adhesivos/c/cos_11.6.3\nAdhesivos\n/Papeleria-y-Negocios/Accesorios-de-Oficina/Clips-Tachuelas-y-Ligas/c/cos_11.6.4\nClips, Tachuelas y Ligas\n/Papeleria-y-Negocios/Accesorios-de-Oficina/Sellos/c/cos_11.6.5\nSellos\njavascript:void(0)\nNone\n/Papeleria-y-Negocios/Accesorios-de-Escritorio/c/cos_11.7\nNone\n/Papeleria-y-Negocios/Accesorios-de-Escritorio/c/cos_11.7\nAccesorios de Escritorio\n/Papeleria-y-Negocios/Accesorios-de-Escritorio/Unidades-de-Almacenamiento/c/cos_11.7.2\nUnidades de Almacenamiento\n/Papeleria-y-Negocios/Accesorios-de-Escritorio/Teclados-Mouse-y-Camaras/c/cos_11.7.3\nTeclados, Mouse y Cámaras\n/Papeleria-y-Negocios/Accesorios-de-Escritorio/Routers/c/cos_11.7.4\nRouters\n/Papeleria-y-Negocios/Accesorios-de-Escritorio/Extensiones-Reguladores-y-No-Breaks/c/cos_11.7.5\nExtensiones, Reguladores y No Breaks\n/Papeleria-y-Negocios/Accesorios-de-Escritorio/Accesorios-para-Oficina/c/cos_11.7.1\nAccesorios para Oficina\njavascript:void(0)\nNone\n/Papeleria-y-Negocios/Consumibles/c/cos_11.8\nNone\n/Papeleria-y-Negocios/Consumibles/c/cos_11.8\nConsumibles\n/Papeleria-y-Negocios/Consumibles/Cartuchos/c/cos_11.8.1\nCartuchos\n/Papeleria-y-Negocios/Consumibles/Cintas-y-Toners/c/cos_11.8.2\nCintas y Tóners\njavascript:void(0)\nNone\n/Papeleria-y-Negocios/Seguridad-en-la-Oficina/c/cos_11.9\nNone\n/Papeleria-y-Negocios/Seguridad-en-la-Oficina/c/cos_11.9\nSeguridad en la Oficina\n/Papeleria-y-Negocios/Seguridad-en-la-Oficina/Accesorios-de-Seguridad/c/cos_11.9.2\nAccesorios de Seguridad\n/Electronica/Seguridad/Sistemas-de-Seguridad/c/cos_1.9.1\nSistemas de Seguridad\njavascript:void(0)\nNone\n/Papeleria-y-Negocios/Comestibles-y-Desechables/c/cos_11.10\nNone\n/Papeleria-y-Negocios/Comestibles-y-Desechables/c/cos_11.10\nComestibles y Desechables\n/Papeleria-y-Negocios/Comestibles-y-Desechables/Comestibles/c/cos_11.10.1\nComestibles\n/Papeleria-y-Negocios/Comestibles-y-Desechables/Desechables/c/cos_11.10.2\nDesechables\njavascript:void(0)\nNone\n/Ferreteria-y-Automotriz/c/cos_8\nNone\n/Ferreteria-y-Automotriz/c/cos_8\nFerretería y Automotriz\njavascript:void(0)\nNone\n/Ferreteria-y-Automotriz/Bano-y-Griferia/c/cos_8.1\nNone\n/Ferreteria-y-Automotriz/Bano-y-Griferia/c/cos_8.1\nBaño y Grifería\n/Ferreteria-y-Automotriz/Bano-y-Griferia/Muebles-de-Bano/c/cos_8.1.1\nMuebles de Baño\n/Ferreteria-y-Automotriz/Bano-y-Griferia/Lavabos-y-Griferia-de-Bano/c/cos_8.1.2\nLavabos y Grifería de Baño\n/Ferreteria-y-Automotriz/Bano-y-Griferia/Inodoros/c/cos_8.1.3\nInodoros\n/Ferreteria-y-Automotriz/Bano-y-Griferia/Regaderas/c/cos_8.1.4\nRegaderas\n/Ferreteria-y-Automotriz/Bano-y-Griferia/Tinas/c/cos_8.1.5\nTinas\n/Ferreteria-y-Automotriz/Bano-y-Griferia/Accesorios-de-Bano/c/cos_8.1.6\nAccesorios de Baño\njavascript:void(0)\nNone\n/Ferreteria-y-Automotriz/Cocina/c/cos_8.2\nNone\n/Ferreteria-y-Automotriz/Cocina/c/cos_8.2\nCocina\n/Ferreteria-y-Automotriz/Cocina/Gabinetes-y-Trituradores/c/cos_8.2.1\nGabinetes y Trituradores\n/Ferreteria-y-Automotriz/Cocina/Fregaderos-de-Cocina/c/cos_8.2.2\nFregaderos de Cocina\n/Ferreteria-y-Automotriz/Cocina/Griferia/c/cos_8.2.3\nGrifería\njavascript:void(0)\nNone\n/Ferreteria-y-Automotriz/Garage/c/cos_8.3\nNone\n/Ferreteria-y-Automotriz/Garage/c/cos_8.3\nGarage\n/Ferreteria-y-Automotriz/Garage/Estantes-y-Organizadores-de-Garage/c/cos_8.3.1\nEstantes y Organizadores de Garage\n/Ferreteria-y-Automotriz/Garage/Gabinetes/c/cos_8.3.2\nGabinetes\n/Ferreteria-y-Automotriz/Garage/Operadores-de-Puerta/c/cos_8.3.3\nOperadores de Puerta\njavascript:void(0)\nNone\n/Ferreteria-y-Automotriz/Generadores-y-Paneles-Solares/c/cos_8.4\nNone\n/Ferreteria-y-Automotriz/Generadores-y-Paneles-Solares/c/cos_8.4\nGeneradores y Paneles Solares\n/Ferreteria-y-Automotriz/Generadores-y-Paneles-Solares/Generadores/c/cos_8.4.1\nGeneradores\n/Ferreteria-y-Automotriz/Generadores-y-Paneles-Solares/Paneles-Solares/c/cos_8.4.2\nPaneles Solares\njavascript:void(0)\nNone\n/Ferreteria-y-Automotriz/Mantenimiento-Del-Hogar/c/cos_8.5\nNone\n/Ferreteria-y-Automotriz/Mantenimiento-Del-Hogar/c/cos_8.5\nMantenimiento Del Hogar\n/Ferreteria-y-Automotriz/Mantenimiento-Del-Hogar/Pisos-y-Mosaicos/c/cos_8.5.1\nPisos y Mosaicos\n/Ferreteria-y-Automotriz/Mantenimiento-Del-Hogar/Closets/c/cos_8.5.2\nClosets\n/Ferreteria-y-Automotriz/Mantenimiento-Del-Hogar/Alarmas-y-Cerraduras/c/cos_8.5.3\nAlarmas y Cerraduras\n/Ferreteria-y-Automotriz/Mantenimiento-Del-Hogar/Calentadores-de-Agua/c/cos_8.5.4\nCalentadores de Agua\n/Ferreteria-y-Automotriz/Mantenimiento-Del-Hogar/Pinturas-e-Impermeabilizantes/c/cos_8.5.5\nPinturas e Impermeabilizantes\njavascript:void(0)\nNone\n/Ferreteria-y-Automotriz/Herramientas/c/cos_8.6\nNone\n/Ferreteria-y-Automotriz/Herramientas/c/cos_8.6\nHerramientas\n/Ferreteria-y-Automotriz/Herramientas/Compresores-de-Aire/c/cos_8.6.1\nCompresores de Aire\n/Ferreteria-y-Automotriz/Herramientas/Herramientas-Electricas/c/cos_8.6.2\nHerramientas Eléctricas\n/Ferreteria-y-Automotriz/Herramientas/Herramientas-Manuales/c/cos_8.6.3\nHerramientas Manuales\n/Ferreteria-y-Automotriz/Herramientas/Mesas-de-Trabajo/c/cos_8.6.4\nMesas de Trabajo\n/Ferreteria-y-Automotriz/Herramientas/Escaleras/c/cos_8.6.5\nEscaleras\n/Ferreteria-y-Automotriz/Herramientas/Organizadores-de-Herramientas/c/cos_8.6.6\nOrganizadores de Herramientas\njavascript:void(0)\nNone\n/Ferreteria-y-Automotriz/Seguridad-y-Proteccion/c/cos_8.7\nNone\n/Ferreteria-y-Automotriz/Seguridad-y-Proteccion/c/cos_8.7\nSeguridad y Protección\n/Ferreteria-y-Automotriz/Seguridad-y-Proteccion/Cajas-Fuertes/c/cos_8.7.1\nCajas Fuertes\n/Ferreteria-y-Automotriz/Mantenimiento-Del-Hogar/Alarmas-y-Cerraduras/c/cos_8.5.3\nAlarmas y Cerraduras\njavascript:void(0)\nNone\n/Ferreteria-y-Automotriz/Electricidad-e-Iluminacion/c/cos_8.8\nNone\n/Ferreteria-y-Automotriz/Electricidad-e-Iluminacion/c/cos_8.8\nElectricidad e Iluminación\n/Ferreteria-y-Automotriz/Electricidad-e-Iluminacion/Lamparas-Colgantes/c/cos_8.8.1\nLámparas Colgantes\n/Ferreteria-y-Automotriz/Electricidad-e-Iluminacion/Lamparas-de-Techo/c/cos_8.8.2\nLámparas de Techo\n/Ferreteria-y-Automotriz/Electricidad-e-Iluminacion/Iluminacion-de-Exterior/c/cos_8.8.4\nIluminación de Exterior\n/Ferreteria-y-Automotriz/Electricidad-e-Iluminacion/Decoracion-LED/c/cos_8.8.5\nDecoración LED\n/Ferreteria-y-Automotriz/Electricidad-e-Iluminacion/Focos/c/cos_8.8.6\nFocos\n/Muebles-y-Hogar/Climatizacion-del-Hogar/Ventiladores/c/cos_2.11.3\nVentiladores\n/Ferreteria-y-Automotriz/Electricidad-e-Iluminacion/Contactos-y-Extensiones-Electricas/c/cos_8.8.7\nContactos y Extensiones Eléctricas\njavascript:void(0)\nNone\n/Ferreteria-y-Automotriz/Automovil/c/cos_8.9\nNone\n/Ferreteria-y-Automotriz/Automovil/c/cos_8.9\nAutomóvil\n/Ferreteria-y-Automotriz/Automovil/Hidrolavadoras/c/cos_8.9.1\nHidrolavadoras\n/Ferreteria-y-Automotriz/Automovil/Cobertores-de-Auto-y-Cubreasientos/c/cos_8.9.2\nCobertores de Auto y Cubreasientos\n/Ferreteria-y-Automotriz/Automovil/Porta-Equipaje-para-Autos/c/cos_8.9.3\nPorta Equipaje para Autos\n/Ferreteria-y-Automotriz/Automovil/Arrancadores-y-Kits-de-Emergencia/c/cos_8.9.4\nArrancadores y Kits de Emergencia\n/Ferreteria-y-Automotriz/Automovil/Accesorios-para-Auto/c/cos_8.9.5\nAccesorios para Auto\n/Ferreteria-y-Automotriz/Automovil/Aceites-para-Motor/c/cos_8.9.6\nAceites para Motor\njavascript:void(0)\nNone\n/Ferreteria-y-Automotriz/Productos-y-Servicios-Instalados/c/cos_8.11\nNone\n/Ferreteria-y-Automotriz/Productos-y-Servicios-Instalados/c/cos_8.11\nProductos y Servicios Instalados\n/Ferreteria-y-Automotriz/Productos-y-Servicios-Instalados/Plantas-de-Emergencia/c/cos_8.11.4\nPlantas de Emergencia\n/Ferreteria-y-Automotriz/Llantas/c/cos_8.10\nLlantas\n"
    }
   ],
   "source": [
    "\n",
    "for department in departments:\n",
    "    cleaned_menus = []\n",
    "    for thing in department.find_all(\"a\"):\n",
    "        try:\n",
    "            print(thing.get(\"href\"))\n",
    "            print(thing.get(\"aria-label\"))\n",
    "        except:\n",
    "            pass"
   ]
  },
  {
   "cell_type": "code",
   "execution_count": 76,
   "metadata": {},
   "outputs": [
    {
     "name": "stdout",
     "output_type": "stream",
     "text": "javascript:void(0)\nNone\n/Electronica/Computacion/c/cos_1.2\nNone\n/Electronica/Computacion/c/cos_1.2\nComputación\n/Electronica/Computacion/Tablets/c/cos_1.2.4\nTablets\n/Electronica/Computacion/Laptops/c/cos_1.2.2\nLaptops\n/Electronica/Computacion/Desktops/c/cos_1.2.1\nDesktops\n/Electronica/Computacion/PC-Gamer/c/cos_1.2.8\nPC Gamer\n/Electronica/Computacion/Monitores/c/cos_1.2.7\nMonitores\n/Electronica/Computacion/Discos-Duros-y-Memorias/c/cos_1.2.5\nDiscos Duros y Memorias\n/Electronica/Computacion/Accesorios-de-Computo/c/cos_1.2.6\nAccesorios de Cómputo\n"
    }
   ],
   "source": [
    "for thing in departments[1].find_all(\"a\"):\n",
    "    try:\n",
    "        print(thing.get(\"href\"))\n",
    "        print(thing.get(\"aria-label\"))\n",
    "    except:\n",
    "        pass"
   ]
  },
  {
   "cell_type": "code",
   "execution_count": 61,
   "metadata": {},
   "outputs": [
    {
     "name": "stdout",
     "output_type": "stream",
     "text": "76\n8\n86\n46\n7\n66\n60\n82\n67\n18\n51\n59\n21\n67\n63\n"
    }
   ],
   "source": [
    "for hall in halls:\n",
    "    print(len(hall))"
   ]
  },
  {
   "cell_type": "code",
   "execution_count": 69,
   "metadata": {},
   "outputs": [
    {
     "name": "stdout",
     "output_type": "stream",
     "text": "Computación\n/Electronica/Computacion/c/cos_1.2\n\n\n"
    }
   ],
   "source": [
    "for tag in halls[1]:\n",
    "    try:\n",
    "        if (tag.get(\"aria-label\")) == None:\n",
    "            pass\n",
    "        else:\n",
    "            print(tag.get(\"aria-label\"))\n",
    "            print(tag.get(\"href\"))\n",
    "            print(\"\\n\")\n",
    "    except:\n",
    "        pass"
   ]
  },
  {
   "cell_type": "code",
   "execution_count": 56,
   "metadata": {},
   "outputs": [
    {
     "data": {
      "text/plain": "[<a aria-label=\"Electrodomésticos\" class=\"hidden-md hidden-lg\" href=\"/Muebles-y-Hogar/Electrodomesticos/c/cos_2.4\" role=\"menuitem\">Todas las categorías  Electrodomésticos</a>,\n None,\n None,\n None,\n None,\n None,\n None]"
     },
     "execution_count": 56,
     "metadata": {},
     "output_type": "execute_result"
    }
   ],
   "source": [
    "halls[4]"
   ]
  },
  {
   "cell_type": "code",
   "execution_count": 6,
   "metadata": {},
   "outputs": [
    {
     "data": {
      "text/plain": "19"
     },
     "execution_count": 6,
     "metadata": {},
     "output_type": "execute_result"
    }
   ],
   "source": [
    "len(departments)"
   ]
  },
  {
   "cell_type": "code",
   "execution_count": 7,
   "metadata": {},
   "outputs": [
    {
     "name": "stdout",
     "output_type": "stream",
     "text": "76\n8\n86\n46\n7\n66\n60\n82\n67\n18\n51\n59\n21\n67\n63\n0\n0\n0\n0\naqui si\nJardín, Flores y Mascotas\n/Jardin-Flores-y-Mascotas/c/cos_9\n\n\naqui no\n\n\naqui si\nFlores y Plantas\n/Jardin-Flores-y-Mascotas/Flores-y-Plantas/c/cos_9.12\n\n\naqui no\n\n\naqui si\nMuebles de Patio\n/Jardin-Flores-y-Mascotas/Muebles-de-Patio/c/cos_9.1\n\n\naqui no\n\n\naqui si\nAsadores\n/Jardin-Flores-y-Mascotas/Asadores/c/cos_9.2\n\n\naqui no\n\n\naqui si\nClimatización para el Jardín\n/Jardin-Flores-y-Mascotas/Climatizacion-para-el-Jardin/c/cos_9.3\n\n\naqui no\n\n\naqui si\nCobertores de Sol\n/Jardin-Flores-y-Mascotas/Cobertores-de-Sol/c/cos_9.4\n\n\naqui no\n\n\naqui si\nAlmacenaje y Organización para el Jardín\n/Jardin-Flores-y-Mascotas/Almacenaje-y-Organizacion-para-el-Jardin/c/cos_9.5\n\n\naqui no\n\n\naqui si\nFundas para Jardín\n/Jardin-Flores-y-Mascotas/Fundas-para-Jardin/c/cos_9.9\n\n\naqui no\n\n\naqui si\nJardinería\n/Jardin-Flores-y-Mascotas/Jardineria/c/cos_9.6\n\n\naqui no\n\n\naqui si\nIluminación\n/Jardin-Flores-y-Mascotas/Iluminacion/c/cos_9.7\n\n\naqui no\n\n\naqui si\nSpa y Saunas\n/Jardin-Flores-y-Mascotas/Spa-y-Saunas/c/cos_9.8\n\n\naqui no\n\n\naqui si\nMascotas\n/Jardin-Flores-y-Mascotas/Mascotas/c/cos_9.10\n\n\naqui no\n\n\naqui si\nJuegos para Jardín de Niños\n/Bebes-y-Juguetes/Juegos-para-Jardin-de-Ninos/c/cos_4.1\n\n\n"
    }
   ],
   "source": [
    "halls = []\n",
    "\n",
    "for element in departments:\n",
    "    new_ls = []\n",
    "    to_apend = element.find_all(\"li\", {\"role\":\"none\"})\n",
    "    for tag in to_apend:\n",
    "         new_ls.append(tag.findChild(\"a\", {\"role\":\"menuitem\"}))\n",
    "    halls.append(new_ls)\n",
    "    print(len(new_ls))\n",
    "\n",
    "for tag in halls[5]:\n",
    "    try:\n",
    "        if (tag.get(\"aria-label\")) == None:\n",
    "            print(\"aqui no\")\n",
    "            print(\"\\n\")\n",
    "        else:\n",
    "            print(\"aqui si\")\n",
    "            print(tag.get(\"aria-label\"))\n",
    "            print(tag.get(\"href\"))\n",
    "            print(\"\\n\")\n",
    "    except:\n",
    "        pass"
   ]
  },
  {
   "cell_type": "code",
   "execution_count": 8,
   "metadata": {},
   "outputs": [
    {
     "name": "stdout",
     "output_type": "stream",
     "text": "aqui si\nJardín, Flores y Mascotas\n/Jardin-Flores-y-Mascotas/c/cos_9\n\n\naqui no\n\n\naqui si\nFlores y Plantas\n/Jardin-Flores-y-Mascotas/Flores-y-Plantas/c/cos_9.12\n\n\naqui no\n\n\naqui si\nMuebles de Patio\n/Jardin-Flores-y-Mascotas/Muebles-de-Patio/c/cos_9.1\n\n\naqui no\n\n\naqui si\nAsadores\n/Jardin-Flores-y-Mascotas/Asadores/c/cos_9.2\n\n\naqui no\n\n\naqui si\nClimatización para el Jardín\n/Jardin-Flores-y-Mascotas/Climatizacion-para-el-Jardin/c/cos_9.3\n\n\naqui no\n\n\naqui si\nCobertores de Sol\n/Jardin-Flores-y-Mascotas/Cobertores-de-Sol/c/cos_9.4\n\n\naqui no\n\n\naqui si\nAlmacenaje y Organización para el Jardín\n/Jardin-Flores-y-Mascotas/Almacenaje-y-Organizacion-para-el-Jardin/c/cos_9.5\n\n\naqui no\n\n\naqui si\nFundas para Jardín\n/Jardin-Flores-y-Mascotas/Fundas-para-Jardin/c/cos_9.9\n\n\naqui no\n\n\naqui si\nJardinería\n/Jardin-Flores-y-Mascotas/Jardineria/c/cos_9.6\n\n\naqui no\n\n\naqui si\nIluminación\n/Jardin-Flores-y-Mascotas/Iluminacion/c/cos_9.7\n\n\naqui no\n\n\naqui si\nSpa y Saunas\n/Jardin-Flores-y-Mascotas/Spa-y-Saunas/c/cos_9.8\n\n\naqui no\n\n\naqui si\nMascotas\n/Jardin-Flores-y-Mascotas/Mascotas/c/cos_9.10\n\n\naqui no\n\n\naqui si\nJuegos para Jardín de Niños\n/Bebes-y-Juguetes/Juegos-para-Jardin-de-Ninos/c/cos_4.1\n\n\n"
    }
   ],
   "source": [
    "for tag in halls[5]:\n",
    "    try:\n",
    "        if (tag.get(\"aria-label\")) == None:\n",
    "            print(\"aqui no\")\n",
    "            print(\"\\n\")\n",
    "        else:\n",
    "            print(\"aqui si\")\n",
    "            print(tag.get(\"aria-label\"))\n",
    "            print(tag.get(\"href\"))\n",
    "            print(\"\\n\")\n",
    "    except:\n",
    "        pass"
   ]
  },
  {
   "cell_type": "code",
   "execution_count": 8,
   "metadata": {},
   "outputs": [],
   "source": [
    "hall1 = departments[1].find_all(\"ul\")"
   ]
  },
  {
   "cell_type": "code",
   "execution_count": 9,
   "metadata": {},
   "outputs": [
    {
     "data": {
      "text/plain": "19"
     },
     "execution_count": 9,
     "metadata": {},
     "output_type": "execute_result"
    }
   ],
   "source": [
    "len(departments)"
   ]
  },
  {
   "cell_type": "code",
   "execution_count": null,
   "metadata": {},
   "outputs": [],
   "source": []
  }
 ]
}