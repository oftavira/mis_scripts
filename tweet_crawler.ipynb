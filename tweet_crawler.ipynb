{
 "nbformat": 4,
 "nbformat_minor": 2,
 "metadata": {
  "language_info": {
   "name": "python",
   "codemirror_mode": {
    "name": "ipython",
    "version": 3
   },
   "version": "3.7.0-final"
  },
  "orig_nbformat": 2,
  "file_extension": ".py",
  "mimetype": "text/x-python",
  "name": "python",
  "npconvert_exporter": "python",
  "pygments_lexer": "ipython3",
  "version": 3,
  "kernelspec": {
   "name": "python37064bitd82ff44cb29b4cc0b538f5e1ebc00dce",
   "display_name": "Python 3.7.0 64-bit"
  }
 },
 "cells": [
  {
   "cell_type": "code",
   "execution_count": 1,
   "metadata": {},
   "outputs": [
    {
     "name": "stderr",
     "output_type": "stream",
     "text": "INFO: {'User-Agent': 'Mozilla/5.0 (Windows; U; Windows NT 6.1; rv:2.2) Gecko/20110201'}\n"
    }
   ],
   "source": [
    "from twitterscraper import query_tweets\n",
    "from twitterscraper.query import query_user_info\n",
    "\n",
    "import datetime as dt \n",
    "import pandas as pd"
   ]
  },
  {
   "cell_type": "code",
   "execution_count": 2,
   "metadata": {},
   "outputs": [],
   "source": [
    "def get_user_info(twitter_user):\n",
    "    \"\"\"\n",
    "    An example of using the query_user_info method\n",
    "    :param twitter_user: the twitter user to capture user data\n",
    "    :return: twitter_user_data: returns a dictionary of twitter user data\n",
    "    \"\"\"\n",
    "    user_info = query_user_info(user= twitter_user)\n",
    "    twitter_user_data = {}\n",
    "\n",
    "    try:\n",
    "        twitter_user_data[\"user\"] = user_info.user\n",
    "    except:\n",
    "        twitter_user_data[\"user\"] = \"Sin user\"\n",
    "\n",
    "    try:\n",
    "        twitter_user_data[\"fullname\"] = user_info.full_name\n",
    "    except:\n",
    "        twitter_user_data[\"fullname\"] = \"Sin fullname\"\n",
    "\n",
    "    try:\n",
    "        twitter_user_data[\"location\"] = user_info.location\n",
    "    except:\n",
    "        twitter_user_data[\"location\"] = \"Sin locación\"\n",
    "\n",
    "    try:\n",
    "        twitter_user_data[\"blog\"] = user_info.blog\n",
    "    except:\n",
    "        twitter_user_data[\"blog\"] = \"Sin blog\"\n",
    "\n",
    "    try:\n",
    "        twitter_user_data[\"date_joined\"] = user_info.date_joined\n",
    "    except:\n",
    "        twitter_user_data[\"date_joined\"] = \"Sin fecha de inicio\"\n",
    "\n",
    "    try:\n",
    "        twitter_user_data[\"id\"] = user_info.id\n",
    "    except:\n",
    "        twitter_user_data[\"id\"] = \"Sin ID\"\n",
    "\n",
    "    try:\n",
    "        twitter_user_data[\"num_tweets\"] = user_info.tweets\n",
    "    except:\n",
    "        twitter_user_data[\"num_tweets\"] = \"Sin tweets rastreables\"\n",
    "\n",
    "    try:\n",
    "        twitter_user_data[\"following\"] = user_info.following\n",
    "    except:\n",
    "        twitter_user_data[\"following\"] = \"Sin seguidos\"\n",
    "\n",
    "    try:\n",
    "        twitter_user_data[\"followers\"] = user_info.followers\n",
    "    except:\n",
    "        twitter_user_data[\"followers\"] = \"Sin followers\"\n",
    "\n",
    "    try:\n",
    "        twitter_user_data[\"likes\"] = user_info.likes\n",
    "    except:\n",
    "        twitter_user_data[\"likes\"] = \"Sin likes\"\n",
    "\n",
    "    try:\n",
    "        twitter_user_data[\"lists\"] = user_info.lists\n",
    "    except:\n",
    "        twitter_user_data[\"lists\"] = \"Sin listas\"\n",
    "\n",
    "    return twitter_user_data;"
   ]
  },
  {
   "cell_type": "code",
   "execution_count": 3,
   "metadata": {},
   "outputs": [
    {
     "data": {
      "text/plain": "'\\n#   Ejemplo de inicialización de requerimiento\\n\\n#   begin_date =  dt.date(2020,1,1)\\n#   end_date   =  dt.date(2020,4,1)\\n#   lann       =  \"spanish\"\\n#   tweets     =  query_tweets(\"tema o keywords\", begindate = begin_date, enddate=end_date, lang = lann)\\n#   dataframe  =  pd.DataFrame(t.__dict__ for t in tweets)\\n\\n#   Guardar consultas localmente\\n\\n#   dataframe.to_pickle(\\'123.pkl\\')               #to save the dataframe, df to 123.pkl\\n#   readed_pickle = pd.read_pickle(\\'123.pkl\\')\\n\\n#   rastrear usuarios\\n#   users = df[\"username\"].unique()\\n'"
     },
     "execution_count": 3,
     "metadata": {},
     "output_type": "execute_result"
    }
   ],
   "source": [
    "\"\"\"\n",
    "#   Ejemplo de inicialización de requerimiento\n",
    "\n",
    "#   begin_date =  dt.date(2020,1,1)\n",
    "#   end_date   =  dt.date(2020,4,1)\n",
    "#   lann       =  \"spanish\"\n",
    "#   tweets     =  query_tweets(\"tema o keywords\", begindate = begin_date, enddate=end_date, lang = lann)\n",
    "#   dataframe  =  pd.DataFrame(t.__dict__ for t in tweets)\n",
    "\n",
    "#   Guardar consultas localmente\n",
    "\n",
    "#   dataframe.to_pickle('123.pkl')               #to save the dataframe, df to 123.pkl\n",
    "#   readed_pickle = pd.read_pickle('123.pkl')\n",
    "\n",
    "#   rastrear usuarios\n",
    "#   users = df[\"username\"].unique()\n",
    "\"\"\""
   ]
  },
  {
   "cell_type": "code",
   "execution_count": null,
   "metadata": {},
   "outputs": [],
   "source": []
  }
 ]
}