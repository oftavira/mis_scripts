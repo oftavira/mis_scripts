{
 "nbformat": 4,
 "nbformat_minor": 2,
 "metadata": {
  "language_info": {
   "name": "python",
   "codemirror_mode": {
    "name": "ipython",
    "version": 3
   },
   "version": "3.7.0-final"
  },
  "orig_nbformat": 2,
  "file_extension": ".py",
  "mimetype": "text/x-python",
  "name": "python",
  "npconvert_exporter": "python",
  "pygments_lexer": "ipython3",
  "version": 3,
  "kernelspec": {
   "name": "python37064bitd82ff44cb29b4cc0b538f5e1ebc00dce",
   "display_name": "Python 3.7.0 64-bit"
  }
 },
 "cells": [
  {
   "cell_type": "code",
   "execution_count": 53,
   "metadata": {},
   "outputs": [],
   "source": [
    "from twitterscraper import query_tweets\n",
    "from twitterscraper.query import query_user_info\n",
    "\n",
    "from IPython.display import display\n",
    "\n",
    "import datetime as dt \n",
    "import pandas as pd\n",
    "import time"
   ]
  },
  {
   "cell_type": "code",
   "execution_count": 46,
   "metadata": {},
   "outputs": [],
   "source": [
    "def get_user_info(twitter_user):\n",
    "    \"\"\"\n",
    "    An example of using the query_user_info method\n",
    "    :param twitter_user: the twitter user to capture user data\n",
    "    :return: twitter_user_data: returns a dictionary of twitter user data\n",
    "    \"\"\"\n",
    "    user_info = query_user_info(user= twitter_user)\n",
    "    twitter_user_data = {}\n",
    "\n",
    "    try:\n",
    "        twitter_user_data[\"user\"] = user_info.user\n",
    "    except:\n",
    "        twitter_user_data[\"user\"] = \"Sin user\"\n",
    "\n",
    "    try:\n",
    "        twitter_user_data[\"fullname\"] = user_info.full_name\n",
    "    except:\n",
    "        twitter_user_data[\"fullname\"] = \"Sin fullname\"\n",
    "\n",
    "    try:\n",
    "        twitter_user_data[\"location\"] = user_info.location\n",
    "    except:\n",
    "        twitter_user_data[\"location\"] = \"Sin locación\"\n",
    "\n",
    "    try:\n",
    "        twitter_user_data[\"blog\"] = user_info.blog\n",
    "    except:\n",
    "        twitter_user_data[\"blog\"] = \"Sin blog\"\n",
    "\n",
    "    try:\n",
    "        twitter_user_data[\"date_joined\"] = user_info.date_joined\n",
    "    except:\n",
    "        twitter_user_data[\"date_joined\"] = \"Sin fecha de inicio\"\n",
    "\n",
    "    try:\n",
    "        twitter_user_data[\"id\"] = user_info.id\n",
    "    except:\n",
    "        twitter_user_data[\"id\"] = \"Sin ID\"\n",
    "\n",
    "    try:\n",
    "        twitter_user_data[\"num_tweets\"] = user_info.tweets\n",
    "    except:\n",
    "        twitter_user_data[\"num_tweets\"] = \"Sin tweets rastreables\"\n",
    "\n",
    "    try:\n",
    "        twitter_user_data[\"following\"] = user_info.following\n",
    "    except:\n",
    "        twitter_user_data[\"following\"] = \"Sin seguidos\"\n",
    "\n",
    "    try:\n",
    "        twitter_user_data[\"followers\"] = user_info.followers\n",
    "    except:\n",
    "        twitter_user_data[\"followers\"] = \"Sin followers\"\n",
    "\n",
    "    try:\n",
    "        twitter_user_data[\"likes\"] = user_info.likes\n",
    "    except:\n",
    "        twitter_user_data[\"likes\"] = \"Sin likes\"\n",
    "\n",
    "    try:\n",
    "        twitter_user_data[\"lists\"] = user_info.lists\n",
    "    except:\n",
    "        twitter_user_data[\"lists\"] = \"Sin listas\"\n",
    "\n",
    "    return twitter_user_data;"
   ]
  },
  {
   "cell_type": "code",
   "execution_count": 54,
   "metadata": {},
   "outputs": [],
   "source": [
    "\"Ejemplo de inicialización de requerimiento\"\n",
    "\n",
    "#   begin_date = dt.date(2020,1,1)\n",
    "#   end_date   = dt.date(2020,4,1)\n",
    "#   lann  = \"spanish\"\n",
    "#   tweets = query_tweets(\"amor\", begindate = begin_date, enddate=end_date, lang = lann)\n",
    "#   df = pd.DataFrame(t.__dict__ for t in tweets)"
   ]
  },
  {
   "cell_type": "code",
   "execution_count": 23,
   "metadata": {},
   "outputs": [
    {
     "data": {
      "text/html": "<div>\n<style scoped>\n    .dataframe tbody tr th:only-of-type {\n        vertical-align: middle;\n    }\n\n    .dataframe tbody tr th {\n        vertical-align: top;\n    }\n\n    .dataframe thead th {\n        text-align: right;\n    }\n</style>\n<table border=\"1\" class=\"dataframe\">\n  <thead>\n    <tr style=\"text-align: right;\">\n      <th></th>\n      <th>screen_name</th>\n      <th>username</th>\n      <th>user_id</th>\n      <th>tweet_id</th>\n      <th>tweet_url</th>\n      <th>timestamp</th>\n      <th>timestamp_epochs</th>\n      <th>text</th>\n      <th>text_html</th>\n      <th>links</th>\n      <th>...</th>\n      <th>has_media</th>\n      <th>img_urls</th>\n      <th>video_url</th>\n      <th>likes</th>\n      <th>retweets</th>\n      <th>replies</th>\n      <th>is_replied</th>\n      <th>is_reply_to</th>\n      <th>parent_tweet_id</th>\n      <th>reply_to_users</th>\n    </tr>\n  </thead>\n  <tbody>\n    <tr>\n      <th>0</th>\n      <td>majuorozco22</td>\n      <td>Julieta</td>\n      <td>1506082368</td>\n      <td>1223395534465007617</td>\n      <td>/majuorozco22/status/1223395534465007617</td>\n      <td>2020-01-31 23:59:59</td>\n      <td>1580515199</td>\n      <td>que lindo es viajar las tres mujeres  de la casa</td>\n      <td>&lt;p class=\"TweetTextSize js-tweet-text tweet-te...</td>\n      <td>[]</td>\n      <td>...</td>\n      <td>False</td>\n      <td>[]</td>\n      <td></td>\n      <td>0</td>\n      <td>0</td>\n      <td>0</td>\n      <td>False</td>\n      <td>False</td>\n      <td></td>\n      <td>[]</td>\n    </tr>\n    <tr>\n      <th>1</th>\n      <td>BeibyYoda</td>\n      <td>de la U</td>\n      <td>109710565</td>\n      <td>1223395531667406856</td>\n      <td>/BeibyYoda/status/1223395531667406856</td>\n      <td>2020-01-31 23:59:58</td>\n      <td>1580515198</td>\n      <td>Adelante, pero las mujeres si creo por segurid...</td>\n      <td>&lt;p class=\"TweetTextSize js-tweet-text tweet-te...</td>\n      <td>[]</td>\n      <td>...</td>\n      <td>False</td>\n      <td>[]</td>\n      <td></td>\n      <td>5</td>\n      <td>0</td>\n      <td>0</td>\n      <td>False</td>\n      <td>True</td>\n      <td>1223394759517130752</td>\n      <td>[{'screen_name': 'ArpiaFronteriz', 'user_id': ...</td>\n    </tr>\n    <tr>\n      <th>2</th>\n      <td>13_ang</td>\n      <td>angie</td>\n      <td>182255148</td>\n      <td>1223395509911552001</td>\n      <td>/13_ang/status/1223395509911552001</td>\n      <td>2020-01-31 23:59:53</td>\n      <td>1580515193</td>\n      <td>Ahhh como son mujeres... que no digan nada... ...</td>\n      <td>&lt;p class=\"TweetTextSize js-tweet-text tweet-te...</td>\n      <td>[]</td>\n      <td>...</td>\n      <td>False</td>\n      <td>[]</td>\n      <td></td>\n      <td>0</td>\n      <td>0</td>\n      <td>0</td>\n      <td>False</td>\n      <td>True</td>\n      <td>1223333155093897218</td>\n      <td>[{'screen_name': 'DiegoArmaMedina', 'user_id':...</td>\n    </tr>\n    <tr>\n      <th>3</th>\n      <td>CarlaCh97737080</td>\n      <td>Carla 💙</td>\n      <td>1010270793400451075</td>\n      <td>1223395462436098048</td>\n      <td>/CarlaCh97737080/status/1223395462436098048</td>\n      <td>2020-01-31 23:59:42</td>\n      <td>1580515182</td>\n      <td>Es un tema bastante complejo. En otros paises ...</td>\n      <td>&lt;p class=\"TweetTextSize js-tweet-text tweet-te...</td>\n      <td>[]</td>\n      <td>...</td>\n      <td>False</td>\n      <td>[]</td>\n      <td></td>\n      <td>2</td>\n      <td>0</td>\n      <td>0</td>\n      <td>False</td>\n      <td>True</td>\n      <td>1223320609272291328</td>\n      <td>[{'screen_name': 'EugeniaRolon_', 'user_id': '...</td>\n    </tr>\n    <tr>\n      <th>4</th>\n      <td>Kaaren_SG</td>\n      <td>karenjadas</td>\n      <td>573219869</td>\n      <td>1223395456597856257</td>\n      <td>/Kaaren_SG/status/1223395456597856257</td>\n      <td>2020-01-31 23:59:41</td>\n      <td>1580515181</td>\n      <td>Weey no es de awebi tratar de enamorar a las c...</td>\n      <td>&lt;p class=\"TweetTextSize js-tweet-text tweet-te...</td>\n      <td>[]</td>\n      <td>...</td>\n      <td>False</td>\n      <td>[]</td>\n      <td></td>\n      <td>0</td>\n      <td>0</td>\n      <td>0</td>\n      <td>False</td>\n      <td>False</td>\n      <td></td>\n      <td>[]</td>\n    </tr>\n    <tr>\n      <th>5</th>\n      <td>marianitica</td>\n      <td>Mariana💚</td>\n      <td>87931452</td>\n      <td>1223395453296877569</td>\n      <td>/marianitica/status/1223395453296877569</td>\n      <td>2020-01-31 23:59:40</td>\n      <td>1580515180</td>\n      <td>Pues yo sí diría que es abuso que alguien toqu...</td>\n      <td>&lt;p class=\"TweetTextSize js-tweet-text tweet-te...</td>\n      <td>[]</td>\n      <td>...</td>\n      <td>False</td>\n      <td>[]</td>\n      <td></td>\n      <td>0</td>\n      <td>0</td>\n      <td>3</td>\n      <td>True</td>\n      <td>True</td>\n      <td>1223045322060025856</td>\n      <td>[{'screen_name': 'QJhonatan', 'user_id': '3723...</td>\n    </tr>\n    <tr>\n      <th>6</th>\n      <td>AD_DE_VENEZUELA</td>\n      <td>Venezuela siete estrellas</td>\n      <td>760656770511560704</td>\n      <td>1223395452655218688</td>\n      <td>/AD_DE_VENEZUELA/status/1223395452655218688</td>\n      <td>2020-01-31 23:59:40</td>\n      <td>1580515180</td>\n      <td>Los Venezolanos somos únicos en el mundo por s...</td>\n      <td>&lt;p class=\"TweetTextSize js-tweet-text tweet-te...</td>\n      <td>[]</td>\n      <td>...</td>\n      <td>False</td>\n      <td>[]</td>\n      <td></td>\n      <td>0</td>\n      <td>0</td>\n      <td>0</td>\n      <td>False</td>\n      <td>True</td>\n      <td>1223275256149946369</td>\n      <td>[{'screen_name': 'Achoqueej', 'user_id': '9419...</td>\n    </tr>\n    <tr>\n      <th>7</th>\n      <td>trinidapun</td>\n      <td>Trinidad Punceles</td>\n      <td>228881428</td>\n      <td>1223395434548355072</td>\n      <td>/trinidapun/status/1223395434548355072</td>\n      <td>2020-01-31 23:59:35</td>\n      <td>1580515175</td>\n      <td>@AsocCiudadanas #MujerliderazgoyDesarrollo\\n@V...</td>\n      <td>&lt;p class=\"TweetTextSize js-tweet-text tweet-te...</td>\n      <td>[]</td>\n      <td>...</td>\n      <td>True</td>\n      <td>[https://pbs.twimg.com/media/EPpfoigX0AIVq1y.jpg]</td>\n      <td></td>\n      <td>2</td>\n      <td>6</td>\n      <td>0</td>\n      <td>False</td>\n      <td>False</td>\n      <td></td>\n      <td>[]</td>\n    </tr>\n    <tr>\n      <th>8</th>\n      <td>jeffreyboy_</td>\n      <td>Emil</td>\n      <td>1288182277</td>\n      <td>1223395415636217861</td>\n      <td>/jeffreyboy_/status/1223395415636217861</td>\n      <td>2020-01-31 23:59:31</td>\n      <td>1580515171</td>\n      <td>Se jodio porque a las mujeres le gustan los ti...</td>\n      <td>&lt;p class=\"TweetTextSize js-tweet-text tweet-te...</td>\n      <td>[]</td>\n      <td>...</td>\n      <td>False</td>\n      <td>[]</td>\n      <td></td>\n      <td>1</td>\n      <td>0</td>\n      <td>1</td>\n      <td>True</td>\n      <td>True</td>\n      <td>1223394777565102081</td>\n      <td>[{'screen_name': 'nmva_', 'user_id': '37768644...</td>\n    </tr>\n    <tr>\n      <th>9</th>\n      <td>GranSolin81</td>\n      <td>SOLIN81</td>\n      <td>1066460290529853440</td>\n      <td>1223395398565449728</td>\n      <td>/GranSolin81/status/1223395398565449728</td>\n      <td>2020-01-31 23:59:27</td>\n      <td>1580515167</td>\n      <td>Esas mujeres que se molestan por los que pregu...</td>\n      <td>&lt;p class=\"TweetTextSize js-tweet-text tweet-te...</td>\n      <td>[]</td>\n      <td>...</td>\n      <td>False</td>\n      <td>[]</td>\n      <td></td>\n      <td>0</td>\n      <td>0</td>\n      <td>0</td>\n      <td>False</td>\n      <td>True</td>\n      <td>1223077997059747840</td>\n      <td>[{'screen_name': 'c4jimenez', 'user_id': '9533...</td>\n    </tr>\n    <tr>\n      <th>10</th>\n      <td>BehmBeck</td>\n      <td>𝑩𝒆𝒄𝒌</td>\n      <td>904743716723847168</td>\n      <td>1223395394190823425</td>\n      <td>/BehmBeck/status/1223395394190823425</td>\n      <td>2020-01-31 23:59:26</td>\n      <td>1580515166</td>\n      <td>Una señora golpea a un perro que estaba dentro...</td>\n      <td>&lt;p class=\"TweetTextSize js-tweet-text tweet-te...</td>\n      <td>[]</td>\n      <td>...</td>\n      <td>False</td>\n      <td>[]</td>\n      <td></td>\n      <td>99</td>\n      <td>23</td>\n      <td>4</td>\n      <td>True</td>\n      <td>False</td>\n      <td></td>\n      <td>[]</td>\n    </tr>\n    <tr>\n      <th>11</th>\n      <td>samurai_boy__</td>\n      <td>.• J U A N I •.</td>\n      <td>3343343475</td>\n      <td>1223395392106180611</td>\n      <td>/samurai_boy__/status/1223395392106180611</td>\n      <td>2020-01-31 23:59:25</td>\n      <td>1580515165</td>\n      <td>cuando intentaba debatirme y decir que las muj...</td>\n      <td>&lt;p class=\"TweetTextSize js-tweet-text tweet-te...</td>\n      <td>[]</td>\n      <td>...</td>\n      <td>False</td>\n      <td>[]</td>\n      <td></td>\n      <td>1</td>\n      <td>0</td>\n      <td>0</td>\n      <td>False</td>\n      <td>False</td>\n      <td></td>\n      <td>[]</td>\n    </tr>\n    <tr>\n      <th>12</th>\n      <td>FeddeCabezas</td>\n      <td>🧞‍♀️ a la gilada ni kbida 🧞‍♂️</td>\n      <td>296543976</td>\n      <td>1223395348091219970</td>\n      <td>/FeddeCabezas/status/1223395348091219970</td>\n      <td>2020-01-31 23:59:15</td>\n      <td>1580515155</td>\n      <td>en la anónima de LG hay un camion de dove q ha...</td>\n      <td>&lt;p class=\"TweetTextSize js-tweet-text tweet-te...</td>\n      <td>[]</td>\n      <td>...</td>\n      <td>False</td>\n      <td>[]</td>\n      <td></td>\n      <td>22</td>\n      <td>0</td>\n      <td>0</td>\n      <td>False</td>\n      <td>False</td>\n      <td></td>\n      <td>[]</td>\n    </tr>\n    <tr>\n      <th>13</th>\n      <td>rizosdecieIo</td>\n      <td>blair waldorf wannabe</td>\n      <td>1163959368263634945</td>\n      <td>1223395343519420416</td>\n      <td>/rizosdecieIo/status/1223395343519420416</td>\n      <td>2020-01-31 23:59:14</td>\n      <td>1580515154</td>\n      <td>q cabrón q siempre nos hagan pensar que no deb...</td>\n      <td>&lt;p class=\"TweetTextSize js-tweet-text tweet-te...</td>\n      <td>[]</td>\n      <td>...</td>\n      <td>False</td>\n      <td>[]</td>\n      <td></td>\n      <td>3</td>\n      <td>0</td>\n      <td>0</td>\n      <td>False</td>\n      <td>False</td>\n      <td></td>\n      <td>[]</td>\n    </tr>\n    <tr>\n      <th>14</th>\n      <td>BeMonrroy</td>\n      <td>Bladimir -MERINO- Monrroy</td>\n      <td>852136377215053824</td>\n      <td>1223395329061609473</td>\n      <td>/BeMonrroy/status/1223395329061609473</td>\n      <td>2020-01-31 23:59:10</td>\n      <td>1580515150</td>\n      <td>ésto se lo debo a\\n@LindoEstela\\n@karitozarce\\...</td>\n      <td>&lt;p class=\"TweetTextSize js-tweet-text tweet-te...</td>\n      <td>[]</td>\n      <td>...</td>\n      <td>False</td>\n      <td>[]</td>\n      <td></td>\n      <td>4</td>\n      <td>0</td>\n      <td>4</td>\n      <td>True</td>\n      <td>True</td>\n      <td>1223340453564702724</td>\n      <td>[{'screen_name': 'Cacike20101', 'user_id': '10...</td>\n    </tr>\n    <tr>\n      <th>15</th>\n      <td>lauraaruizz14</td>\n      <td>Laura✈🧸</td>\n      <td>1172875999</td>\n      <td>1223395311332274178</td>\n      <td>/lauraaruizz14/status/1223395311332274178</td>\n      <td>2020-01-31 23:59:06</td>\n      <td>1580515146</td>\n      <td>Si a los chicos tambien pero menos siempre. Se...</td>\n      <td>&lt;p class=\"TweetTextSize js-tweet-text tweet-te...</td>\n      <td>[]</td>\n      <td>...</td>\n      <td>False</td>\n      <td>[]</td>\n      <td></td>\n      <td>1</td>\n      <td>0</td>\n      <td>1</td>\n      <td>True</td>\n      <td>True</td>\n      <td>1223389409153835010</td>\n      <td>[{'screen_name': 'chula_jimena', 'user_id': '8...</td>\n    </tr>\n    <tr>\n      <th>16</th>\n      <td>AFDH02</td>\n      <td>.</td>\n      <td>467144032</td>\n      <td>1223395308870213633</td>\n      <td>/AFDH02/status/1223395308870213633</td>\n      <td>2020-01-31 23:59:05</td>\n      <td>1580515145</td>\n      <td>Mujeres les gustaría de regalo?\\nQue me dicen....</td>\n      <td>&lt;p class=\"TweetTextSize js-tweet-text tweet-te...</td>\n      <td>[https://www.instagram.com/p/B8ANavAHKA4/?igsh...</td>\n      <td>...</td>\n      <td>False</td>\n      <td>[]</td>\n      <td></td>\n      <td>0</td>\n      <td>0</td>\n      <td>0</td>\n      <td>False</td>\n      <td>False</td>\n      <td></td>\n      <td>[]</td>\n    </tr>\n    <tr>\n      <th>17</th>\n      <td>fer_okkk</td>\n      <td>Fer</td>\n      <td>1167122723073601536</td>\n      <td>1223395307284836352</td>\n      <td>/fer_okkk/status/1223395307284836352</td>\n      <td>2020-01-31 23:59:05</td>\n      <td>1580515145</td>\n      <td>Pucho, como te vas a meter con dos mujeres a l...</td>\n      <td>&lt;p class=\"TweetTextSize js-tweet-text tweet-te...</td>\n      <td>[]</td>\n      <td>...</td>\n      <td>False</td>\n      <td>[]</td>\n      <td></td>\n      <td>0</td>\n      <td>0</td>\n      <td>0</td>\n      <td>False</td>\n      <td>True</td>\n      <td>1223359408421441538</td>\n      <td>[{'screen_name': 'riellodecba', 'user_id': '15...</td>\n    </tr>\n    <tr>\n      <th>18</th>\n      <td>Rociovem</td>\n      <td>❤️Rocío 🇺🇾🦉🦖🇪🇸</td>\n      <td>1201290520116551681</td>\n      <td>1223395289404448770</td>\n      <td>/Rociovem/status/1223395289404448770</td>\n      <td>2020-01-31 23:59:01</td>\n      <td>1580515141</td>\n      <td>Y ninguna mujer se asuste por los comentarios ...</td>\n      <td>&lt;p class=\"TweetTextSize js-tweet-text tweet-te...</td>\n      <td>[]</td>\n      <td>...</td>\n      <td>False</td>\n      <td>[]</td>\n      <td></td>\n      <td>1</td>\n      <td>0</td>\n      <td>0</td>\n      <td>False</td>\n      <td>False</td>\n      <td></td>\n      <td>[]</td>\n    </tr>\n    <tr>\n      <th>19</th>\n      <td>majuorozco22</td>\n      <td>Julieta</td>\n      <td>1506082368</td>\n      <td>1223395534465007617</td>\n      <td>/majuorozco22/status/1223395534465007617</td>\n      <td>2020-01-31 23:59:59</td>\n      <td>1580515199</td>\n      <td>que lindo es viajar las tres mujeres  de la casa</td>\n      <td>&lt;p class=\"TweetTextSize js-tweet-text tweet-te...</td>\n      <td>[]</td>\n      <td>...</td>\n      <td>False</td>\n      <td>[]</td>\n      <td></td>\n      <td>0</td>\n      <td>0</td>\n      <td>0</td>\n      <td>False</td>\n      <td>False</td>\n      <td></td>\n      <td>[]</td>\n    </tr>\n  </tbody>\n</table>\n<p>20 rows × 21 columns</p>\n</div>",
      "text/plain": "        screen_name                        username              user_id  \\\n0      majuorozco22                         Julieta           1506082368   \n1         BeibyYoda                         de la U            109710565   \n2            13_ang                           angie            182255148   \n3   CarlaCh97737080                         Carla 💙  1010270793400451075   \n4         Kaaren_SG                      karenjadas            573219869   \n5       marianitica                        Mariana💚             87931452   \n6   AD_DE_VENEZUELA       Venezuela siete estrellas   760656770511560704   \n7        trinidapun               Trinidad Punceles            228881428   \n8       jeffreyboy_                            Emil           1288182277   \n9       GranSolin81                         SOLIN81  1066460290529853440   \n10         BehmBeck                            𝑩𝒆𝒄𝒌   904743716723847168   \n11    samurai_boy__                 .• J U A N I •.           3343343475   \n12     FeddeCabezas  🧞‍♀️ a la gilada ni kbida 🧞‍♂️            296543976   \n13     rizosdecieIo           blair waldorf wannabe  1163959368263634945   \n14        BeMonrroy       Bladimir -MERINO- Monrroy   852136377215053824   \n15    lauraaruizz14                         Laura✈🧸           1172875999   \n16           AFDH02                               .            467144032   \n17         fer_okkk                             Fer  1167122723073601536   \n18         Rociovem                  ❤️Rocío 🇺🇾🦉🦖🇪🇸  1201290520116551681   \n19     majuorozco22                         Julieta           1506082368   \n\n               tweet_id                                    tweet_url  \\\n0   1223395534465007617     /majuorozco22/status/1223395534465007617   \n1   1223395531667406856        /BeibyYoda/status/1223395531667406856   \n2   1223395509911552001           /13_ang/status/1223395509911552001   \n3   1223395462436098048  /CarlaCh97737080/status/1223395462436098048   \n4   1223395456597856257        /Kaaren_SG/status/1223395456597856257   \n5   1223395453296877569      /marianitica/status/1223395453296877569   \n6   1223395452655218688  /AD_DE_VENEZUELA/status/1223395452655218688   \n7   1223395434548355072       /trinidapun/status/1223395434548355072   \n8   1223395415636217861      /jeffreyboy_/status/1223395415636217861   \n9   1223395398565449728      /GranSolin81/status/1223395398565449728   \n10  1223395394190823425         /BehmBeck/status/1223395394190823425   \n11  1223395392106180611    /samurai_boy__/status/1223395392106180611   \n12  1223395348091219970     /FeddeCabezas/status/1223395348091219970   \n13  1223395343519420416     /rizosdecieIo/status/1223395343519420416   \n14  1223395329061609473        /BeMonrroy/status/1223395329061609473   \n15  1223395311332274178    /lauraaruizz14/status/1223395311332274178   \n16  1223395308870213633           /AFDH02/status/1223395308870213633   \n17  1223395307284836352         /fer_okkk/status/1223395307284836352   \n18  1223395289404448770         /Rociovem/status/1223395289404448770   \n19  1223395534465007617     /majuorozco22/status/1223395534465007617   \n\n             timestamp  timestamp_epochs  \\\n0  2020-01-31 23:59:59        1580515199   \n1  2020-01-31 23:59:58        1580515198   \n2  2020-01-31 23:59:53        1580515193   \n3  2020-01-31 23:59:42        1580515182   \n4  2020-01-31 23:59:41        1580515181   \n5  2020-01-31 23:59:40        1580515180   \n6  2020-01-31 23:59:40        1580515180   \n7  2020-01-31 23:59:35        1580515175   \n8  2020-01-31 23:59:31        1580515171   \n9  2020-01-31 23:59:27        1580515167   \n10 2020-01-31 23:59:26        1580515166   \n11 2020-01-31 23:59:25        1580515165   \n12 2020-01-31 23:59:15        1580515155   \n13 2020-01-31 23:59:14        1580515154   \n14 2020-01-31 23:59:10        1580515150   \n15 2020-01-31 23:59:06        1580515146   \n16 2020-01-31 23:59:05        1580515145   \n17 2020-01-31 23:59:05        1580515145   \n18 2020-01-31 23:59:01        1580515141   \n19 2020-01-31 23:59:59        1580515199   \n\n                                                 text  \\\n0   que lindo es viajar las tres mujeres  de la casa    \n1   Adelante, pero las mujeres si creo por segurid...   \n2   Ahhh como son mujeres... que no digan nada... ...   \n3   Es un tema bastante complejo. En otros paises ...   \n4   Weey no es de awebi tratar de enamorar a las c...   \n5   Pues yo sí diría que es abuso que alguien toqu...   \n6   Los Venezolanos somos únicos en el mundo por s...   \n7   @AsocCiudadanas #MujerliderazgoyDesarrollo\\n@V...   \n8   Se jodio porque a las mujeres le gustan los ti...   \n9   Esas mujeres que se molestan por los que pregu...   \n10  Una señora golpea a un perro que estaba dentro...   \n11  cuando intentaba debatirme y decir que las muj...   \n12  en la anónima de LG hay un camion de dove q ha...   \n13  q cabrón q siempre nos hagan pensar que no deb...   \n14  ésto se lo debo a\\n@LindoEstela\\n@karitozarce\\...   \n15  Si a los chicos tambien pero menos siempre. Se...   \n16  Mujeres les gustaría de regalo?\\nQue me dicen....   \n17  Pucho, como te vas a meter con dos mujeres a l...   \n18  Y ninguna mujer se asuste por los comentarios ...   \n19  que lindo es viajar las tres mujeres  de la casa    \n\n                                            text_html  \\\n0   <p class=\"TweetTextSize js-tweet-text tweet-te...   \n1   <p class=\"TweetTextSize js-tweet-text tweet-te...   \n2   <p class=\"TweetTextSize js-tweet-text tweet-te...   \n3   <p class=\"TweetTextSize js-tweet-text tweet-te...   \n4   <p class=\"TweetTextSize js-tweet-text tweet-te...   \n5   <p class=\"TweetTextSize js-tweet-text tweet-te...   \n6   <p class=\"TweetTextSize js-tweet-text tweet-te...   \n7   <p class=\"TweetTextSize js-tweet-text tweet-te...   \n8   <p class=\"TweetTextSize js-tweet-text tweet-te...   \n9   <p class=\"TweetTextSize js-tweet-text tweet-te...   \n10  <p class=\"TweetTextSize js-tweet-text tweet-te...   \n11  <p class=\"TweetTextSize js-tweet-text tweet-te...   \n12  <p class=\"TweetTextSize js-tweet-text tweet-te...   \n13  <p class=\"TweetTextSize js-tweet-text tweet-te...   \n14  <p class=\"TweetTextSize js-tweet-text tweet-te...   \n15  <p class=\"TweetTextSize js-tweet-text tweet-te...   \n16  <p class=\"TweetTextSize js-tweet-text tweet-te...   \n17  <p class=\"TweetTextSize js-tweet-text tweet-te...   \n18  <p class=\"TweetTextSize js-tweet-text tweet-te...   \n19  <p class=\"TweetTextSize js-tweet-text tweet-te...   \n\n                                                links  ... has_media  \\\n0                                                  []  ...     False   \n1                                                  []  ...     False   \n2                                                  []  ...     False   \n3                                                  []  ...     False   \n4                                                  []  ...     False   \n5                                                  []  ...     False   \n6                                                  []  ...     False   \n7                                                  []  ...      True   \n8                                                  []  ...     False   \n9                                                  []  ...     False   \n10                                                 []  ...     False   \n11                                                 []  ...     False   \n12                                                 []  ...     False   \n13                                                 []  ...     False   \n14                                                 []  ...     False   \n15                                                 []  ...     False   \n16  [https://www.instagram.com/p/B8ANavAHKA4/?igsh...  ...     False   \n17                                                 []  ...     False   \n18                                                 []  ...     False   \n19                                                 []  ...     False   \n\n                                             img_urls video_url likes  \\\n0                                                  []               0   \n1                                                  []               5   \n2                                                  []               0   \n3                                                  []               2   \n4                                                  []               0   \n5                                                  []               0   \n6                                                  []               0   \n7   [https://pbs.twimg.com/media/EPpfoigX0AIVq1y.jpg]               2   \n8                                                  []               1   \n9                                                  []               0   \n10                                                 []              99   \n11                                                 []               1   \n12                                                 []              22   \n13                                                 []               3   \n14                                                 []               4   \n15                                                 []               1   \n16                                                 []               0   \n17                                                 []               0   \n18                                                 []               1   \n19                                                 []               0   \n\n    retweets  replies  is_replied  is_reply_to      parent_tweet_id  \\\n0          0        0       False        False                        \n1          0        0       False         True  1223394759517130752   \n2          0        0       False         True  1223333155093897218   \n3          0        0       False         True  1223320609272291328   \n4          0        0       False        False                        \n5          0        3        True         True  1223045322060025856   \n6          0        0       False         True  1223275256149946369   \n7          6        0       False        False                        \n8          0        1        True         True  1223394777565102081   \n9          0        0       False         True  1223077997059747840   \n10        23        4        True        False                        \n11         0        0       False        False                        \n12         0        0       False        False                        \n13         0        0       False        False                        \n14         0        4        True         True  1223340453564702724   \n15         0        1        True         True  1223389409153835010   \n16         0        0       False        False                        \n17         0        0       False         True  1223359408421441538   \n18         0        0       False        False                        \n19         0        0       False        False                        \n\n                                       reply_to_users  \n0                                                  []  \n1   [{'screen_name': 'ArpiaFronteriz', 'user_id': ...  \n2   [{'screen_name': 'DiegoArmaMedina', 'user_id':...  \n3   [{'screen_name': 'EugeniaRolon_', 'user_id': '...  \n4                                                  []  \n5   [{'screen_name': 'QJhonatan', 'user_id': '3723...  \n6   [{'screen_name': 'Achoqueej', 'user_id': '9419...  \n7                                                  []  \n8   [{'screen_name': 'nmva_', 'user_id': '37768644...  \n9   [{'screen_name': 'c4jimenez', 'user_id': '9533...  \n10                                                 []  \n11                                                 []  \n12                                                 []  \n13                                                 []  \n14  [{'screen_name': 'Cacike20101', 'user_id': '10...  \n15  [{'screen_name': 'chula_jimena', 'user_id': '8...  \n16                                                 []  \n17  [{'screen_name': 'riellodecba', 'user_id': '15...  \n18                                                 []  \n19                                                 []  \n\n[20 rows x 21 columns]"
     },
     "execution_count": 23,
     "metadata": {},
     "output_type": "execute_result"
    }
   ],
   "source": [
    "df.head(n=20)"
   ]
  },
  {
   "cell_type": "code",
   "execution_count": 24,
   "metadata": {},
   "outputs": [],
   "source": [
    "users = df[\"username\"].unique()"
   ]
  },
  {
   "cell_type": "code",
   "execution_count": 25,
   "metadata": {},
   "outputs": [
    {
     "data": {
      "text/plain": "11334"
     },
     "execution_count": 25,
     "metadata": {},
     "output_type": "execute_result"
    }
   ],
   "source": [
    "len(users)"
   ]
  },
  {
   "cell_type": "code",
   "execution_count": 32,
   "metadata": {},
   "outputs": [
    {
     "name": "stdout",
     "output_type": "stream",
     "text": "<class 'pandas.core.frame.DataFrame'>\nRangeIndex: 13120 entries, 0 to 13119\nData columns (total 21 columns):\nscreen_name         13120 non-null object\nusername            13120 non-null object\nuser_id             13120 non-null object\ntweet_id            13120 non-null object\ntweet_url           13120 non-null object\ntimestamp           13120 non-null datetime64[ns]\ntimestamp_epochs    13120 non-null int64\ntext                13120 non-null object\ntext_html           13120 non-null object\nlinks               13120 non-null object\nhashtags            13120 non-null object\nhas_media           13120 non-null bool\nimg_urls            13120 non-null object\nvideo_url           13120 non-null object\nlikes               13120 non-null int64\nretweets            13120 non-null int64\nreplies             13120 non-null int64\nis_replied          13120 non-null bool\nis_reply_to         13120 non-null bool\nparent_tweet_id     13120 non-null object\nreply_to_users      13120 non-null object\ndtypes: bool(3), datetime64[ns](1), int64(4), object(13)\nmemory usage: 1.8+ MB\n"
    }
   ],
   "source": [
    "df.info()"
   ]
  },
  {
   "cell_type": "code",
   "execution_count": 49,
   "metadata": {},
   "outputs": [
    {
     "ename": "TypeError",
     "evalue": "get_user_info() got an unexpected keyword argument 'id'",
     "output_type": "error",
     "traceback": [
      "\u001b[1;31m---------------------------------------------------------------------------\u001b[0m",
      "\u001b[1;31mTypeError\u001b[0m                                 Traceback (most recent call last)",
      "\u001b[1;32m<ipython-input-49-2728b9667025>\u001b[0m in \u001b[0;36m<module>\u001b[1;34m\u001b[0m\n\u001b[1;32m----> 1\u001b[1;33m \u001b[0mget_user_info\u001b[0m\u001b[1;33m(\u001b[0m\u001b[0mid\u001b[0m\u001b[1;33m=\u001b[0m\u001b[1;36m201639823\u001b[0m\u001b[1;33m)\u001b[0m\u001b[1;33m\u001b[0m\u001b[0m\n\u001b[0m",
      "\u001b[1;31mTypeError\u001b[0m: get_user_info() got an unexpected keyword argument 'id'"
     ]
    }
   ],
   "source": [
    "get_user_info()"
   ]
  },
  {
   "cell_type": "code",
   "execution_count": 60,
   "metadata": {},
   "outputs": [],
   "source": [
    "df.to_pickle('123.pkl')    #to save the dataframe, df to 123.pkl\n",
    "df1 = pd.read_pickle('123.pkl')"
   ]
  },
  {
   "cell_type": "code",
   "execution_count": 63,
   "metadata": {},
   "outputs": [
    {
     "name": "stdout",
     "output_type": "stream",
     "text": "<class 'pandas.core.frame.DataFrame'>\nRangeIndex: 13120 entries, 0 to 13119\nData columns (total 21 columns):\nscreen_name         13120 non-null object\nusername            13120 non-null object\nuser_id             13120 non-null object\ntweet_id            13120 non-null object\ntweet_url           13120 non-null object\ntimestamp           13120 non-null datetime64[ns]\ntimestamp_epochs    13120 non-null int64\ntext                13120 non-null object\ntext_html           13120 non-null object\nlinks               13120 non-null object\nhashtags            13120 non-null object\nhas_media           13120 non-null bool\nimg_urls            13120 non-null object\nvideo_url           13120 non-null object\nlikes               13120 non-null int64\nretweets            13120 non-null int64\nreplies             13120 non-null int64\nis_replied          13120 non-null bool\nis_reply_to         13120 non-null bool\nparent_tweet_id     13120 non-null object\nreply_to_users      13120 non-null object\ndtypes: bool(3), datetime64[ns](1), int64(4), object(13)\nmemory usage: 1.8+ MB\n"
    }
   ],
   "source": [
    "df1.info()"
   ]
  },
  {
   "cell_type": "code",
   "execution_count": null,
   "metadata": {},
   "outputs": [],
   "source": []
  },
  {
   "cell_type": "code",
   "execution_count": null,
   "metadata": {},
   "outputs": [],
   "source": []
  }
 ]
}