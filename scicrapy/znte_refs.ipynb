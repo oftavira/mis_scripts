{
 "nbformat": 4,
 "nbformat_minor": 2,
 "metadata": {
  "language_info": {
   "name": "python",
   "codemirror_mode": {
    "name": "ipython",
    "version": 3
   },
   "version": "3.7.4-final"
  },
  "orig_nbformat": 2,
  "file_extension": ".py",
  "mimetype": "text/x-python",
  "name": "python",
  "npconvert_exporter": "python",
  "pygments_lexer": "ipython3",
  "version": 3,
  "kernelspec": {
   "name": "python37464bitf970296ce93e4865b058a969729ca98c",
   "display_name": "Python 3.7.4 64-bit"
  }
 },
 "cells": [
  {
   "cell_type": "code",
   "execution_count": 1,
   "metadata": {},
   "outputs": [],
   "source": [
    "from scicrapy import *\n",
    "import pandas"
   ]
  },
  {
   "cell_type": "code",
   "execution_count": 2,
   "metadata": {},
   "outputs": [
    {
     "name": "stdout",
     "output_type": "stream",
     "text": "Añadida pag: 1\nAñadida pag: 2\nAñadida pag: 3\nAñadida pag: 4\nAñadida pag: 5\nAñadida pag: 6\nAñadida pag: 7\nAñadida pag: 8\nAñadida pag: 9\nAñadida pag: 10\nAñadida pag: 11\nAñadida pag: 12\n"
    }
   ],
   "source": [
    "quantum = query(\"MEB\")"
   ]
  },
  {
   "cell_type": "code",
   "execution_count": 4,
   "metadata": {},
   "outputs": [],
   "source": [
    "my_cites = pandas.read_pickle(\"mispepinillos/cite_manager_znte.pkl\")"
   ]
  },
  {
   "cell_type": "code",
   "execution_count": 5,
   "metadata": {},
   "outputs": [
    {
     "data": {
      "text/html": "<div>\n<style scoped>\n    .dataframe tbody tr th:only-of-type {\n        vertical-align: middle;\n    }\n\n    .dataframe tbody tr th {\n        vertical-align: top;\n    }\n\n    .dataframe thead th {\n        text-align: right;\n    }\n</style>\n<table border=\"1\" class=\"dataframe\">\n  <thead>\n    <tr style=\"text-align: right;\">\n      <th></th>\n      <th>Title</th>\n      <th>Abstract</th>\n      <th>DOI</th>\n      <th>Journal</th>\n      <th>Auths</th>\n      <th>Year</th>\n      <th>comment</th>\n    </tr>\n  </thead>\n  <tbody>\n    <tr>\n      <th>0</th>\n      <td>Ovonic threshold switching in polycrystalline...</td>\n      <td>Chalcogenide materials of the amorphous phase ...</td>\n      <td>https://doi.org/10.1088/1361-6528/aafe13</td>\n      <td>Nanotechnology</td>\n      <td>[Taeho Kim, Youngjae Kim, Ingwan Lee, Dayoon L...</td>\n      <td>2019</td>\n      <td>ZnTe por RF 2019 temperaturas de 400°</td>\n    </tr>\n    <tr>\n      <th>1</th>\n      <td>Effect of in situ annealing on structure and ...</td>\n      <td>An improvement in morphology, crystallinity, a...</td>\n      <td>https://doi.org/10.1088/1742-6596/59/1/152</td>\n      <td>J. Phys.: Conf. Ser.</td>\n      <td>[Takaaki Orii, Makoto Hirasawa, Takafumi Seto]</td>\n      <td>2007</td>\n      <td>Mejoramiento de la calidad cristalina ZnTe pld...</td>\n    </tr>\n    <tr>\n      <th>2</th>\n      <td>Properties of Nitrogen-Doped Zinc Telluride Fi...</td>\n      <td>Zinc telluride (ZnTe) films have been deposite...</td>\n      <td>10.1007/s11664-017-5502-0</td>\n      <td>Journal of Electronic Materials</td>\n      <td>[Tushar M. Shimpi, Jennifer Drayton, Drew E. S...</td>\n      <td>2017</td>\n      <td>Disminución de la calidad cristalina con la pr...</td>\n    </tr>\n    <tr>\n      <th>3</th>\n      <td>Nitrogen doping of ZnTe for the preparation of...</td>\n      <td>Nitrogen-doped p-type zinc telluride (p-ZnTe) ...</td>\n      <td>10.1007/s10853-013-7438-y</td>\n      <td>Journal of Materials Science</td>\n      <td>[A. E. Rakhshani, S. Thomas]</td>\n      <td>2013</td>\n      <td>Disminución del gap (1.4 eV) N= 5/100 con un a...</td>\n    </tr>\n    <tr>\n      <th>4</th>\n      <td>Photovoltaic-pyroelectric effect coupled broad...</td>\n      <td>Broadband photodetection is widely used in com...</td>\n      <td>10.1016/j.nanoen.2019.05.050</td>\n      <td>Nano Energy</td>\n      <td>[Daotong You, Chunxiang Xu, Wei Zhang, Jie Zha...</td>\n      <td>2019</td>\n      <td>Aplicaciones con ZnO para electronica, como la...</td>\n    </tr>\n  </tbody>\n</table>\n</div>",
      "text/plain": "                                               Title  \\\n0   Ovonic threshold switching in polycrystalline...   \n1   Effect of in situ annealing on structure and ...   \n2  Properties of Nitrogen-Doped Zinc Telluride Fi...   \n3  Nitrogen doping of ZnTe for the preparation of...   \n4  Photovoltaic-pyroelectric effect coupled broad...   \n\n                                            Abstract  \\\n0  Chalcogenide materials of the amorphous phase ...   \n1  An improvement in morphology, crystallinity, a...   \n2  Zinc telluride (ZnTe) films have been deposite...   \n3  Nitrogen-doped p-type zinc telluride (p-ZnTe) ...   \n4  Broadband photodetection is widely used in com...   \n\n                                          DOI  \\\n0    https://doi.org/10.1088/1361-6528/aafe13   \n1  https://doi.org/10.1088/1742-6596/59/1/152   \n2                   10.1007/s11664-017-5502-0   \n3                   10.1007/s10853-013-7438-y   \n4                10.1016/j.nanoen.2019.05.050   \n\n                           Journal  \\\n0                   Nanotechnology   \n1             J. Phys.: Conf. Ser.   \n2  Journal of Electronic Materials   \n3     Journal of Materials Science   \n4                      Nano Energy   \n\n                                               Auths  Year  \\\n0  [Taeho Kim, Youngjae Kim, Ingwan Lee, Dayoon L...  2019   \n1     [Takaaki Orii, Makoto Hirasawa, Takafumi Seto]  2007   \n2  [Tushar M. Shimpi, Jennifer Drayton, Drew E. S...  2017   \n3                       [A. E. Rakhshani, S. Thomas]  2013   \n4  [Daotong You, Chunxiang Xu, Wei Zhang, Jie Zha...  2019   \n\n                                             comment  \n0              ZnTe por RF 2019 temperaturas de 400°  \n1  Mejoramiento de la calidad cristalina ZnTe pld...  \n2  Disminución de la calidad cristalina con la pr...  \n3  Disminución del gap (1.4 eV) N= 5/100 con un a...  \n4  Aplicaciones con ZnO para electronica, como la...  "
     },
     "execution_count": 5,
     "metadata": {},
     "output_type": "execute_result"
    }
   ],
   "source": [
    "my_cites"
   ]
  },
  {
   "cell_type": "code",
   "execution_count": 62,
   "metadata": {},
   "outputs": [
    {
     "ename": "AttributeError",
     "evalue": "'NoneType' object has no attribute 'get_text'",
     "output_type": "error",
     "traceback": [
      "\u001b[1;31m---------------------------------------------------------------------------\u001b[0m",
      "\u001b[1;31mAttributeError\u001b[0m                            Traceback (most recent call last)",
      "\u001b[1;32m<ipython-input-62-de14ef480c21>\u001b[0m in \u001b[0;36m<module>\u001b[1;34m\u001b[0m\n\u001b[1;32m----> 1\u001b[1;33m \u001b[0mqnano\u001b[0m \u001b[1;33m=\u001b[0m \u001b[0mquery\u001b[0m\u001b[1;33m(\u001b[0m\u001b[1;34m\"mexico\"\u001b[0m\u001b[1;33m)\u001b[0m\u001b[1;33m\u001b[0m\u001b[1;33m\u001b[0m\u001b[0m\n\u001b[0m",
      "\u001b[1;32mc:\\gitmiscosas\\scicrapy.py\u001b[0m in \u001b[0;36mquery\u001b[1;34m(terms)\u001b[0m\n\u001b[0;32m    213\u001b[0m     \u001b[0mall_arts\u001b[0m \u001b[1;33m=\u001b[0m \u001b[1;33m[\u001b[0m\u001b[1;33m]\u001b[0m\u001b[1;33m\u001b[0m\u001b[1;33m\u001b[0m\u001b[0m\n\u001b[0;32m    214\u001b[0m \u001b[1;33m\u001b[0m\u001b[0m\n\u001b[1;32m--> 215\u001b[1;33m     \u001b[0mquery_raw_iop\u001b[0m  \u001b[1;33m=\u001b[0m \u001b[0mPagesIOP\u001b[0m\u001b[1;33m(\u001b[0m\u001b[0mterms\u001b[0m\u001b[1;33m)\u001b[0m\u001b[1;33m\u001b[0m\u001b[1;33m\u001b[0m\u001b[0m\n\u001b[0m\u001b[0;32m    216\u001b[0m     \u001b[0mquery_raw_nano\u001b[0m \u001b[1;33m=\u001b[0m \u001b[0mPagesNANO\u001b[0m\u001b[1;33m(\u001b[0m\u001b[0mterms\u001b[0m\u001b[1;33m)\u001b[0m\u001b[1;33m\u001b[0m\u001b[1;33m\u001b[0m\u001b[0m\n\u001b[0;32m    217\u001b[0m \u001b[1;33m\u001b[0m\u001b[0m\n",
      "\u001b[1;32mc:\\gitmiscosas\\scicrapy.py\u001b[0m in \u001b[0;36mPagesIOP\u001b[1;34m(query)\u001b[0m\n\u001b[0;32m    130\u001b[0m     \u001b[0minit_uri\u001b[0m  \u001b[1;33m=\u001b[0m \u001b[0mIOP_S\u001b[0m\u001b[1;33m+\u001b[0m \u001b[0mformat\u001b[0m\u001b[1;33m(\u001b[0m\u001b[0mquery\u001b[0m\u001b[1;33m)\u001b[0m \u001b[1;33m+\u001b[0m \u001b[0mIOP_E\u001b[0m \u001b[1;33m+\u001b[0m \u001b[0mstr\u001b[0m\u001b[1;33m(\u001b[0m\u001b[1;36m1\u001b[0m\u001b[1;33m)\u001b[0m \u001b[1;33m+\u001b[0m \u001b[0mIOP_P\u001b[0m\u001b[1;33m\u001b[0m\u001b[1;33m\u001b[0m\u001b[0m\n\u001b[0;32m    131\u001b[0m     \u001b[0minit_soup\u001b[0m \u001b[1;33m=\u001b[0m \u001b[0mSwitchKitchen\u001b[0m\u001b[1;33m(\u001b[0m\u001b[0minit_uri\u001b[0m\u001b[1;33m,\u001b[0m\u001b[0mkitchen\u001b[0m \u001b[1;33m=\u001b[0m \u001b[1;34m\"urllib\"\u001b[0m\u001b[1;33m)\u001b[0m\u001b[1;33m\u001b[0m\u001b[1;33m\u001b[0m\u001b[0m\n\u001b[1;32m--> 132\u001b[1;33m     \u001b[0mend_pages\u001b[0m \u001b[1;33m=\u001b[0m \u001b[0minit_soup\u001b[0m\u001b[1;33m.\u001b[0m\u001b[0mfindChild\u001b[0m\u001b[1;33m(\u001b[0m\u001b[1;34m\"p\"\u001b[0m\u001b[1;33m,\u001b[0m\u001b[1;33m{\u001b[0m\u001b[1;34m\"class\"\u001b[0m\u001b[1;33m:\u001b[0m\u001b[1;34m\"pgs small\"\u001b[0m\u001b[1;33m}\u001b[0m\u001b[1;33m)\u001b[0m\u001b[1;33m.\u001b[0m\u001b[0mget_text\u001b[0m\u001b[1;33m(\u001b[0m\u001b[1;33m)\u001b[0m\u001b[1;33m.\u001b[0m\u001b[0msplit\u001b[0m\u001b[1;33m(\u001b[0m\u001b[1;34m\" \"\u001b[0m\u001b[1;33m)\u001b[0m\u001b[1;33m[\u001b[0m\u001b[1;36m2\u001b[0m\u001b[1;33m]\u001b[0m\u001b[1;33m\u001b[0m\u001b[1;33m\u001b[0m\u001b[0m\n\u001b[0m\u001b[0;32m    133\u001b[0m     \u001b[1;32mfor\u001b[0m \u001b[0mi\u001b[0m \u001b[1;32min\u001b[0m \u001b[0mrange\u001b[0m\u001b[1;33m(\u001b[0m\u001b[1;36m1\u001b[0m\u001b[1;33m,\u001b[0m \u001b[0mint\u001b[0m\u001b[1;33m(\u001b[0m\u001b[0mend_pages\u001b[0m\u001b[1;33m)\u001b[0m\u001b[1;33m+\u001b[0m\u001b[1;36m1\u001b[0m\u001b[1;33m)\u001b[0m\u001b[1;33m:\u001b[0m\u001b[1;33m\u001b[0m\u001b[1;33m\u001b[0m\u001b[0m\n\u001b[0;32m    134\u001b[0m         \u001b[0mraw_pages\u001b[0m\u001b[1;33m.\u001b[0m\u001b[0mappend\u001b[0m\u001b[1;33m(\u001b[0m\u001b[0msouparticlesIOP\u001b[0m\u001b[1;33m(\u001b[0m\u001b[0mquery\u001b[0m\u001b[1;33m,\u001b[0m \u001b[0mi\u001b[0m\u001b[1;33m)\u001b[0m\u001b[1;33m)\u001b[0m\u001b[1;33m\u001b[0m\u001b[1;33m\u001b[0m\u001b[0m\n",
      "\u001b[1;31mAttributeError\u001b[0m: 'NoneType' object has no attribute 'get_text'"
     ]
    }
   ],
   "source": [
    "qnano = query(\"mexico\")"
   ]
  },
  {
   "cell_type": "code",
   "execution_count": 47,
   "metadata": {},
   "outputs": [],
   "source": [
    "nano_mex = pandas_dataframe(qnano, \"nanomex\")"
   ]
  },
  {
   "cell_type": "code",
   "execution_count": 48,
   "metadata": {},
   "outputs": [
    {
     "data": {
      "text/html": "<div>\n<style scoped>\n    .dataframe tbody tr th:only-of-type {\n        vertical-align: middle;\n    }\n\n    .dataframe tbody tr th {\n        vertical-align: top;\n    }\n\n    .dataframe thead th {\n        text-align: right;\n    }\n</style>\n<table border=\"1\" class=\"dataframe\">\n  <thead>\n    <tr style=\"text-align: right;\">\n      <th></th>\n      <th>Title</th>\n      <th>Abstract</th>\n      <th>DOI</th>\n      <th>Journal</th>\n      <th>Auths</th>\n      <th>Year</th>\n    </tr>\n  </thead>\n  <tbody>\n    <tr>\n      <th>0</th>\n      <td>Inventory of nanotechnology companies in Mexico</td>\n      <td>This study presents an inventory of 139 nanote...</td>\n      <td>10.1007/s11051-016-3344-y</td>\n      <td>Journal of Nanoparticle Research</td>\n      <td>[Richard Appelbaum, Edgar Zayago Lau, Guillerm...</td>\n      <td>2016</td>\n    </tr>\n    <tr>\n      <th>1</th>\n      <td>Hypothermic stunning of green sea turtles in a...</td>\n      <td>Texas waters provide one of the most important...</td>\n      <td>10.1371/journal.pone.0173920</td>\n      <td>PLOS ONE</td>\n      <td>[Donna J. Shaver, Philippe E. Tissot, Mary M. ...</td>\n      <td>2017</td>\n    </tr>\n    <tr>\n      <th>2</th>\n      <td>Twelve years of nanoscience and nanotechnology...</td>\n      <td>\\nMexico is the second country in Latin Americ...</td>\n      <td>10.1007/s11051-013-2193-1</td>\n      <td>Journal of Nanoparticle Research</td>\n      <td>[Edgar Záyago Lau, Stacey Frederick, Guillermo...</td>\n      <td>2014</td>\n    </tr>\n    <tr>\n      <th>3</th>\n      <td>Inventory of nanotechnology companies in Mexico</td>\n      <td>This study presents an inventory of 139 nanote...</td>\n      <td>10.1007/s11051-016-3344-y</td>\n      <td>Journal of Nanoparticle Research</td>\n      <td>[Richard Appelbaum, Edgar Zayago Lau, Guillerm...</td>\n      <td>2016</td>\n    </tr>\n    <tr>\n      <th>4</th>\n      <td>Hypothermic stunning of green sea turtles in a...</td>\n      <td>Texas waters provide one of the most important...</td>\n      <td>10.1371/journal.pone.0173920</td>\n      <td>PLOS ONE</td>\n      <td>[Donna J. Shaver, Philippe E. Tissot, Mary M. ...</td>\n      <td>2017</td>\n    </tr>\n    <tr>\n      <th>5</th>\n      <td>Twelve years of nanoscience and nanotechnology...</td>\n      <td>\\nMexico is the second country in Latin Americ...</td>\n      <td>10.1007/s11051-013-2193-1</td>\n      <td>Journal of Nanoparticle Research</td>\n      <td>[Edgar Záyago Lau, Stacey Frederick, Guillermo...</td>\n      <td>2014</td>\n    </tr>\n    <tr>\n      <th>6</th>\n      <td>Inventory of nanotechnology companies in Mexico</td>\n      <td>This study presents an inventory of 139 nanote...</td>\n      <td>10.1007/s11051-016-3344-y</td>\n      <td>Journal of Nanoparticle Research</td>\n      <td>[Richard Appelbaum, Edgar Zayago Lau, Guillerm...</td>\n      <td>2016</td>\n    </tr>\n    <tr>\n      <th>7</th>\n      <td>Hypothermic stunning of green sea turtles in a...</td>\n      <td>Texas waters provide one of the most important...</td>\n      <td>10.1371/journal.pone.0173920</td>\n      <td>PLOS ONE</td>\n      <td>[Donna J. Shaver, Philippe E. Tissot, Mary M. ...</td>\n      <td>2017</td>\n    </tr>\n    <tr>\n      <th>8</th>\n      <td>Twelve years of nanoscience and nanotechnology...</td>\n      <td>\\nMexico is the second country in Latin Americ...</td>\n      <td>10.1007/s11051-013-2193-1</td>\n      <td>Journal of Nanoparticle Research</td>\n      <td>[Edgar Záyago Lau, Stacey Frederick, Guillermo...</td>\n      <td>2014</td>\n    </tr>\n    <tr>\n      <th>9</th>\n      <td>Inventory of nanotechnology companies in Mexico</td>\n      <td>This study presents an inventory of 139 nanote...</td>\n      <td>10.1007/s11051-016-3344-y</td>\n      <td>Journal of Nanoparticle Research</td>\n      <td>[Richard Appelbaum, Edgar Zayago Lau, Guillerm...</td>\n      <td>2016</td>\n    </tr>\n    <tr>\n      <th>10</th>\n      <td>Hypothermic stunning of green sea turtles in a...</td>\n      <td>Texas waters provide one of the most important...</td>\n      <td>10.1371/journal.pone.0173920</td>\n      <td>PLOS ONE</td>\n      <td>[Donna J. Shaver, Philippe E. Tissot, Mary M. ...</td>\n      <td>2017</td>\n    </tr>\n    <tr>\n      <th>11</th>\n      <td>Twelve years of nanoscience and nanotechnology...</td>\n      <td>\\nMexico is the second country in Latin Americ...</td>\n      <td>10.1007/s11051-013-2193-1</td>\n      <td>Journal of Nanoparticle Research</td>\n      <td>[Edgar Záyago Lau, Stacey Frederick, Guillermo...</td>\n      <td>2014</td>\n    </tr>\n    <tr>\n      <th>12</th>\n      <td>Inventory of nanotechnology companies in Mexico</td>\n      <td>This study presents an inventory of 139 nanote...</td>\n      <td>10.1007/s11051-016-3344-y</td>\n      <td>Journal of Nanoparticle Research</td>\n      <td>[Richard Appelbaum, Edgar Zayago Lau, Guillerm...</td>\n      <td>2016</td>\n    </tr>\n    <tr>\n      <th>13</th>\n      <td>Hypothermic stunning of green sea turtles in a...</td>\n      <td>Texas waters provide one of the most important...</td>\n      <td>10.1371/journal.pone.0173920</td>\n      <td>PLOS ONE</td>\n      <td>[Donna J. Shaver, Philippe E. Tissot, Mary M. ...</td>\n      <td>2017</td>\n    </tr>\n    <tr>\n      <th>14</th>\n      <td>Twelve years of nanoscience and nanotechnology...</td>\n      <td>\\nMexico is the second country in Latin Americ...</td>\n      <td>10.1007/s11051-013-2193-1</td>\n      <td>Journal of Nanoparticle Research</td>\n      <td>[Edgar Záyago Lau, Stacey Frederick, Guillermo...</td>\n      <td>2014</td>\n    </tr>\n    <tr>\n      <th>15</th>\n      <td>Inventory of nanotechnology companies in Mexico</td>\n      <td>This study presents an inventory of 139 nanote...</td>\n      <td>10.1007/s11051-016-3344-y</td>\n      <td>Journal of Nanoparticle Research</td>\n      <td>[Richard Appelbaum, Edgar Zayago Lau, Guillerm...</td>\n      <td>2016</td>\n    </tr>\n    <tr>\n      <th>16</th>\n      <td>Hypothermic stunning of green sea turtles in a...</td>\n      <td>Texas waters provide one of the most important...</td>\n      <td>10.1371/journal.pone.0173920</td>\n      <td>PLOS ONE</td>\n      <td>[Donna J. Shaver, Philippe E. Tissot, Mary M. ...</td>\n      <td>2017</td>\n    </tr>\n    <tr>\n      <th>17</th>\n      <td>Twelve years of nanoscience and nanotechnology...</td>\n      <td>\\nMexico is the second country in Latin Americ...</td>\n      <td>10.1007/s11051-013-2193-1</td>\n      <td>Journal of Nanoparticle Research</td>\n      <td>[Edgar Záyago Lau, Stacey Frederick, Guillermo...</td>\n      <td>2014</td>\n    </tr>\n    <tr>\n      <th>18</th>\n      <td>Inventory of nanotechnology companies in Mexico</td>\n      <td>This study presents an inventory of 139 nanote...</td>\n      <td>10.1007/s11051-016-3344-y</td>\n      <td>Journal of Nanoparticle Research</td>\n      <td>[Richard Appelbaum, Edgar Zayago Lau, Guillerm...</td>\n      <td>2016</td>\n    </tr>\n    <tr>\n      <th>19</th>\n      <td>Hypothermic stunning of green sea turtles in a...</td>\n      <td>Texas waters provide one of the most important...</td>\n      <td>10.1371/journal.pone.0173920</td>\n      <td>PLOS ONE</td>\n      <td>[Donna J. Shaver, Philippe E. Tissot, Mary M. ...</td>\n      <td>2017</td>\n    </tr>\n    <tr>\n      <th>20</th>\n      <td>Twelve years of nanoscience and nanotechnology...</td>\n      <td>\\nMexico is the second country in Latin Americ...</td>\n      <td>10.1007/s11051-013-2193-1</td>\n      <td>Journal of Nanoparticle Research</td>\n      <td>[Edgar Záyago Lau, Stacey Frederick, Guillermo...</td>\n      <td>2014</td>\n    </tr>\n    <tr>\n      <th>21</th>\n      <td>Inventory of nanotechnology companies in Mexico</td>\n      <td>This study presents an inventory of 139 nanote...</td>\n      <td>10.1007/s11051-016-3344-y</td>\n      <td>Journal of Nanoparticle Research</td>\n      <td>[Richard Appelbaum, Edgar Zayago Lau, Guillerm...</td>\n      <td>2016</td>\n    </tr>\n    <tr>\n      <th>22</th>\n      <td>Hypothermic stunning of green sea turtles in a...</td>\n      <td>Texas waters provide one of the most important...</td>\n      <td>10.1371/journal.pone.0173920</td>\n      <td>PLOS ONE</td>\n      <td>[Donna J. Shaver, Philippe E. Tissot, Mary M. ...</td>\n      <td>2017</td>\n    </tr>\n    <tr>\n      <th>23</th>\n      <td>Twelve years of nanoscience and nanotechnology...</td>\n      <td>\\nMexico is the second country in Latin Americ...</td>\n      <td>10.1007/s11051-013-2193-1</td>\n      <td>Journal of Nanoparticle Research</td>\n      <td>[Edgar Záyago Lau, Stacey Frederick, Guillermo...</td>\n      <td>2014</td>\n    </tr>\n    <tr>\n      <th>24</th>\n      <td>Inventory of nanotechnology companies in Mexico</td>\n      <td>This study presents an inventory of 139 nanote...</td>\n      <td>10.1007/s11051-016-3344-y</td>\n      <td>Journal of Nanoparticle Research</td>\n      <td>[Richard Appelbaum, Edgar Zayago Lau, Guillerm...</td>\n      <td>2016</td>\n    </tr>\n    <tr>\n      <th>25</th>\n      <td>Hypothermic stunning of green sea turtles in a...</td>\n      <td>Texas waters provide one of the most important...</td>\n      <td>10.1371/journal.pone.0173920</td>\n      <td>PLOS ONE</td>\n      <td>[Donna J. Shaver, Philippe E. Tissot, Mary M. ...</td>\n      <td>2017</td>\n    </tr>\n    <tr>\n      <th>26</th>\n      <td>Twelve years of nanoscience and nanotechnology...</td>\n      <td>\\nMexico is the second country in Latin Americ...</td>\n      <td>10.1007/s11051-013-2193-1</td>\n      <td>Journal of Nanoparticle Research</td>\n      <td>[Edgar Záyago Lau, Stacey Frederick, Guillermo...</td>\n      <td>2014</td>\n    </tr>\n    <tr>\n      <th>27</th>\n      <td>Inventory of nanotechnology companies in Mexico</td>\n      <td>This study presents an inventory of 139 nanote...</td>\n      <td>10.1007/s11051-016-3344-y</td>\n      <td>Journal of Nanoparticle Research</td>\n      <td>[Richard Appelbaum, Edgar Zayago Lau, Guillerm...</td>\n      <td>2016</td>\n    </tr>\n    <tr>\n      <th>28</th>\n      <td>Hypothermic stunning of green sea turtles in a...</td>\n      <td>Texas waters provide one of the most important...</td>\n      <td>10.1371/journal.pone.0173920</td>\n      <td>PLOS ONE</td>\n      <td>[Donna J. Shaver, Philippe E. Tissot, Mary M. ...</td>\n      <td>2017</td>\n    </tr>\n    <tr>\n      <th>29</th>\n      <td>Twelve years of nanoscience and nanotechnology...</td>\n      <td>\\nMexico is the second country in Latin Americ...</td>\n      <td>10.1007/s11051-013-2193-1</td>\n      <td>Journal of Nanoparticle Research</td>\n      <td>[Edgar Záyago Lau, Stacey Frederick, Guillermo...</td>\n      <td>2014</td>\n    </tr>\n    <tr>\n      <th>30</th>\n      <td>Inventory of nanotechnology companies in Mexico</td>\n      <td>This study presents an inventory of 139 nanote...</td>\n      <td>10.1007/s11051-016-3344-y</td>\n      <td>Journal of Nanoparticle Research</td>\n      <td>[Richard Appelbaum, Edgar Zayago Lau, Guillerm...</td>\n      <td>2016</td>\n    </tr>\n    <tr>\n      <th>31</th>\n      <td>Hypothermic stunning of green sea turtles in a...</td>\n      <td>Texas waters provide one of the most important...</td>\n      <td>10.1371/journal.pone.0173920</td>\n      <td>PLOS ONE</td>\n      <td>[Donna J. Shaver, Philippe E. Tissot, Mary M. ...</td>\n      <td>2017</td>\n    </tr>\n    <tr>\n      <th>32</th>\n      <td>Twelve years of nanoscience and nanotechnology...</td>\n      <td>\\nMexico is the second country in Latin Americ...</td>\n      <td>10.1007/s11051-013-2193-1</td>\n      <td>Journal of Nanoparticle Research</td>\n      <td>[Edgar Záyago Lau, Stacey Frederick, Guillermo...</td>\n      <td>2014</td>\n    </tr>\n    <tr>\n      <th>33</th>\n      <td>Inventory of nanotechnology companies in Mexico</td>\n      <td>This study presents an inventory of 139 nanote...</td>\n      <td>10.1007/s11051-016-3344-y</td>\n      <td>Journal of Nanoparticle Research</td>\n      <td>[Richard Appelbaum, Edgar Zayago Lau, Guillerm...</td>\n      <td>2016</td>\n    </tr>\n    <tr>\n      <th>34</th>\n      <td>Hypothermic stunning of green sea turtles in a...</td>\n      <td>Texas waters provide one of the most important...</td>\n      <td>10.1371/journal.pone.0173920</td>\n      <td>PLOS ONE</td>\n      <td>[Donna J. Shaver, Philippe E. Tissot, Mary M. ...</td>\n      <td>2017</td>\n    </tr>\n    <tr>\n      <th>35</th>\n      <td>Twelve years of nanoscience and nanotechnology...</td>\n      <td>\\nMexico is the second country in Latin Americ...</td>\n      <td>10.1007/s11051-013-2193-1</td>\n      <td>Journal of Nanoparticle Research</td>\n      <td>[Edgar Záyago Lau, Stacey Frederick, Guillermo...</td>\n      <td>2014</td>\n    </tr>\n  </tbody>\n</table>\n</div>",
      "text/plain": "                                                Title  \\\n0     Inventory of nanotechnology companies in Mexico   \n1   Hypothermic stunning of green sea turtles in a...   \n2   Twelve years of nanoscience and nanotechnology...   \n3     Inventory of nanotechnology companies in Mexico   \n4   Hypothermic stunning of green sea turtles in a...   \n5   Twelve years of nanoscience and nanotechnology...   \n6     Inventory of nanotechnology companies in Mexico   \n7   Hypothermic stunning of green sea turtles in a...   \n8   Twelve years of nanoscience and nanotechnology...   \n9     Inventory of nanotechnology companies in Mexico   \n10  Hypothermic stunning of green sea turtles in a...   \n11  Twelve years of nanoscience and nanotechnology...   \n12    Inventory of nanotechnology companies in Mexico   \n13  Hypothermic stunning of green sea turtles in a...   \n14  Twelve years of nanoscience and nanotechnology...   \n15    Inventory of nanotechnology companies in Mexico   \n16  Hypothermic stunning of green sea turtles in a...   \n17  Twelve years of nanoscience and nanotechnology...   \n18    Inventory of nanotechnology companies in Mexico   \n19  Hypothermic stunning of green sea turtles in a...   \n20  Twelve years of nanoscience and nanotechnology...   \n21    Inventory of nanotechnology companies in Mexico   \n22  Hypothermic stunning of green sea turtles in a...   \n23  Twelve years of nanoscience and nanotechnology...   \n24    Inventory of nanotechnology companies in Mexico   \n25  Hypothermic stunning of green sea turtles in a...   \n26  Twelve years of nanoscience and nanotechnology...   \n27    Inventory of nanotechnology companies in Mexico   \n28  Hypothermic stunning of green sea turtles in a...   \n29  Twelve years of nanoscience and nanotechnology...   \n30    Inventory of nanotechnology companies in Mexico   \n31  Hypothermic stunning of green sea turtles in a...   \n32  Twelve years of nanoscience and nanotechnology...   \n33    Inventory of nanotechnology companies in Mexico   \n34  Hypothermic stunning of green sea turtles in a...   \n35  Twelve years of nanoscience and nanotechnology...   \n\n                                             Abstract  \\\n0   This study presents an inventory of 139 nanote...   \n1   Texas waters provide one of the most important...   \n2   \\nMexico is the second country in Latin Americ...   \n3   This study presents an inventory of 139 nanote...   \n4   Texas waters provide one of the most important...   \n5   \\nMexico is the second country in Latin Americ...   \n6   This study presents an inventory of 139 nanote...   \n7   Texas waters provide one of the most important...   \n8   \\nMexico is the second country in Latin Americ...   \n9   This study presents an inventory of 139 nanote...   \n10  Texas waters provide one of the most important...   \n11  \\nMexico is the second country in Latin Americ...   \n12  This study presents an inventory of 139 nanote...   \n13  Texas waters provide one of the most important...   \n14  \\nMexico is the second country in Latin Americ...   \n15  This study presents an inventory of 139 nanote...   \n16  Texas waters provide one of the most important...   \n17  \\nMexico is the second country in Latin Americ...   \n18  This study presents an inventory of 139 nanote...   \n19  Texas waters provide one of the most important...   \n20  \\nMexico is the second country in Latin Americ...   \n21  This study presents an inventory of 139 nanote...   \n22  Texas waters provide one of the most important...   \n23  \\nMexico is the second country in Latin Americ...   \n24  This study presents an inventory of 139 nanote...   \n25  Texas waters provide one of the most important...   \n26  \\nMexico is the second country in Latin Americ...   \n27  This study presents an inventory of 139 nanote...   \n28  Texas waters provide one of the most important...   \n29  \\nMexico is the second country in Latin Americ...   \n30  This study presents an inventory of 139 nanote...   \n31  Texas waters provide one of the most important...   \n32  \\nMexico is the second country in Latin Americ...   \n33  This study presents an inventory of 139 nanote...   \n34  Texas waters provide one of the most important...   \n35  \\nMexico is the second country in Latin Americ...   \n\n                             DOI                           Journal  \\\n0      10.1007/s11051-016-3344-y  Journal of Nanoparticle Research   \n1   10.1371/journal.pone.0173920                          PLOS ONE   \n2      10.1007/s11051-013-2193-1  Journal of Nanoparticle Research   \n3      10.1007/s11051-016-3344-y  Journal of Nanoparticle Research   \n4   10.1371/journal.pone.0173920                          PLOS ONE   \n5      10.1007/s11051-013-2193-1  Journal of Nanoparticle Research   \n6      10.1007/s11051-016-3344-y  Journal of Nanoparticle Research   \n7   10.1371/journal.pone.0173920                          PLOS ONE   \n8      10.1007/s11051-013-2193-1  Journal of Nanoparticle Research   \n9      10.1007/s11051-016-3344-y  Journal of Nanoparticle Research   \n10  10.1371/journal.pone.0173920                          PLOS ONE   \n11     10.1007/s11051-013-2193-1  Journal of Nanoparticle Research   \n12     10.1007/s11051-016-3344-y  Journal of Nanoparticle Research   \n13  10.1371/journal.pone.0173920                          PLOS ONE   \n14     10.1007/s11051-013-2193-1  Journal of Nanoparticle Research   \n15     10.1007/s11051-016-3344-y  Journal of Nanoparticle Research   \n16  10.1371/journal.pone.0173920                          PLOS ONE   \n17     10.1007/s11051-013-2193-1  Journal of Nanoparticle Research   \n18     10.1007/s11051-016-3344-y  Journal of Nanoparticle Research   \n19  10.1371/journal.pone.0173920                          PLOS ONE   \n20     10.1007/s11051-013-2193-1  Journal of Nanoparticle Research   \n21     10.1007/s11051-016-3344-y  Journal of Nanoparticle Research   \n22  10.1371/journal.pone.0173920                          PLOS ONE   \n23     10.1007/s11051-013-2193-1  Journal of Nanoparticle Research   \n24     10.1007/s11051-016-3344-y  Journal of Nanoparticle Research   \n25  10.1371/journal.pone.0173920                          PLOS ONE   \n26     10.1007/s11051-013-2193-1  Journal of Nanoparticle Research   \n27     10.1007/s11051-016-3344-y  Journal of Nanoparticle Research   \n28  10.1371/journal.pone.0173920                          PLOS ONE   \n29     10.1007/s11051-013-2193-1  Journal of Nanoparticle Research   \n30     10.1007/s11051-016-3344-y  Journal of Nanoparticle Research   \n31  10.1371/journal.pone.0173920                          PLOS ONE   \n32     10.1007/s11051-013-2193-1  Journal of Nanoparticle Research   \n33     10.1007/s11051-016-3344-y  Journal of Nanoparticle Research   \n34  10.1371/journal.pone.0173920                          PLOS ONE   \n35     10.1007/s11051-013-2193-1  Journal of Nanoparticle Research   \n\n                                                Auths  Year  \n0   [Richard Appelbaum, Edgar Zayago Lau, Guillerm...  2016  \n1   [Donna J. Shaver, Philippe E. Tissot, Mary M. ...  2017  \n2   [Edgar Záyago Lau, Stacey Frederick, Guillermo...  2014  \n3   [Richard Appelbaum, Edgar Zayago Lau, Guillerm...  2016  \n4   [Donna J. Shaver, Philippe E. Tissot, Mary M. ...  2017  \n5   [Edgar Záyago Lau, Stacey Frederick, Guillermo...  2014  \n6   [Richard Appelbaum, Edgar Zayago Lau, Guillerm...  2016  \n7   [Donna J. Shaver, Philippe E. Tissot, Mary M. ...  2017  \n8   [Edgar Záyago Lau, Stacey Frederick, Guillermo...  2014  \n9   [Richard Appelbaum, Edgar Zayago Lau, Guillerm...  2016  \n10  [Donna J. Shaver, Philippe E. Tissot, Mary M. ...  2017  \n11  [Edgar Záyago Lau, Stacey Frederick, Guillermo...  2014  \n12  [Richard Appelbaum, Edgar Zayago Lau, Guillerm...  2016  \n13  [Donna J. Shaver, Philippe E. Tissot, Mary M. ...  2017  \n14  [Edgar Záyago Lau, Stacey Frederick, Guillermo...  2014  \n15  [Richard Appelbaum, Edgar Zayago Lau, Guillerm...  2016  \n16  [Donna J. Shaver, Philippe E. Tissot, Mary M. ...  2017  \n17  [Edgar Záyago Lau, Stacey Frederick, Guillermo...  2014  \n18  [Richard Appelbaum, Edgar Zayago Lau, Guillerm...  2016  \n19  [Donna J. Shaver, Philippe E. Tissot, Mary M. ...  2017  \n20  [Edgar Záyago Lau, Stacey Frederick, Guillermo...  2014  \n21  [Richard Appelbaum, Edgar Zayago Lau, Guillerm...  2016  \n22  [Donna J. Shaver, Philippe E. Tissot, Mary M. ...  2017  \n23  [Edgar Záyago Lau, Stacey Frederick, Guillermo...  2014  \n24  [Richard Appelbaum, Edgar Zayago Lau, Guillerm...  2016  \n25  [Donna J. Shaver, Philippe E. Tissot, Mary M. ...  2017  \n26  [Edgar Záyago Lau, Stacey Frederick, Guillermo...  2014  \n27  [Richard Appelbaum, Edgar Zayago Lau, Guillerm...  2016  \n28  [Donna J. Shaver, Philippe E. Tissot, Mary M. ...  2017  \n29  [Edgar Záyago Lau, Stacey Frederick, Guillermo...  2014  \n30  [Richard Appelbaum, Edgar Zayago Lau, Guillerm...  2016  \n31  [Donna J. Shaver, Philippe E. Tissot, Mary M. ...  2017  \n32  [Edgar Záyago Lau, Stacey Frederick, Guillermo...  2014  \n33  [Richard Appelbaum, Edgar Zayago Lau, Guillerm...  2016  \n34  [Donna J. Shaver, Philippe E. Tissot, Mary M. ...  2017  \n35  [Edgar Záyago Lau, Stacey Frederick, Guillermo...  2014  "
     },
     "execution_count": 48,
     "metadata": {},
     "output_type": "execute_result"
    }
   ],
   "source": [
    "nano_mex"
   ]
  },
  {
   "cell_type": "code",
   "execution_count": 20,
   "metadata": {},
   "outputs": [],
   "source": [
    "comment = \"\"\n",
    "\n",
    "ablation_cites = cite_manager(apps.iloc[], comment, ablation_cites)"
   ]
  },
  {
   "cell_type": "code",
   "execution_count": 21,
   "metadata": {},
   "outputs": [
    {
     "data": {
      "text/html": "<div>\n<style scoped>\n    .dataframe tbody tr th:only-of-type {\n        vertical-align: middle;\n    }\n\n    .dataframe tbody tr th {\n        vertical-align: top;\n    }\n\n    .dataframe thead th {\n        text-align: right;\n    }\n</style>\n<table border=\"1\" class=\"dataframe\">\n  <thead>\n    <tr style=\"text-align: right;\">\n      <th></th>\n      <th>Title</th>\n      <th>Abstract</th>\n      <th>DOI</th>\n      <th>Journal</th>\n      <th>Auths</th>\n      <th>Year</th>\n      <th>comment</th>\n    </tr>\n  </thead>\n  <tbody>\n    <tr>\n      <th>0</th>\n      <td>Ovonic threshold switching in polycrystalline...</td>\n      <td>Chalcogenide materials of the amorphous phase ...</td>\n      <td>https://doi.org/10.1088/1361-6528/aafe13</td>\n      <td>Nanotechnology</td>\n      <td>[Taeho Kim, Youngjae Kim, Ingwan Lee, Dayoon L...</td>\n      <td>2019</td>\n      <td>ZnTe por RF 2019 temperaturas de 400°</td>\n    </tr>\n    <tr>\n      <th>1</th>\n      <td>Effect of in situ annealing on structure and ...</td>\n      <td>An improvement in morphology, crystallinity, a...</td>\n      <td>https://doi.org/10.1088/1742-6596/59/1/152</td>\n      <td>J. Phys.: Conf. Ser.</td>\n      <td>[Takaaki Orii, Makoto Hirasawa, Takafumi Seto]</td>\n      <td>2007</td>\n      <td>Mejoramiento de la calidad cristalina ZnTe pld...</td>\n    </tr>\n    <tr>\n      <th>2</th>\n      <td>Properties of Nitrogen-Doped Zinc Telluride Fi...</td>\n      <td>Zinc telluride (ZnTe) films have been deposite...</td>\n      <td>10.1007/s11664-017-5502-0</td>\n      <td>Journal of Electronic Materials</td>\n      <td>[Tushar M. Shimpi, Jennifer Drayton, Drew E. S...</td>\n      <td>2017</td>\n      <td>Disminución de la calidad cristalina con la pr...</td>\n    </tr>\n    <tr>\n      <th>3</th>\n      <td>Nitrogen doping of ZnTe for the preparation of...</td>\n      <td>Nitrogen-doped p-type zinc telluride (p-ZnTe) ...</td>\n      <td>10.1007/s10853-013-7438-y</td>\n      <td>Journal of Materials Science</td>\n      <td>[A. E. Rakhshani, S. Thomas]</td>\n      <td>2013</td>\n      <td>Disminución del gap (1.4 eV) N= 5/100 con un a...</td>\n    </tr>\n    <tr>\n      <th>4</th>\n      <td>Photovoltaic-pyroelectric effect coupled broad...</td>\n      <td>Broadband photodetection is widely used in com...</td>\n      <td>10.1016/j.nanoen.2019.05.050</td>\n      <td>Nano Energy</td>\n      <td>[Daotong You, Chunxiang Xu, Wei Zhang, Jie Zha...</td>\n      <td>2019</td>\n      <td>Aplicaciones con ZnO para electronica, como la...</td>\n    </tr>\n    <tr>\n      <th>5</th>\n      <td>Optical properties and band alignments in ZnT...</td>\n      <td>Integration of a layered two-dimensional (2D) ...</td>\n      <td>https://doi.org/10.1088/1361-6528/aa87c5</td>\n      <td>Nanotechnology</td>\n      <td>[Intu Sharma, B R Mehta]</td>\n      <td>2017</td>\n      <td>Posibles aplicaciones es investigar la interfa...</td>\n    </tr>\n  </tbody>\n</table>\n</div>",
      "text/plain": "                                               Title  \\\n0   Ovonic threshold switching in polycrystalline...   \n1   Effect of in situ annealing on structure and ...   \n2  Properties of Nitrogen-Doped Zinc Telluride Fi...   \n3  Nitrogen doping of ZnTe for the preparation of...   \n4  Photovoltaic-pyroelectric effect coupled broad...   \n5   Optical properties and band alignments in ZnT...   \n\n                                            Abstract  \\\n0  Chalcogenide materials of the amorphous phase ...   \n1  An improvement in morphology, crystallinity, a...   \n2  Zinc telluride (ZnTe) films have been deposite...   \n3  Nitrogen-doped p-type zinc telluride (p-ZnTe) ...   \n4  Broadband photodetection is widely used in com...   \n5  Integration of a layered two-dimensional (2D) ...   \n\n                                          DOI  \\\n0    https://doi.org/10.1088/1361-6528/aafe13   \n1  https://doi.org/10.1088/1742-6596/59/1/152   \n2                   10.1007/s11664-017-5502-0   \n3                   10.1007/s10853-013-7438-y   \n4                10.1016/j.nanoen.2019.05.050   \n5    https://doi.org/10.1088/1361-6528/aa87c5   \n\n                           Journal  \\\n0                   Nanotechnology   \n1             J. Phys.: Conf. Ser.   \n2  Journal of Electronic Materials   \n3     Journal of Materials Science   \n4                      Nano Energy   \n5                   Nanotechnology   \n\n                                               Auths  Year  \\\n0  [Taeho Kim, Youngjae Kim, Ingwan Lee, Dayoon L...  2019   \n1     [Takaaki Orii, Makoto Hirasawa, Takafumi Seto]  2007   \n2  [Tushar M. Shimpi, Jennifer Drayton, Drew E. S...  2017   \n3                       [A. E. Rakhshani, S. Thomas]  2013   \n4  [Daotong You, Chunxiang Xu, Wei Zhang, Jie Zha...  2019   \n5                           [Intu Sharma, B R Mehta]  2017   \n\n                                             comment  \n0              ZnTe por RF 2019 temperaturas de 400°  \n1  Mejoramiento de la calidad cristalina ZnTe pld...  \n2  Disminución de la calidad cristalina con la pr...  \n3  Disminución del gap (1.4 eV) N= 5/100 con un a...  \n4  Aplicaciones con ZnO para electronica, como la...  \n5  Posibles aplicaciones es investigar la interfa...  "
     },
     "execution_count": 21,
     "metadata": {},
     "output_type": "execute_result"
    }
   ],
   "source": [
    "ablation_cites"
   ]
  },
  {
   "cell_type": "code",
   "execution_count": 44,
   "metadata": {},
   "outputs": [],
   "source": [
    "comment = \"Aplicaciones\"\n",
    "\n",
    "ordered_cites = cite_manager(apps.iloc[3], comment, ordered_cites)"
   ]
  },
  {
   "cell_type": "code",
   "execution_count": 45,
   "metadata": {},
   "outputs": [
    {
     "data": {
      "text/html": "<div>\n<style scoped>\n    .dataframe tbody tr th:only-of-type {\n        vertical-align: middle;\n    }\n\n    .dataframe tbody tr th {\n        vertical-align: top;\n    }\n\n    .dataframe thead th {\n        text-align: right;\n    }\n</style>\n<table border=\"1\" class=\"dataframe\">\n  <thead>\n    <tr style=\"text-align: right;\">\n      <th></th>\n      <th>Title</th>\n      <th>Abstract</th>\n      <th>DOI</th>\n      <th>Journal</th>\n      <th>Auths</th>\n      <th>Year</th>\n      <th>comment</th>\n    </tr>\n  </thead>\n  <tbody>\n    <tr>\n      <th>0</th>\n      <td>Optical properties and band alignments in ZnT...</td>\n      <td>Integration of a layered two-dimensional (2D) ...</td>\n      <td>https://doi.org/10.1088/1361-6528/aa87c5</td>\n      <td>Nanotechnology</td>\n      <td>[Intu Sharma, B R Mehta]</td>\n      <td>2017</td>\n      <td>Aplicaciones</td>\n    </tr>\n    <tr>\n      <th>1</th>\n      <td>Propagation loss reduction of ZnMgTe/ZnTe wav...</td>\n      <td>A ZnMgTe/ZnTe electro-optic (EO) waveguide has...</td>\n      <td>https://doi.org/10.7567/JJAP.55.082201</td>\n      <td>Jpn. J. Appl. Phys.</td>\n      <td>[Wei-Che Sun, Fukino Kazami, Jing Wang, Taizo ...</td>\n      <td>2016</td>\n      <td>Aplicaciones</td>\n    </tr>\n    <tr>\n      <th>2</th>\n      <td>Electrical properties of Cu doped p-ZnTe nano...</td>\n      <td>Single crystalline zincblende p-ZnTe nanowires...</td>\n      <td>https://doi.org/10.1088/0957-4484/17/24/002</td>\n      <td>Nanotechnology</td>\n      <td>[H B Huo, L Dai, C Liu, L P You, W Q Yang, R M...</td>\n      <td>2006</td>\n      <td>Aplicaciones</td>\n    </tr>\n  </tbody>\n</table>\n</div>",
      "text/plain": "                                               Title  \\\n0   Optical properties and band alignments in ZnT...   \n1   Propagation loss reduction of ZnMgTe/ZnTe wav...   \n2   Electrical properties of Cu doped p-ZnTe nano...   \n\n                                            Abstract  \\\n0  Integration of a layered two-dimensional (2D) ...   \n1  A ZnMgTe/ZnTe electro-optic (EO) waveguide has...   \n2  Single crystalline zincblende p-ZnTe nanowires...   \n\n                                           DOI               Journal  \\\n0     https://doi.org/10.1088/1361-6528/aa87c5        Nanotechnology   \n1       https://doi.org/10.7567/JJAP.55.082201   Jpn. J. Appl. Phys.   \n2  https://doi.org/10.1088/0957-4484/17/24/002        Nanotechnology   \n\n                                               Auths  Year       comment  \n0                           [Intu Sharma, B R Mehta]  2017  Aplicaciones  \n1  [Wei-Che Sun, Fukino Kazami, Jing Wang, Taizo ...  2016  Aplicaciones  \n2  [H B Huo, L Dai, C Liu, L P You, W Q Yang, R M...  2006  Aplicaciones  "
     },
     "execution_count": 45,
     "metadata": {},
     "output_type": "execute_result"
    }
   ],
   "source": [
    "ordered_cites"
   ]
  },
  {
   "cell_type": "code",
   "execution_count": 14,
   "metadata": {},
   "outputs": [],
   "source": [
    "sputt_znte = dbsearch(\"sputt\", ZnTeFilms)"
   ]
  },
  {
   "cell_type": "code",
   "execution_count": 16,
   "metadata": {},
   "outputs": [],
   "source": [
    "apps = dbsearch(\"applications\", ZnTeFilms)"
   ]
  },
  {
   "cell_type": "code",
   "execution_count": 43,
   "metadata": {},
   "outputs": [
    {
     "name": "stdout",
     "output_type": "stream",
     "text": "Single crystalline zincblende p-ZnTe nanowires (NWs) were synthesized via the vapourphase transport method. Based on either as-grown or Cu doped ZnTe NWs, single NWfield effect transistors were fabricated and they were used to study the electricalproperties of ZnTe NWs. Electrical transport measurements show that the as-grownZnTe NWs are of p-type and very high resistivity. After 30 min immersion inCu(NO3)2 solution, their conductivity can be increased by about three orders of magnitude. The holeconcentrations of the p-type ZnTe nanowires could be controlled in a range from7.0 × 1017 to3.5 × 1018 cm−3 by changing the immersion duration. The doped p-type ZnTe NWs may have potentialapplications in nanoscale electronic and optoelectronic devices.\n\n\n Electrical properties of Cu doped p-ZnTe nanowires\n\n\n2006\n\n\nhttps://doi.org/10.1088/0957-4484/17/24/002\n\n\n Nanotechnology\n"
    }
   ],
   "source": [
    "geve_art(3, apps)"
   ]
  },
  {
   "cell_type": "code",
   "execution_count": 55,
   "metadata": {},
   "outputs": [
    {
     "name": "stdout",
     "output_type": "stream",
     "text": "This study presents an inventory of 139 nanotechnology companies in Mexico, identifying their geographic distribution, economic sector classification, and position in the nanotechnology value chain. We find that the principal economic sector of nanotechnology-engaged firms involves the manufacture of chemical products, which largely serve as means of production (primary or intermediate materials; instruments and equipment) for industrial processes. The methodology used in this analysis could be replicated in other countries without major modifications.\n\n\nInventory of nanotechnology companies in Mexico\n\n\n2016\n\n\n10.1007/s11051-016-3344-y\n\n\nJournal of Nanoparticle Research\n"
    }
   ],
   "source": [
    "geve_art(0, nano_mex)"
   ]
  },
  {
   "cell_type": "code",
   "execution_count": 54,
   "metadata": {},
   "outputs": [
    {
     "data": {
      "text/plain": "['Richard Appelbaum',\n 'Edgar Zayago Lau',\n 'Guillermo Foladori',\n 'Rachel Parker',\n 'Laura Liliana Villa Vazquez',\n 'Eduardo Robles Belmont',\n 'Edgar Ramón Arteaga Figueroa',\n 'More']"
     },
     "execution_count": 54,
     "metadata": {},
     "output_type": "execute_result"
    }
   ],
   "source": [
    "nano_mex.iloc[0][\"Auths\"]"
   ]
  },
  {
   "cell_type": "code",
   "execution_count": null,
   "metadata": {},
   "outputs": [],
   "source": []
  }
 ]
}